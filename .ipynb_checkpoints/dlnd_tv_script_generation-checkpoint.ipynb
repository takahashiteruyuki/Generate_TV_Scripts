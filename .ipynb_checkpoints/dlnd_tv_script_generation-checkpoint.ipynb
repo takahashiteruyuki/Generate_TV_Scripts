{
 "cells": [
  {
   "cell_type": "markdown",
   "metadata": {
    "deletable": true,
    "editable": true
   },
   "source": [
    "# TV Script Generation\n",
    "In this project, you'll generate your own [Simpsons](https://en.wikipedia.org/wiki/The_Simpsons) TV scripts using RNNs.  You'll be using part of the [Simpsons dataset](https://www.kaggle.com/wcukierski/the-simpsons-by-the-data) of scripts from 27 seasons.  The Neural Network you'll build will generate a new TV script for a scene at [Moe's Tavern](https://simpsonswiki.com/wiki/Moe's_Tavern).\n",
    "## Get the Data\n",
    "The data is already provided for you.  You'll be using a subset of the original dataset.  It consists of only the scenes in Moe's Tavern.  This doesn't include other versions of the tavern, like \"Moe's Cavern\", \"Flaming Moe's\", \"Uncle Moe's Family Feed-Bag\", etc.."
   ]
  },
  {
   "cell_type": "code",
   "execution_count": 1,
   "metadata": {
    "collapsed": true,
    "deletable": true,
    "editable": true
   },
   "outputs": [],
   "source": [
    "\"\"\"\n",
    "DON'T MODIFY ANYTHING IN THIS CELL\n",
    "\"\"\"\n",
    "import helper\n",
    "\n",
    "data_dir = './data/simpsons/moes_tavern_lines.txt'\n",
    "text = helper.load_data(data_dir)\n",
    "# Ignore notice, since we don't use it for analysing the data\n",
    "text = text[81:]"
   ]
  },
  {
   "cell_type": "markdown",
   "metadata": {
    "deletable": true,
    "editable": true
   },
   "source": [
    "## Explore the Data\n",
    "Play around with `view_sentence_range` to view different parts of the data."
   ]
  },
  {
   "cell_type": "code",
   "execution_count": 2,
   "metadata": {
    "collapsed": false,
    "deletable": true,
    "editable": true
   },
   "outputs": [
    {
     "name": "stdout",
     "output_type": "stream",
     "text": [
      "Dataset Stats\n",
      "Roughly the number of unique words: 11492\n",
      "Number of scenes: 262\n",
      "Average number of sentences in each scene: 15.248091603053435\n",
      "Number of lines: 4257\n",
      "Average number of words in each line: 11.50434578341555\n",
      "\n",
      "The sentences 0 to 10:\n",
      "Moe_Szyslak: (INTO PHONE) Moe's Tavern. Where the elite meet to drink.\n",
      "Bart_Simpson: Eh, yeah, hello, is Mike there? Last name, Rotch.\n",
      "Moe_Szyslak: (INTO PHONE) Hold on, I'll check. (TO BARFLIES) Mike Rotch. Mike Rotch. Hey, has anybody seen Mike Rotch, lately?\n",
      "Moe_Szyslak: (INTO PHONE) Listen you little puke. One of these days I'm gonna catch you, and I'm gonna carve my name on your back with an ice pick.\n",
      "Moe_Szyslak: What's the matter Homer? You're not your normal effervescent self.\n",
      "Homer_Simpson: I got my problems, Moe. Give me another one.\n",
      "Moe_Szyslak: Homer, hey, you should not drink to forget your problems.\n",
      "Barney_Gumble: Yeah, you should only drink to enhance your social skills.\n",
      "\n",
      "\n"
     ]
    }
   ],
   "source": [
    "view_sentence_range = (0, 10)\n",
    "\n",
    "\"\"\"\n",
    "DON'T MODIFY ANYTHING IN THIS CELL\n",
    "\"\"\"\n",
    "import numpy as np\n",
    "\n",
    "print('Dataset Stats')\n",
    "print('Roughly the number of unique words: {}'.format(len({word: None for word in text.split()})))\n",
    "scenes = text.split('\\n\\n')\n",
    "print('Number of scenes: {}'.format(len(scenes)))\n",
    "sentence_count_scene = [scene.count('\\n') for scene in scenes]\n",
    "print('Average number of sentences in each scene: {}'.format(np.average(sentence_count_scene)))\n",
    "\n",
    "sentences = [sentence for scene in scenes for sentence in scene.split('\\n')]\n",
    "print('Number of lines: {}'.format(len(sentences)))\n",
    "word_count_sentence = [len(sentence.split()) for sentence in sentences]\n",
    "print('Average number of words in each line: {}'.format(np.average(word_count_sentence)))\n",
    "\n",
    "print()\n",
    "print('The sentences {} to {}:'.format(*view_sentence_range))\n",
    "print('\\n'.join(text.split('\\n')[view_sentence_range[0]:view_sentence_range[1]]))"
   ]
  },
  {
   "cell_type": "markdown",
   "metadata": {
    "deletable": true,
    "editable": true
   },
   "source": [
    "## Implement Preprocessing Functions\n",
    "The first thing to do to any dataset is preprocessing.  Implement the following preprocessing functions below:\n",
    "- Lookup Table\n",
    "- Tokenize Punctuation\n",
    "\n",
    "### Lookup Table\n",
    "To create a word embedding, you first need to transform the words to ids.  In this function, create two dictionaries:\n",
    "- Dictionary to go from the words to an id, we'll call `vocab_to_int`\n",
    "- Dictionary to go from the id to word, we'll call `int_to_vocab`\n",
    "\n",
    "Return these dictionaries in the following tuple `(vocab_to_int, int_to_vocab)`"
   ]
  },
  {
   "cell_type": "code",
   "execution_count": 3,
   "metadata": {
    "collapsed": false,
    "deletable": true,
    "editable": true
   },
   "outputs": [
    {
     "name": "stdout",
     "output_type": "stream",
     "text": [
      "{'one': 0, 'hey': 1, 'you': 2, \"moe's\": 4, 'homer': 5, \"i'll\": 6, 'back': 7, 'listen': 27, 'me': 9, 'moe_szyslak': 53, 'days': 10, 'there': 11, 'where': 12, 'on': 13, 'social': 16, 'drink': 15, 'check': 17, 'only': 18, 'tavern': 30, 'mike': 19, 'is': 20, 'your': 21, 'catch': 22, 'seen': 23, 'to': 24, 'moe': 26, 'pick': 28, 'skills': 61, 'not': 58, \"you're\": 31, 'problems': 33, 'bart_simpson': 34, 'these': 35, 'barney_gumble': 36, 'has': 37, 'gonna': 14, 'matter': 40, \"i'm\": 39, 'normal': 32, 'last': 41, 'rotch': 70, 'of': 42, 'got': 44, 'puke': 45, 'an': 47, 'meet': 48, 'little': 50, 'and': 51, 'elite': 52, 'with': 54, 'whats': 55, 'name': 56, 'ice': 57, 'self': 60, 'carve': 8, 'hold': 62, 'effervescent': 59, 'anybody': 63, 'homer_simpson': 69, 'the': 64, 'my': 38, 'give': 65, 'i': 43, 'hello': 49, 'should': 46, 'eh': 66, 'yeah': 67, 'another': 29, 'lately': 68, 'enhance': 3, 'forget': 25}\n",
      "Tests Passed\n"
     ]
    }
   ],
   "source": [
    "import numpy as np\n",
    "import problem_unittests as tests\n",
    "\n",
    "def create_lookup_tables(text):\n",
    "    \"\"\"\n",
    "    Create lookup tables for vocabulary\n",
    "    :param text: The text of tv scripts split into words\n",
    "    :return: A tuple of dicts (vocab_to_int, int_to_vocab)\n",
    "    \"\"\"\n",
    "    # TODO: Implement Function\n",
    "\n",
    "    text = list(set(text))    \n",
    "    index = range(len(text))   \n",
    "    int_to_vocab = dict(zip(index, text))   \n",
    "    vocab_to_int = dict(zip(text, index)) \n",
    "    print(vocab_to_int)\n",
    "    return vocab_to_int, int_to_vocab\n",
    "\n",
    "\n",
    "\"\"\"\n",
    "DON'T MODIFY ANYTHING IN THIS CELL THAT IS BELOW THIS LINE\n",
    "\"\"\"\n",
    "tests.test_create_lookup_tables(create_lookup_tables)"
   ]
  },
  {
   "cell_type": "markdown",
   "metadata": {
    "deletable": true,
    "editable": true
   },
   "source": [
    "### Tokenize Punctuation\n",
    "We'll be splitting the script into a word array using spaces as delimiters.  However, punctuations like periods and exclamation marks make it hard for the neural network to distinguish between the word \"bye\" and \"bye!\".\n",
    "\n",
    "Implement the function `token_lookup` to return a dict that will be used to tokenize symbols like \"!\" into \"||Exclamation_Mark||\".  Create a dictionary for the following symbols where the symbol is the key and value is the token:\n",
    "- Period ( . )\n",
    "- Comma ( , )\n",
    "- Quotation Mark ( \" )\n",
    "- Semicolon ( ; )\n",
    "- Exclamation mark ( ! )\n",
    "- Question mark ( ? )\n",
    "- Left Parentheses ( ( )\n",
    "- Right Parentheses ( ) )\n",
    "- Dash ( -- )\n",
    "- Return ( \\n )\n",
    "\n",
    "This dictionary will be used to token the symbols and add the delimiter (space) around it.  This separates the symbols as it's own word, making it easier for the neural network to predict on the next word. Make sure you don't use a token that could be confused as a word. Instead of using the token \"dash\", try using something like \"||dash||\"."
   ]
  },
  {
   "cell_type": "code",
   "execution_count": 4,
   "metadata": {
    "collapsed": false,
    "deletable": true,
    "editable": true
   },
   "outputs": [
    {
     "name": "stdout",
     "output_type": "stream",
     "text": [
      "Tests Passed\n"
     ]
    }
   ],
   "source": [
    "def token_lookup():\n",
    "    \"\"\"\n",
    "    Generate a dict to turn punctuation into a token.\n",
    "    :return: Tokenize dictionary where the key is the punctuation and the value is the token\n",
    "    \"\"\"\n",
    "    # TODO: Implement Function\n",
    "\n",
    "    return {\n",
    "        '.': \"||Period||\",\n",
    "        ',': \"||Comma||\",\n",
    "        '\"': \"||Quotation_Mark||\",\n",
    "        ';': \"||Semicolon||\",\n",
    "        '!': \"||Exclamation_mark||\",\n",
    "        '?': \"||Question_mark||\",\n",
    "        '(': \"||Left_Parentheses||\",\n",
    "        ')': \"||Right_Parentheses||\",\n",
    "        '--': \"||Dash||\",\n",
    "        '\\n': \"||Return||\"\n",
    "    }\n",
    "\n",
    "    \n",
    "\"\"\"\n",
    "DON'T MODIFY ANYTHING IN THIS CELL THAT IS BELOW THIS LINE\n",
    "\"\"\"\n",
    "tests.test_tokenize(token_lookup)"
   ]
  },
  {
   "cell_type": "markdown",
   "metadata": {
    "deletable": true,
    "editable": true
   },
   "source": [
    "## Preprocess all the data and save it\n",
    "Running the code cell below will preprocess all the data and save it to file."
   ]
  },
  {
   "cell_type": "code",
   "execution_count": 5,
   "metadata": {
    "collapsed": false,
    "deletable": true,
    "editable": true
   },
   "outputs": [
    {
     "name": "stdout",
     "output_type": "stream",
     "text": [
      "{'body': 0, 'saying': 3338, 'knocks': 6014, \"moe's\": 1, 'meaningful': 3339, 'atari': 3340, 'pockets': 5602, 'playoff': 3341, 'vermont': 2, 'sagacity': 3342, 'thankful': 3343, 'came': 3, 'thrust': 1107, \"seein'\": 5356, 'bide': 4, 'medical': 3344, 'terrifying': 5, 'hiring': 3345, 'twenty-four': 6, 'his': 3346, 'adopted': 7, 'have': 2787, 'spouses': 3349, 'therapy': 5680, 'mine': 3350, 'sweat': 3351, 'lie': 3352, 'phony': 8, 'duh': 5541, 'horribilis': 9, 'strategizing': 10, 'event': 3353, 'waitress': 11, 'waters': 1366, 'specialists': 3354, 'ivy-covered': 13, 'churchill': 14, 'email': 4245, 'dealt': 6197, 'reasonable': 4513, 'little_man:': 15, 'guest': 3356, 'tyson/secretariat': 3357, 'blobbo': 5056, 'lizard': 5871, 'except': 16, 'kind': 3361, 'investment': 17, 'troy:': 18, 'ollie': 19, 'booze': 5737, 'dance': 5058, 'betrayed': 3362, 'bag': 2791, 'expect': 3363, 'los': 6199, 'hub': 20, 'tickets': 3364, 'health': 21, 'ummmmmmmmm': 6200, 'hare-brained': 22, 'abe': 23, 'congratulations': 3365, 'confused': 3164, 'opportunity': 24, 'judge': 3366, 'draw': 25, 'privacy': 3369, 'ground': 3370, 'locklear': 3371, 'helen': 3372, 'moolah-stealing': 26, 'screw': 27, 'jam': 3374, 'fire_inspector:': 3375, 'wife-swapping': 2222, \"y'money's\": 28, 'squad': 29, 'duffman': 30, 'quimby': 1679, 'mice': 6636, 'willing': 31, 'self-centered': 3377, 'some': 3379, 'admirer': 3381, 'roz': 1930, 'toss': 32, 'contractors': 33, 'stares': 34, 'mortal': 3384, 'tastes': 2798, 'curious': 35, 'world': 36, 'sponsor': 1912, 'wantcha': 37, 'steam': 3387, 'sarcastic': 6473, 'pointed': 38, \"what're\": 3390, 'swatch': 4235, 'startled': 40, 'anymore': 41, 'shindig': 3392, 'completely': 3393, 'system': 3394, 'benjamin': 3395, 'sack': 1115, 'hike': 3396, 'let': 42, 'student': 43, 'envy-tations': 3347, 'tuna': 3397, 'supplying': 44, 'brockman': 45, \"i'm-so-stupid\": 6220, 'celeste': 3398, 'gheet': 3399, 'author': 3400, 'butt': 46, 'desperate': 3401, 'disturbance': 48, 'normals': 1117, 'west': 3348, 'squeeze': 5611, 'pirate': 6204, 'count': 3402, 'thesaurus': 3403, 'senator': 49, 'jukebox_record:': 50, 'weight': 6205, 'clincher': 51, 'balloon': 52, 'sponsoring': 53, 'mulder': 54, 'danish': 3407, 'brother': 55, 'cock': 56, 'exchanged': 59, 'brace': 3408, '8': 60, 'dignity': 61, 'house': 3409, 'two': 62, 'weather': 3411, 'box': 63, 'yak': 5065, 'slight': 5613, 'value': 691, 'any': 64, 'compels': 66, 'hideous': 6161, 'packets': 3413, 'under': 3414, 'exactly': 3415, 'jackpot-thief': 67, 'bumbling': 6210, 'spite': 68, '&': 69, 'every': 70, 'happily': 3417, 'figured': 3418, 'watered': 71, \"america's\": 3419, 'fat-free': 72, 'manager': 73, 'bartender': 74, \"that's\": 75, \"i'unno\": 4796, 'salt': 78, 'wholeheartedly': 77, 'audience': 79, 'patron_#2:': 3421, '2nd_voice_on_transmitter:': 3422, 'threw': 3423, 'compete': 80, 'stooges': 5615, 'unusually': 3425, 'seat': 548, 'poplar': 3427, 'billion': 3428, 'marched': 81, 'disposal': 3429, 'pledge': 3430, 'takeaway': 82, 'barely': 3431, 'squabbled': 83, 'higher': 3432, 'teriyaki': 84, 'senators:': 85, 'jamaican': 3433, 'heh': 86, 'bachelorette': 87, 'writing': 88, 'growing': 3434, 'luck': 3435, 'bread': 3437, 'popping': 3438, 'cartoons': 89, 'harrowing': 90, 'without:': 91, 'nasa': 92, 'tapered': 94, 'european': 551, 'down': 95, 'ugliest': 3441, 'hemoglobin': 5622, 'disaster': 2808, 'daaaaad': 96, 'wenceslas': 97, 'true': 98, 'betcha': 3442, 'bushes': 100, 'shill': 1126, 'successful': 3443, 'edna': 5624, 'bowie': 101, 'country': 3444, 'blubberino': 102, 'instantly': 103, 'helpful': 3445, 'fantasy': 6212, 'bam': 3446, 'ga': 104, 'confession': 106, 'presses': 1129, 'capuchin': 1696, 'neanderthal': 107, 'wordloaf': 3447, 'stays': 3877, 'yellow': 3448, 'store': 108, 'night-crawlers': 109, 'money': 110, 'cruel': 111, 'whirlybird': 3449, 'bliss': 3450, 'amid': 112, 'spacey': 6215, 'perfected': 3451, 'woe:': 3452, 'yells': 113, 'espousing': 3454, 'no': 115, \"yieldin'\": 116, 'cuddling': 117, 'complaint': 3456, 'holds': 118, 'poulet': 119, 'police': 120, 'sell': 6414, 'compadre': 121, 'monkeyshines': 3457, 'youuu': 3458, 'mushy': 122, 'dad': 123, 'womb': 3355, \"calf's\": 5758, 'winning': 5842, 'noble': 124, \"can't\": 125, \"wino's\": 5070, 'model': 3460, 'dynamite': 3461, 'sweaty': 126, \"president's\": 127, 'relationship': 3462, 'most': 128, 'intimacy': 129, 'synthesize': 130, 'chubby': 131, 'windshield': 132, 'academy': 3358, 'commission': 3464, 'profiling': 3465, 'regulations': 133, \"'bout\": 3466, 'scent': 134, 'intelligent': 135, 'w-a-3-q-i-zed': 136, 'blows': 3359, 'use': 137, 'diaper': 3469, 'augustus': 3471, 'sent': 138, 'burg': 5631, 'furiously': 139, 'grim': 4477, 'insured': 3473, 'seething': 140, \"year's\": 141, 'during': 3475, 'fox': 3477, 'al_gore:': 3478, 'street': 142, 'pickles': 559, 'cheap': 143, 'prison': 144, \"wouldn't\": 145, 'mommy': 3481, 'lately': 5994, 'six': 3482, 'intakes': 147, 'fold': 148, 'gig': 3483, 'buddy': 149, 'hotel': 3484, 'lemonade': 3908, 'hoax': 150, 'sick': 3485, \"beggin'\": 151, 'fancy': 3486, 'cheesecake': 152, 'hard': 3488, 'the_rich_texan:': 3489, 'faint': 153, 'odor': 154, 'self-esteem': 3493, 'physical': 3494, 'supports': 155, 'love-matic': 1133, 'wussy': 156, 'scum': 1138, 'water': 3495, 'swamp': 3496, 'trade': 5347, 'jolly': 3909, 'brought': 3497, 'acceptance': 158, 'last': 159, 'sadistic_barfly:': 160, 'safety': 4480, 'granted': 3498, \"edna's\": 161, 'lenny_leonard:': 162, \"we're\": 5633, 'suspenders': 3499, 'load': 3500, 'shakes': 163, 'choked-up': 3501, 'punch': 164, \"fun's\": 165, 'item': 166, 'corkscrews': 3502, 'scruffy_blogger:': 167, 'blocked': 3503, 'appendectomy': 3504, 'benefits': 3505, 'boozehound': 169, 'catholic': 3507, 'trip': 3508, 'insensitive': 6623, 'hurts': 170, 'inherent': 171, 'plane': 173, 'ford': 3512, 'moments': 4481, 'chocolate': 175, 'deliberately': 176, 'common': 3513, 'twentieth': 2253, 'bragging': 177, 'happens': 178, 'strap': 179, 'environment': 6507, 'bridge': 5637, 'toys': 180, 'pick': 181, 'forward': 3516, 'honey': 3517, 'sumatran': 182, 'heart-broken': 3518, 'full-time': 183, 'half-day': 184, 'covering': 3519, 'cost': 3520, 'men:': 3521, 'forgets': 185, 'springfield': 186, \"today's\": 5639, 'enjoys': 3522, 'finished': 3523, 'bill': 187, 'urinal': 3527, 'mid-conversation': 188, 'brassiest': 189, 'england': 3528, 'magazine': 3529, 'scarf': 2257, 'prayer': 190, 'damned': 191, 'buttons': 192, 'captain:': 3531, 'spoon': 3532, 'rubs': 3533, 'spanish': 3534, 'elder': 193, 'reviews': 3536, 'gabriel:': 194, 'heh-heh': 195, 'wazoo': 197, 'cuckoo': 3539, 'bonfire': 198, 'crossed': 3420, 'forecast': 5081, 'unfamiliar': 199, 'figure': 3540, 'panicked': 3541, 'blue': 3542, 'cares': 200, 'kitchen': 5641, 'planted': 1146, 'spit': 201, 'lenny': 202, 'invisible': 203, 'crowd': 564, 'sticking-place': 3545, 'neither': 3546, 'started': 3547, 'johnny_carson:': 3367, 'this:': 204, 'manboobs': 3548, 'micronesian': 3549, 'lone': 205, 'michael': 206, 'attitude': 207, 'ripped': 3550, 'cleaned': 3551, \"team's\": 3552, 'faiths': 208, 'walther': 3553, 'my': 3554, 'joint': 5083, 'improv': 3555, 'stacey': 209, 'perverse': 3557, \"wonderin'\": 3559, 'later': 3891, 'heavyset': 210, 'thorn': 1079, 'lingus': 1468, 'generous': 3561, 'noises': 211, 'paints': 212, \"askin'\": 1147, 'wearing': 213, 'brooklyn': 3563, 'unforgettable': 3564, 'helped': 214, 'middle': 6699, \"maggie's\": 3565, 'anybody': 3566, 'talked': 215, 'bulked': 1710, 'streetcorner': 217, 'camp': 3373, 'hilton': 218, \"'kay-zugg'\": 220, 'new_health_inspector:': 221, 'eighty-seven': 3570, 'blur': 222, 'city': 223, 'flea:': 3918, 'fly': 224, 'priest': 3571, 'women': 225, 'aged_moe:': 226, 'getting': 3573, 'belch': 6194, 'pen': 227, 'leonard': 3575, 'spirit': 3576, 'eight': 228, 'floor': 6297, 'wolverines': 229, \"stallin'\": 230, 'philip': 231, 'hundred': 3577, 'based': 232, 'sunny': 3578, 'measurements': 233, \"narratin'\": 5863, 'loaded': 3579, 'gesture': 234, 'mr': 3580, 'tons': 3582, 'with': 3583, 'cute': 3584, 'beligerent': 235, 'thank': 3585, \"couldn't\": 236, 'smart': 237, 'damage': 239, 'typed': 3586, 'hawking:': 240, 'eggs': 241, 'um': 3376, 'poking': 3589, 'title': 3927, 'kentucky': 242, 'right-handed': 243, 'drift': 3591, 'sob': 244, 'enough': 245, 'exited': 246, 'ambrose': 247, 'hollye': 3594, 'merchants': 248, 'plum': 3595, 'restaurants': 3596, 'hunter': 249, 'dump': 3597, 'worthless': 250, 'totalitarians': 251, 'darkness': 252, 'where': 3599, 'president': 3600, 'rosey': 253, 'loudly': 3601, 'unusual': 254, 'entertainer': 3602, 'pushes': 3603, 'unavailable': 3378, 'skins': 5092, \"'cept\": 255, 'column': 3604, 'lottery': 3605, 'apulina': 6234, 'cooler': 257, 'winded': 3929, 'perch': 258, 'lovelorn': 3606, 'fireworks': 2272, 'vicious': 259, 'sass': 3380, 'gees': 260, \"everyone's\": 4499, 'kazoo': 3608, 'decide': 3609, 'boxcars': 261, 'hollowed-out': 264, 'awwww': 263, 'tears': 6235, 'sitcom': 3612, 'flowers': 5094, 'refund': 3614, \"somebody's\": 3615, 'sour': 3616, 'apron': 265, 'little_hibbert_girl:': 266, 'thorough': 3618, 'krusty_the_clown:': 3619, 'aggie': 267, 'informant': 268, 'beatings': 3620, 'urge': 270, 'glummy': 3382, 'stand': 3622, 'shifty': 272, 'quadruple-sec': 5656, 'exultant': 273, 'four-star': 274, '6': 275, 'quietly': 4502, 'stink': 3623, 'radioactive': 277, \"wife's\": 278, 'doom': 3624, 'mic': 279, 'beans': 3626, 'mac-who': 280, 'there': 3627, 'himself': 3628, 'fontaine': 3629, 'birthday': 282, 'fourth': 3630, 'countryman': 6747, 'carlotta:': 283, \"when's\": 3631, 'tracks': 284, 'shoot': 2277, 'dress': 3385, 'whose': 5657, 'rock': 3632, 'alcoholic': 3633, 'beef': 5098, \"'n'\": 3634, 'admiring': 3635, 'alright': 3636, 'mona_simpson:': 3386, 'provide': 286, 'raging': 287, 'park': 289, 'victory': 6483, 'got': 3637, 'walked': 3638, 'cranberry': 290, 'meet': 3639, 'maitre': 3640, 'talking': 3641, 'affects': 292, 'bleeding': 293, 'pernt': 3642, 'options': 294, 'meaning': 3388, \"d'\": 295, 'savings': 3643, \"he'll\": 5660, 'wheels': 3644, 'pair': 6158, 'earlier': 3645, 'excavating': 297, 'waterfront': 3646, 'such': 3647, 'minutes': 3649, 'patented': 5665, 'donuts': 4883, 'least': 2063, 'eurotrash': 3389, 'connection': 5104, 'everything': 299, 'dishonor': 3651, 'maude': 3652, 'organ': 301, 'tow': 302, 'patriotic': 3654, 'reluctant': 3655, 'triangle': 3656, 'caper': 1373, 'wildfever': 735, 'joy': 303, 'notch': 2281, 'motor': 1161, 'pictured': 39, 'poetry': 304, 'uh-huh': 583, 'hooch': 305, \"battin'\": 3658, 'glorious': 3659, 'prince': 3391, 'suck': 306, 'open': 1163, 'drunk': 307, 'may': 308, 'ordered': 309, 'site': 310, 'slot': 311, 'menace': 312, 'swishkabobs': 3660, 'camera': 3661, 'happier': 3663, 'awe': 3664, 'character': 4151, 'cleveland': 314, 'bathtub': 5106, 'fonzie': 315, 'bourbon': 316, 'diamond': 317, 'tom': 3666, 'hobo': 318, 'helicopter': 3667, 'advantage': 4509, 'whim': 3668, 'fifteen': 3669, 'principal': 319, 'lowering': 3670, 'fire': 320, 'ominous': 3671, 'zoomed': 321, '_kissingher:': 322, 'arm-pittish': 323, 'plucked': 3673, 'ignoring': 3674, 'script': 325, 'considering:': 6251, 'flat': 3675, 'pointless': 328, 'training': 3676, 'ehhhhhh': 329, 'emphasis': 3678, 'agreement': 330, 'kick': 3679, 'flaking': 3680, 'day': 331, 'chuckle': 3681, 'occupied': 3682, 'wrong': 332, 'businessman_#1:': 333, 'dejected_barfly:': 3683, 'harv': 334, 'dipping': 3684, 'blamed': 5670, 'remembers': 6254, 'sniffs': 336, 'throat': 338, 'app': 590, 'inexorable': 343, 'wittgenstein': 340, 'understanding': 341, 'stick': 342, 'all': 1168, 'incognito': 3687, 'radiation': 3688, 'prohibit': 3689, 'lumpa': 1170, 'ripping': 3690, 'it': 345, 'bus': 6328, 'ralphie': 346, 'anywhere': 348, 'peanut': 349, 'toilet': 350, 'agree': 351, \"where's\": 3692, 'then': 3693, 'blues': 3694, 'doooown': 3695, 'young': 3696, \"cupid's\": 592, 'apartment': 4518, 'dumpster': 352, 'uncomfortable': 593, 'isle': 353, 'approval': 354, 'swimmers': 6255, 'sentimonies': 5666, 'brainheaded': 355, 'abcs': 6256, 'go-near-': 5675, 'brag': 1173, 'lushmore': 3697, \"b-52's:\": 356, 'assumed': 3699, 'reminds': 3700, 'and/or': 357, 'jerk-ass': 3701, 'sodas': 358, 'vehicle': 359, 'from': 360, 'pushing': 3702, 'maybe': 1728, 'duke': 361, 'youngsters': 362, 'gals': 47, 'sober': 5678, 'whenever': 364, 'murmurs': 365, 'marshmallow': 366, 'temples': 3705, 'next': 3706, 'stained-glass': 367, 'compliment': 1177, 'candy': 3708, 'bit': 3710, 'prefer': 3711, 'nonchalant': 3712, \"doctor's\": 3713, 'smoker': 3714, 'runaway': 5679, 'mansions': 369, 'pulling': 3715, 'crestfallen': 371, 'grope': 3716, 'throws': 2293, 'failed': 3717, 'fl': 3718, \"costume's\": 373, 'whisper': 374, 'here-here-here': 375, 'pizzicato': 3720, 'moxie': 376, 'hmmmm': 6622, 'pep': 377, 'sponge:': 5635, 'tell': 378, 'monorails': 3722, 'backing': 379, 'field': 3723, 'broom': 380, 'special': 381, \"cashin'\": 5683, \"livin'\": 3724, 'ralph_wiggum:': 1733, 'doppler': 382, 'atlanta': 6261, 'singers:': 2298, \"comin'\": 383, 'were': 3725, 'santeria': 3726, 'ho-ly': 3727, 'ready': 4733, 'slobbo': 3728, 'players': 3729, 'mexican_duffman:': 3730, 'clinton': 3731, \"tonight's\": 3732, 'eyeing': 3320, \"showin'\": 3733, 'boys': 4532, 'perón': 3734, 'lucius:': 384, 'theater': 385, 'flack': 3736, 'selma_bouvier:': 3737, 'unhook': 386, 'cozy': 4534, 'bits': 3738, 'scatter': 387, 'sweetly': 3739, 'devastated': 388, '$42': 4536, 'soothing': 389, 'dropping': 390, 'moesy': 391, 'ashamed': 392, 'tenuous': 1184, 'subject': 3741, 'fastest': 393, 'population': 3742, 'i-i': 1735, 'shreda': 3743, 'taste': 395, 'capitol': 3747, 'saved': 397, 'nurse': 3746, 'e': 3748, 'would': 3749, 'people': 398, 'stories': 3751, 'tab': 3753, 'passion': 3754, 'available': 399, 'cheerier': 5112, 'pop': 3755, 'assent': 1186, 'relieved': 401, \"father's\": 402, 'seamstress': 3756, 'sagely': 3757, 'dealie': 3758, 'label': 3759, 'recently': 403, 'demo': 404, 'order': 1128, 'mustard': 405, 'reciting': 3760, 'way:': 406, 'gumbel': 407, \"pressure's\": 408, 'miserable': 3761, 'shotgun': 3762, 'realized': 409, 'discuss': 410, 'famous': 988, 'old-time': 411, 'car:': 412, 'winch': 3764, 'uncle': 5689, 'donut-shaped': 413, 'filled': 57, 'con': 3765, 'temper': 3957, 'appropriate': 3766, \"depressin'\": 3767, 'consulting': 3768, 'near': 414, \"sippin'\": 3769, 'spend': 3770, 'yards': 3771, 'supermarket': 415, 'feelings': 4805, 'sloe': 3772, 'tonic': 58, 'disappeared': 416, 'inspiring': 417, 'avalanche': 419, 'temp': 420, \"tv's\": 3775, 'thrilled': 421, 'smiles': 3776, 'sing': 6032, 'poisoning': 3777, 'principles': 422, 'license': 2307, 'pancakes': 903, '2': 3778, 'offshoot': 423, 'whiny': 3779, 'grace': 3780, 'terrorizing': 3781, 'live': 3782, 'o': 3783, 'castle': 3784, 'anti-intellectualism': 3785, 'kool': 424, 'brightening': 425, 'limits': 3786, 'raining': 4131, 'moonnnnnnnn': 426, 'specific': 427, 'christian': 428, 'breaks': 5116, 'trash': 607, 'solves': 429, 'thinking': 430, 'botanical': 431, 'swig': 432, 'swigmore': 2309, 'loathe': 433, 'bullet-proof': 3788, 'pipes': 434, 'headhunters': 3789, \"renovatin'\": 1750, 'jumps': 1190, 'read:': 435, 'passports': 436, 'scully': 5117, 'coaster': 437, 'bums': 3964, 'hero': 3790, 'refresh': 5118, 'montrer': 438, 'bury': 1754, 'jams': 3791, \"s'pose\": 3792, 'nudge': 440, 'salad': 609, 'golden': 2874, 'buzziness': 3793, 'kansas': 3919, 'wrestle': 3794, '530': 441, 'crazy': 5694, 'exploiter': 3795, \"spyin'\": 442, 'macaulay': 443, 'bastard': 3797, 'unable': 444, 'sticker': 445, 'butter': 446, 'brings': 3799, 'yard': 3800, 'suing': 3801, 'dude': 3802, 'andalay': 3803, 'mayan': 447, 'idea': 6485, 'crinkly': 5551, 'hygienically': 3805, 'hurting': 5485, 'giving': 3806, \"smackin'\": 5854, 'amends': 3807, 'rector': 448, 'mike_mills:': 3808, 'gossipy': 449, 'declan': 3809, 'hammy': 1759, 'stevie': 3810, 'peeping': 3811, 'dime': 450, 'tow-talitarian': 451, 'minors': 3814, 'super-genius': 452, 'test': 3815, 'asleep': 3816, 'doy': 453, 'misconstrue': 454, 'gotcha': 3817, 'wallet': 455, 'solved': 457, 'woo': 458, 'stool': 3819, 'symphonies': 459, \"people's\": 3412, 're:': 460, 'often': 461, 'nah': 65, 'consciousness': 462, 'donut': 1194, 'animals': 463, 'democrats': 3823, 'sponge': 3824, 'attempting': 3825, 'düff': 464, 'slaps': 5125, 'x-men': 3826, 'swimming': 3827, 'when-i-get-a-hold-of-you': 3828, 'loboto-moth': 3829, 'rutabaga': 465, 'video': 466, 'sternly': 467, 'pre-game': 1965, 'farewell': 468, 'noosey': 469, \"spaghetti-o's\": 3831, 'bad': 3832, 'starters': 471, 'hawaii': 472, 'connor': 473, 'faith': 474, 'fishing': 1098, 'alive': 4545, 'fwooof': 475, \"men's\": 3404, 'handshake': 2879, 'moonlight': 476, 'passenger': 477, 'manage': 478, 'pine': 479, 'older': 480, \"someone's\": 3836, 'leftover': 481, 'john': 482, 'crappy': 5126, 'sneak': 484, 'entirely': 3837, 'amount': 3838, 'stones': 3839, 'woodchucks': 486, 'nuked': 487, 'retired': 3416, 'sizes': 6282, 'stamp': 488, \"drinkin'\": 5741, 'background': 3840, 'sit': 489, 'bitterly': 618, 'gentlemen': 490, 'decent': 3841, 'saucy': 491, 'social': 6263, 'gently': 3842, \"coaster's\": 492, 'yee-ha': 1198, 'nbc': 493, 'prize': 3844, 'saving': 2193, 'flush-town': 494, 'proof': 3846, 'guilt': 497, 'stripes': 3847, 'alibi': 3848, 'simon': 498, 'healthier': 3849, 'dilemma': 3080, 'hyper-credits': 3851, 'generously': 6463, 'characteristic': 499, 'picky': 500, 'pussycat': 5128, \"renee's\": 3852, 'visas': 501, 'hardwood': 502, 'broncos': 3854, 'floated': 3855, 'f-l-a-n-r-d-s': 503, 'criminal': 3856, 'obama': 3858, 'backgammon': 6629, 'stinky': 504, 'cannoli': 505, 'effervescence': 506, 'crowd:': 3859, 'mathis': 3860, 'attracted': 4556, 'regretful': 3863, 'hardy': 6284, 'bible': 507, \"donatin'\": 3864, 'never': 508, 'whoopi': 509, 'terror': 3980, 'answers': 3865, 't-shirt': 3812, 'transfer': 510, 'ehhhhhhhhh': 3867, 'flanders': 3868, 'porn': 6749, 'hans:': 511, 'teeth': 3869, 'stagy': 512, 'albeit': 3935, 'published': 6012, \"number's\": 513, 'bird': 6286, 'officials': 3870, 'term': 3871, 'form': 514, 'patrons:': 516, 'drag': 622, 'germans': 517, 'stirring': 3873, 'liar': 518, 'selfish': 3874, 'astronauts': 2890, 'maximum': 3875, 'lindsay': 3876, 'tree': 519, 'advance': 3878, 'lincoln': 3879, 'twice': 521, 'spending': 522, 'coined': 523, 'tabooger': 3880, 'press': 524, 'festival': 525, 'top': 3881, 'girls': 526, 'sam:': 3882, 'bannister': 527, 'done:': 3884, 'clipped': 528, 'pal': 529, 'actress': 530, 'initially': 531, 'toy': 3888, 'transmission': 76, 'terrific': 3889, 'kid': 532, 'bunion': 5681, \"ma's\": 533, 'teen': 534, 'fella': 535, 'bellyaching': 5705, 'evil': 536, 'dessert': 537, 'alter': 538, 'daddy': 539, 'want': 3890, 'baby': 540, \"don'tcha\": 5707, 'unbelievably': 541, 'strong': 542, \"fryer's\": 543, 'woman': 3893, 'pull': 544, 's-a-u-r-c-e': 3894, 'twin': 3895, 'cruiser': 545, 'edner': 3898, \"it'll\": 6688, \"betsy'll\": 546, 'denser': 3899, 'guys': 547, 'samples': 3900, 'learn': 549, 'charming': 550, 'faced': 1774, 'surprised/thrilled': 3902, 'so': 3903, 'schizophrenia': 3424, 'ambrosia': 628, 'veux': 552, 'rag': 3904, 'prep': 553, 'disappear': 554, 'handing': 3905, 'thinks': 555, 'housework': 3906, 'how': 556, 'thnord': 557, 'recreate': 558, 'might': 3907, 'remodel': 560, 'humanity': 5709, 'seymour_skinner:': 561, 'wudgy': 3910, 'inserts': 3426, 'hooray': 3911, 'american': 3912, 'terrible': 3913, 'fumes': 562, 'sympathy': 1368, 'newsies': 3914, 'has': 4563, 'banquo': 3915, 'inspector': 563, 'landfill': 3916, 'renders': 2704, 'anyhow': 3917, 'hydrant': 565, 'noooooooooo': 1213, 'nelson': 566, 'shhh': 567, 'fleabag': 568, 'hiding': 569, 'juke': 570, 'rekindle': 571, 'stonewall': 572, 'raises': 3920, 'color': 3921, 'allegiance': 573, 'produce': 3922, 'men': 3923, 'followed': 3924, 'progress': 6295, 'nineteen': 3926, 'grease': 574, '7-year-old_brockman:': 575, \"floatin'\": 576, 'reliable': 577, 'homer': 3930, \"homer's_brain:\": 578, 'midnight': 3931, 'stewart': 579, 'dog': 3932, 'notice': 580, 'sneering': 581, \"son's\": 582, 'jerky': 6019, 'old': 584, 'dear': 3936, 'pretzel': 585, 'bash': 3937, 'write': 1216, 'over-pronouncing': 3938, 'continuing': 5539, 'eternity': 586, 'delicate': 587, 'outstanding': 589, 'sweater': 4569, 'repairman': 5521, 'fail': 3939, 'rash': 591, \"bringin'\": 3940, 'deals': 3941, 'wrapped': 3942, 'stagehand:': 3943, 'injury': 594, 'ask': 3944, 'kemi:': 3945, 'ahh': 595, 'drop': 596, 'kirk_voice_milhouse:': 597, 'meyerhof': 598, 'process': 3946, 'banned': 599, 'now': 1217, 'contemplated': 6415, 'nevada': 3947, 'complete': 3948, \"bart's\": 600, 'mention': 601, 'boxer': 3949, 'whatcha': 3950, 'snatch': 602, 'mis-statement': 3951, 'swallowed': 603, 'interesting': 3952, 'continued': 3953, 'charm': 3954, 'nuclear': 2899, 'theatrical': 604, 'marge': 3956, 'chinua': 605, 'larry:': 3958, 'cuff': 3959, 'jacks': 3960, 'chug-monkeys': 3961, 'syrup': 3962, 'repeating': 3963, 'ayyy': 3965, 'teenage_homer:': 5730, 'know': 3966, 'adequate': 608, 'vampires': 3967, 'guinea': 3968, 'your': 610, 'host': 611, 'itself': 6458, 'schmoe': 612, 'show-off': 3969, 'disappointing': 3970, 'infatuation': 4578, 'expensive': 614, 'facebook': 3971, 'bills': 615, \"tap-pullin'\": 3998, 'vin': 3972, 'blew': 616, 'flag': 3973, 'fiction': 3974, 'henry': 3975, 'revenge': 617, 'einstein': 3976, 'shower': 3977, 'white': 619, 'pursue': 620, 'lloyd': 3978, 'opens': 3979, 'sobs': 621, 'jane': 3981, 'dizer': 3982, 'winston': 5144, 'frankie': 3983, 'applesauce': 1220, 'preparation': 3984, 'feed': 3985, 'calculate': 623, 'moe_szyslak:': 624, 'slit': 6303, 'crawl': 625, 'colossal': 626, 'scout': 627, 'problemo': 3987, 'dying': 6544, 'steaming': 629, 'taking': 630, 'widow': 3988, 'trees': 3989, 'lucky': 3990, 'mid-seventies': 3991, 'muffled': 3992, 'tells': 5308, 'invulnerable': 6305, 'grumpy': 3993, 'protecting': 2337, 'leave': 2220, 'presumir': 3994, 'gloop': 631, 'barbed': 3995, 'renovations': 3996, 'avec': 3997, 'oblongata': 632, 'rummy': 633, 'eve': 5720, 'lessee': 634, 'sistine': 3439, 'multi-purpose': 3999, \"grandmother's\": 4000, 'fumigated': 1223, 'none': 5794, '10:15': 635, 'cobbling': 4001, 'banquet': 637, 'sexual': 636, 'hoagie': 4002, 'shyly': 639, 'spamming': 638, 'ihop': 3440, 'smile:': 4005, 'ideas': 640, 'erasers': 4006, 'heliotrope': 641, 'guts': 4008, 'soon': 4009, 'simplest': 645, 'miracle': 646, 'hers': 647, 'dollface': 648, 'way': 4012, 'amanda': 649, 'experiments': 4014, 'boggs': 4015, 'sideshow_bob:': 650, 'forty-five': 4016, 'long': 4587, 'nigerian': 4017, 'braun:': 651, 'dint': 4018, 'barber': 4019, 'decency': 652, 'sealed': 1641, 'clearly': 4589, 'who-o-oa': 653, 'reads': 4020, 'action': 654, 'fuss': 655, 'whoa-ho': 5724, 'sorry': 4003, 'arabs': 656, 'help': 657, 'worth': 658, 'advertising': 4023, 'prayers': 659, 'exasperated': 660, 'cocoa': 661, 'infestation': 6616, 'hushed': 4026, 'lips': 662, 'bail': 663, 'lonely': 5727, 'conditioning': 664, 'stunned': 665, 'comeback': 4028, 'chill': 4029, 'abolish': 4030, 'knees': 642, 'and': 4031, \"startin'\": 667, 'ziff': 4024, 'refinanced': 99, 'suburban': 4032, 'h': 5728, 'turning': 4033, 'dna': 4034, 'lift': 4035, 'bon': 4036, 'fever': 670, 'waylon': 672, 'declared': 673, 'place': 674, 'life-extension': 644, 'ninety-six': 675, 'late': 676, 'lifestyle': 5154, 'drunkening': 677, 'reminded': 678, 'bets': 4039, 'steel': 2345, 'milk': 679, 'blowfish': 4041, '||semicolon||': 4010, 'libido': 4042, 'up': 6633, 'ever': 4043, 'otherwise': 4044, 'breathtaking': 680, 'sleeps': 681, 'better': 682, 'other_book_club_member:': 684, 'stumble': 685, 'saga': 4045, 'severe': 4011, 'tavern': 686, 'these': 4046, 'grandkids': 4048, \"fans'll\": 4013, 'goal': 4050, \"didn't\": 4051, 'routine': 687, 'extract': 3003, 'cushion': 689, 'derisive': 690, \"mecca's\": 4054, 'dexterous': 692, 'imaginary': 693, 'cocks': 4055, 'szyslak': 4057, 'presents': 4058, 'convinced': 4059, 'goblins': 695, 'lobster-based': 696, 'cosmetics': 697, 'videotaped': 4061, 'earpiece': 698, 'competing': 699, 'hostages': 700, 'grow': 4063, 'leno': 4064, 'kearney_zzyzwicz:': 6318, 'reckless': 701, 'fistiana': 702, 'teenage': 703, 'mmmm': 6319, \"nothin's\": 704, 'mint': 705, \"kiddin'\": 2350, 'valley': 4065, 'pregnancy': 706, 'reed': 707, 'selection': 105, 'beefs': 708, 'ripper': 4066, 'they': 4067, 'all:': 5159, 'service': 4068, 'macgregor': 2353, 'encouraged': 5160, '1973': 4069, 'recommend': 4070, 'shag': 2915, 'straining': 2247, 'toe': 4071, 'quick-like': 5739, 'bye': 709, 'mary': 710, 'incarcerated': 4074, \"disrobin'\": 4075, 'cerebral': 1791, 'position': 4076, 'breathalyzer': 4077, 'sanctuary': 1238, 'puke': 711, 'hearse': 713, 'vacations': 4078, 'disguise': 4524, 'defensive': 714, 'spooky': 1795, 'rush': 4079, 'dinner': 4080, 'gayer': 716, 'panties': 1239, 'composite': 4083, 'blame': 4084, 'three': 4085, 'pontiff': 4086, 'ate': 4087, 'arimasen': 718, 'laughter': 719, 'alarm': 720, 'negative': 721, 'campaign': 722, 'photographer': 723, 'frightened': 4088, 'gunk': 724, 'seven': 3897, 'ralph': 725, 'malibu': 4090, 'encore': 4091, 'slip': 4092, 'eye-gouger': 726, \"should've\": 5743, 'bars': 727, 'formico:': 4021, 'excuses': 4093, 'greatest': 4094, 'ashtray': 728, 'charged': 731, 'in-in-in': 5415, 'message': 733, 'drawing': 734, 'ohhhh': 736, 'na': 2919, 'dammit': 4096, 'counter': 6270, 'tasty': 737, 'lenford': 738, 'tradition': 739, 'moe-lennium': 4097, 'jubilation': 4098, 'owns': 4100, 'umm': 740, 'moustache': 742, 'again': 743, 'tenor:': 4101, \"springfield's\": 4102, 'boxers': 5746, 'christopher': 4104, 'prove': 4105, 'cheered': 744, 'moe-ron': 4107, 'stupid': 745, 'sedaris': 4108, 'barkeeps': 4109, 'flynt': 746, 'sisters': 747, 'village': 749, 'moonshine': 4111, 'small': 4112, 'waist': 4113, 'moe-clone': 4114, 'junebug': 5169, 'half-beer': 5170, 'young_homer:': 4115, 'behind': 750, '||left_parentheses||': 4772, 'offended': 751, 'influence': 4116, 'lloyd:': 114, 'hammer': 753, 'quitcher': 755, 'lib': 4117, 'puff': 4118, 'edge': 756, 'boozer': 757, 'throats': 758, 'dig': 759, 'talkers': 4119, 'peeved': 4120, 'letters': 760, 'inches': 4121, 'avenue': 761, 'interested': 4122, 'wooden': 6519, \"swishifyin'\": 762, 'hugh': 763, \"can't-believe-how-bald-he-is\": 4123, 'sings': 764, 'mccarthy': 765, 'gamble': 4124, 'hippies': 766, 'young_barfly:': 4126, 'arts': 767, 'shows': 4128, 'consider': 3455, 'tale': 4025, 'horrible': 4129, 'spare': 4130, 'ninety-eight': 769, 'of': 770, 'connor-politan': 4132, 'frontrunner': 4133, 'unexplained': 4134, '50-60': 771, 'gluten': 4135, 'showed': 6333, 'kenny': 773, 'believe': 4137, 'stay-puft': 774, 'shape': 4138, 'rather': 4022, 'effervescent': 775, 'looser': 4139, 'honeys': 4140, 'suits': 777, 'irish': 4141, 'traffic': 778, 'impressed': 4142, 'shout': 779, 'story': 1248, 'jokes': 780, 'rubbed': 781, 'obvious': 5750, 'anyone': 4143, 'man_with_crazy_beard:': 4145, 'yogurt': 782, 'driveability': 783, 'sucked': 4146, 'hooky': 4147, 'jack_larson:': 4148, 'keep': 784, 'slick': 785, 'cage': 786, 'insecure': 4150, 'weapon': 787, 'kneeling': 788, 'victorious': 789, 'kinds': 790, 'scam': 791, 'multiple': 792, 'belches': 4152, \"life's\": 793, 'rage': 4153, 'fantastic': 2365, 'choked': 4154, 'anonymous': 794, 'installed': 4155, 'arse': 795, 'department': 4156, 'hears': 797, 'saw': 1804, 'swelling': 4157, 'easier': 4158, 'hunka': 798, 'enter': 4159, 'kucinich': 4160, 'finance': 799, 'tommy': 4162, 'collette:': 800, 'carey': 4027, 'crooks': 4163, 'an': 801, 'along': 4164, 'memory': 4165, 'ancient': 4166, 'appreciate': 2218, 'group': 4287, 'optimistic': 802, 'incredible': 803, 'haws': 804, 'take': 805, 'understood': 806, 'syndicate': 666, 'pulls': 807, 'beam': 808, 'chili': 809, 'guard': 4168, 'oh-ho': 4169, 'question': 4170, 'switched': 4171, \"ya'\": 4172, 'depressing': 810, 'natured': 1252, 'herself': 3525, 'associate': 6338, 'roll': 812, 'play': 4173, 'byrne': 813, 'exciting': 816, 'chair': 817, 'once': 818, 'respect': 4174, 'senators': 819, 'regret': 4614, 'depressant': 820, 'streetlights': 4175, 'vodka': 821, 'corporation': 4176, 'wait': 4177, 'beer-dorf': 3459, 'detecting': 823, 'luv': 3178, 'million': 4178, \"sat's\": 6249, 'morning-after': 825, 'glen:': 826, 'point': 4179, 'brothers': 827, 'loafers': 829, 'assert': 4181, 'eyeball': 5759, \"eatin'\": 830, 'horses': 4182, 'heals': 4183, 'novelty': 832, 'yell': 833, 'father': 4184, 'naturally': 834, 'sadly': 835, 'eco-fraud': 836, 'fox_mulder:': 4186, 'sec_agent_#2:': 4187, 'boozebag': 4188, 'bush': 5761, 'pudgy': 4189, 'indicates': 837, 'championship': 838, 'buyer': 5177, 'choice': 4191, 'saturday': 3709, 'du': 841, 'different': 5522, 'artie': 4192, 'anti-crime': 842, 'large': 3463, 'forgiven': 843, 'tinkle': 4193, \"brady's\": 4194, 'month': 2916, \"i'd'a\": 844, 'listens': 845, 'fires': 4196, 'coward': 4197, 'until': 846, 'skydiving': 313, 'jigger': 4198, 'named': 848, 'emotion': 4199, 'sports_announcer:': 4200, 'accent': 4201, 'folks': 849, \"singin'\": 850, 'media': 851, 'involving': 6566, 'th': 4202, 'remaining': 4203, 'trainers': 852, 'curse': 4204, 'sees/': 853, 'man_at_bar:': 4205, 'warranty': 854, 'appearance-altering': 855, 'costume': 4206, 'yellow-belly': 856, 'pulled': 4207, 'parasol': 857, 'separator': 4209, 'tremendous': 671, 'carpet': 4210, 'wishing': 4211, 'beaumarchais': 4212, 'examines': 1424, 'everyday': 858, \"family's\": 4214, 'ned_flanders:': 860, 'worked': 4215, 'girlfriend': 4216, 'feel': 861, 'serum': 4217, 'lennyy': 470, 'coin': 863, 'ice': 4218, 'round': 864, 'pour': 4219, 'urine': 865, 'son-of-a': 866, 'nards': 4220, 'whaddya': 5181, \"plank's\": 4038, 'wizard': 4221, 'ingrates': 4222, 'lis': 4223, 'stu': 4224, 'wars': 868, 'creates': 4225, 'swooning': 869, 'uses': 870, 'rusty': 5765, 'oil': 1259, 'bee': 871, 'fustigate': 872, 'history': 4226, 'swine': 873, 'whaddaya': 4227, 'plenty': 875, 'signed': 6732, 'testing': 3467, 'proudly': 4228, 'dozen': 3468, 'fool': 876, 'won': 877, 'evasive': 3470, \"something's\": 4230, 'cents': 2243, \"town's\": 4231, 'crew': 4233, 'socratic': 879, 'champ': 4234, 'hillbillies': 4236, 'but': 4237, 'disappointment': 880, 'drinks': 881, 'backbone': 4238, 'haiti': 882, 'cooking': 883, 'blood-thirsty': 885, 'sail': 886, 'longest': 887, 'y': 888, 'their': 4040, 'canyonero': 889, 'thirteen': 4239, 'trivia': 890, 'meeting': 891, 'prejudice': 4240, 'bridges': 892, 'snaps': 4241, 'aisle': 4242, 'hollywood': 893, 'firing': 894, 'computer': 3472, 'distaste': 4246, 'supermodel': 4247, 'stinger': 895, 'remember': 896, 'combine': 5768, 'ferry': 4248, 'lifetime': 897, 'force': 4626, 'labels': 1602, 'book': 898, \"hangin'\": 2937, 'bluff': 4249, 'cases': 899, 'plain': 900, 'practically': 3474, 'sets': 4251, 'para': 4252, 'legs': 4253, 'sauce': 901, 'dum-dum': 4254, 'churchy': 3476, 'director:': 904, 'chapter': 905, \"larry's\": 906, 'minute': 4255, 'fist': 4256, 'drives': 908, 'layer': 909, 'flailing': 4258, 'brawled': 910, 'listen': 911, 'pride': 4259, 'afford': 4260, 'factor': 4261, 'hey': 5396, 'nucular': 4262, 'filth': 4263, 'fill': 913, 'front': 915, 'onassis': 916, 'share': 4264, 'ninth': 4265, 'shares': 2371, 'susie-q': 6772, 'dreamy': 4266, 'enthusiasm': 917, 'tried': 3479, 'scornful': 1265, 'ore': 456, 'lou': 4267, 'exhaust': 1266, 'kyoto': 4268, 'chosen': 4269, 'dark': 918, 'contest': 919, 'nigel_bakerbutcher:': 4270, 'iddilies': 920, 'violin': 921, 'shush': 922, 'clammy': 923, 'adrift': 146, 'frogs': 4271, 'internet': 925, 'multi-national': 4272, 'sight-unseen': 926, 'aunt': 927, 'club': 928, 'alec_baldwin:': 929, 'grandé': 4273, 'life-threatening': 4274, 'disco_stu:': 4275, 'blaze': 930, 'greystash': 4276, 'monday': 4277, 'store-bought': 931, 'plants': 932, 'padres': 4279, 'proper': 933, 'having': 4280, 'dyspeptic': 4281, 'fudd': 4282, 'frog': 4283, 'debonair': 934, 'promise': 4284, 'huhza': 935, 'steampunk': 3773, \"kid's\": 4285, 'low-life': 4286, 'perhaps': 4288, \"bettin'\": 937, \"children's\": 4289, 'kissed': 4290, \"fishin'\": 4291, 'appealing': 940, \"fine-lookin'\": 4292, 'murdoch': 941, 'come': 4293, 'doll-baby': 4047, 'comic': 4294, 'starting': 6335, 'chips': 942, 'voodoo': 4295, 'booth': 5599, 'trouble': 4296, 'graves': 4297, 'mafia': 943, 'boned': 4298, 'whispers': 944, 'comic_book_guy:': 2391, 'helps': 946, 'morlocks': 947, 'sorts': 948, 'learned': 1596, 'scoffs': 4299, 'inspection': 4300, 'personal': 5587, 'south': 4301, 'contemporary': 949, 'groveling': 950, 'suppose': 6357, 'ran': 4302, 'ineffective': 4303, 'known': 951, 'lily-pond': 953, 'schnapps': 5194, '35': 954, 'homie': 4052, 'achebe': 6096, 'pumping': 955, 'al': 4305, 'pocket': 4306, 'drollery': 957, 'clown': 958, \"mtv's\": 4307, 'statues': 4308, 'skunk': 959, 'offa': 5216, 'wise': 4053, 'screws': 4309, \"aristotle's\": 960, 'iran': 6098, 'marge_simpson:': 4310, 'f': 962, 'mahatma': 4311, 'squeal': 4313, 'vengeful': 963, 'waylon_smithers:': 964, 'strategy': 4314, 'wayne:': 1826, 'relaxing': 4315, 'elizabeth': 4316, 'charge': 4317, 'occupation': 965, 'ecru': 968, 'ocean': 967, 'canoodling': 969, 'seek': 4639, 'beeps': 4318, 'excuse': 970, 'hosting': 4319, 'laugh': 4320, \"usin'\": 4056, 'thing:': 1272, 'tha': 972, 'delicately': 973, 'potatoes': 975, 'schemes': 3487, 'door': 976, 'name': 977, 'gorgeous': 4321, 'explain': 3053, 'calvin': 3492, \"beer's\": 4322, 'pharmaceutical': 4323, 'leprechaun': 5394, \"countin'\": 979, 'aerosmith': 4324, 'speaking': 3490, 'expose': 4325, 'tomatoes': 4326, 'volunteer': 980, '_marvin_monroe:': 4327, 'running': 981, 'crystal': 982, 'gore': 983, 'ball-sized': 984, 'rotch': 4328, 'barf': 4329, 'cake': 985, 'manuel': 4330, 'mirror': 4331, 'french': 4332, 'please/': 987, 'wanna': 4333, 'grocery': 5200, 'cruise': 4334, \"she'll\": 613, 'hunting': 4335, 'choices:': 4336, 'hat': 990, 'became': 991, 'miles': 4337, 'trust': 4060, 'robbers': 4338, 'start': 4339, 'making': 992, 'took': 993, 'peaked': 4340, 'gol-dangit': 994, 'circus': 995, 'suffering': 4341, 'nordiques': 997, 'shaker': 998, 'alfred': 4342, 'admitting': 4343, 'starve': 4344, 'really': 1000, 'brains': 4345, 'catch-phrase': 157, 'benjamin:': 1002, 'linda_ronstadt:': 1003, 'overhearing': 4062, 'mission': 6371, 'happiness': 4346, 'rookie': 4347, 'bleacher': 1004, 'nailed': 4349, \"must've\": 1005, 'peppy': 1006, 'show': 4350, 'badly': 4352, 'mayor_joe_quimby:': 1007, 'glee': 1008, 'do': 4354, 'button-pusher': 5788, 'well-wisher': 4356, 'picked': 1831, 'allowance': 4357, 'gator': 1009, 'kick-ass': 1010, 'enhance': 4358, 'mm-hmm': 4359, 'sued': 4360, 'heather': 4361, 'kissing': 1011, 'cronies': 1012, 'huddle': 1013, 'female_inspector:': 1014, 'underbridge': 1015, 'musical': 1283, 'glitz': 1016, 'above': 4363, 'small_boy:': 4364, 'chin': 6526, 'bookie': 1285, 'wings': 1018, 'tactful': 1019, 'superpower': 4366, 'stalin': 1021, 'yep': 1023, 'blend': 1024, 'theme': 1025, 'raccoons': 4367, \"playin'\": 4368, '||right_parentheses||': 1026, 'empty': 1326, 'lise:': 4369, 'fault': 4370, 'caholic': 4371, 'problem': 1027, 'pusillanimous': 1028, 'much': 1029, 'destroyed': 1030, 'amber': 1031, 'sensitivity': 4374, 'bet': 1032, \"'s\": 1033, 'cap': 4375, 'you-need-man': 1034, 'dunno': 1035, \"ridin'\": 1036, 'maman': 1839, 'impending': 4378, 'hit': 4379, 'booking': 1037, '_montgomery_burns:': 1038, 'investor': 1039, 'bloodiest': 4380, 'grammy': 6368, 'homer_doubles:': 1040, 'railroad': 1041, 'badge': 1042, 'cats': 4651, 'afternoon': 4381, 'devils:': 1043, 'raggie': 1044, 'undermine': 1046, 'pigtown': 4384, 'spender': 1047, 'surprised': 1048, 'billingsley': 1289, 'disgusted': 4385, 'barbara': 6491, 'aw': 4386, 'nerd': 1050, 'shutup': 4387, 'sincere': 1290, 'parenting': 4388, 'brotherhood': 4389, 'richard:': 1051, 'hats': 4392, 'mellow': 4393, 'halfway': 1052, 'imported-sounding': 1053, 'relaxed': 1293, 'closet': 1054, 'shtick': 1055, 'business': 5793, 'penny': 4394, 'distract': 4395, 'other': 4396, 'friday': 1058, 'venom': 1059, 'lot': 1060, 'cappuccino': 1576, 'sturdy': 1062, 'frenchman': 4397, 'chauffeur:': 6777, 'mater': 4398, 'heaven': 4399, 'sesame': 1063, 'rome': 1064, 'metal': 4400, 'fifty': 5208, 'sometime': 1065, 'bret:': 1066, \"'er\": 4402, 'page': 168, 'cleaner': 847, 'cutest': 1067, 'charter': 1068, 'spelling': 3506, \"tinklin'\": 4403, 'fresco': 1070, 'coney': 1071, 'me': 4404, 'belong': 4405, 'both': 1073, 'curds': 6024, 'punching': 1074, 'doll': 4407, 'waltz': 1075, 'sickens': 4409, 'thirty-three': 4410, 'wiping': 1077, 'cheryl': 4413, 'tropical': 2739, 'months': 4414, 'meant': 1080, 'finale': 1081, 'penmanship': 3509, 'further': 1078, 'ah-ha': 1082, 'english': 4416, 'undies': 1083, \"money's\": 4417, 'fbi_agent:': 1084, \"bladder's\": 4418, 'numeral': 4420, \"ladies'\": 4421, 'cut': 1086, 'complaining': 1087, 'dennis_kucinich:': 1088, 'guy': 1089, 'carnival': 1090, 'gruesome': 2967, 'tough': 6389, 'gary:': 5211, 'babe': 1091, 'engine': 1298, 'anarchy': 4425, 'plan': 1092, 'continuum': 1301, 'shaved': 1094, 'cheat': 4426, 'daniel': 4427, 'rope': 3368, 'generosity': 4428, 'looking': 1095, 'rancid': 3510, \"blowin'\": 4072, 'effigy': 1097, 'giggles': 4431, 'cell': 4433, 'iranian': 4434, 'oh': 5212, 'charlie': 2408, 'founded': 4437, 'looooooooooooooooooong': 4438, 'doors': 4439, 'cure': 1100, 'hurt': 1101, 'scientific': 5800, \"callin'\": 1102, 'television': 6374, 'full': 5939, 'shorter': 174, 'casting': 4073, 'sweet': 4441, 'fact': 6376, \"boy's\": 1103, 'stomach': 1104, 'self': 2972, 'ziffcorp': 4442, 'ehhhhhhhh': 4443, 'needs': 4444, 'uniforms': 4445, 'three-man': 1303, 'bottomless': 4446, 'calmly': 4447, \"kearney's_dad:\": 4448, 'sledge-hammer': 2974, 'graveyard': 4450, 'recruiter': 4452, 'refiero': 1105, 'clown-like': 1106, 'bear': 2411, 'latour': 4453, 'reynolds': 1108, 'improved': 4454, 'divorced': 4455, 'run': 6378, \"cat's\": 4456, 'wikipedia': 1109, 'reasons': 4457, 'tang': 4458, 'adjourned': 1110, 'chance': 1111, 'set': 4459, 'dutch': 5801, 'sugar': 1112, 'teddy': 4460, 'adult': 1113, 'beards': 4461, 'new': 1114, 'pointedly': 5217, 'vampire': 4463, 'bret': 4464, 'lager': 1116, 'hounds': 4465, 'mmmmm': 1118, 'watered-down': 1119, 'darts': 4466, 'palm': 1120, 'causes': 4467, 'tax': 4468, \"man'd\": 1121, 'best': 3650, 'powerful': 4469, \"watchin'\": 1122, 'remain': 1123, 'smell': 1124, 'vacation': 1125, 'soir': 4470, 'mouse': 4471, 'attack': 1127, 'pathetic': 4472, 'lindsay_naegle:': 4473, '21': 4474, '50%': 1130, 'feat': 1131, 'fringe': 4475, 'ohh': 712, 'superior': 4476, 'wild': 1132, 'army': 1134, 'agent': 1135, 'game': 1136, 'taught': 1137, 'project': 4478, 'wheel': 1139, 'kings': 4479, 'dramatically': 1140, 'trapped': 715, 'glyco-load': 6010, 'edna-lover-one-seventy-two': 4482, 'saint': 1141, 'cough': 1142, 'mistresses': 4483, 'military': 4484, 'el': 1143, 'hitchhike': 4485, 'myself': 4486, 'patty_bouvier:': 1145, 'imitating': 4488, 'tied': 1713, 'jelly': 5221, 'total': 1431, 'stage': 4489, 'delete': 4490, 'was': 4491, 'tv_husband:': 1148, 'make': 4492, 'mocking': 1149, 'many': 1150, 'batmobile': 4493, 'forty-two': 6386, 'stretches': 1152, 'workers': 4494, 'thirsty': 1153, 'mixed': 4495, \"game's\": 1154, 'difficult': 1155, 'chanting': 4496, \"ball's\": 4081, \"how'd\": 4497, 'schorr': 1156, 'combines': 4082, \"tellin'\": 4498, 'stir': 1157, 'suspicious': 4500, 'youse': 4501, 'advertise': 4504, 'hispanic_crowd:': 2855, 'literature': 1499, 'awful': 6773, 'legoland': 6278, 'playhouse': 1158, 'fustigation': 4506, 'alone': 4507, 'comes': 1159, 'jeter': 1160, 'cleaning': 1162, 'knives': 5944, \"g'on\": 4508, 'bow': 1309, 'charlie:': 1164, 'lighting': 1165, 'carve': 811, 'white_rabbit:': 4510, 'conspiratorial': 1166, 'over': 1167, 'poet': 4511, 'cauliflower': 1855, 'squishee': 4512, 'believer': 4514, 'yap': 1169, 'kills': 4515, 'bumped': 1171, 'oils': 4516, 'international': 4517, 'betty:': 717, 'finest': 1506, 'type': 4519, 'norway': 4520, 'unison': 4521, 'blow': 4523, \"yesterday's\": 1175, \"y'know\": 4525, 'ron_howard:': 4526, 'united': 1857, 'de': 1178, 'phrase': 1179, 'skinny': 1180, 'loss': 6390, 'homesick': 4529, \"s'okay\": 1181, 'drink': 4530, \"murphy's\": 4213, 'mckinley': 4531, 'effects': 4533, 'smithers': 4535, 'savvy': 4537, 'corner': 1185, 'deeper': 4538, 'briefly': 6393, 'treasure': 4539, 'work': 5228, 'grade': 5805, 'six-barrel': 4540, 'bronco': 3885, 'sidelines': 1187, 'first': 1188, 'so-called': 1189, 'tv-station_announcer:': 3526, 'young_moe:': 1191, \"doin'\": 4541, 'liability': 3524, 'file': 2424, 'janette': 6398, 'baseball': 1192, 'future': 4542, 'stood': 4543, 'super': 4544, 'ugliness': 6399, 'deliberate': 4546, 'starts': 4547, 'male_singers:': 1195, 'oooh': 4549, 'magic': 1196, 'dan': 1197, 'joining': 4550, 'eighty-five': 4552, 'unearth': 324, 'more': 4553, 'reluctantly': 1199, 'sabermetrics': 4554, 'welcome': 4555, 'punishment': 1201, 'pained': 1202, 'key': 1203, 'ah': 1204, \"d'ya\": 1205, 'four': 4557, 'lotsa': 1206, 'pantry': 4683, 'year': 4558, 'africanized': 1207, 'thoughtless': 4559, 'clone': 1208, 'wall': 1209, 'red': 1210, 'moe-heads': 1211, 'woman:': 4560, 'tow-joes': 5235, 'twenty-two': 4561, 'feld': 4562, 'marquee': 4564, 'control': 1212, 'tee': 4565, 'yelling': 4566, 'yesterday': 1214, 'billboard': 1215, \"coffee'll\": 4567, 'crummy': 4568, 'classy': 3530, 'roy': 4570, 'wakede': 2427, 'lighter': 4572, 'woooooo': 4573, 'wounds': 5237, 'flexible': 1218, 'lock': 6402, 'anthony_kiedis:': 4574, 'suspiciously': 4575, 'modest': 4576, 'dryer': 4577, 'fink': 4579, 'donation': 1219, 'michael_stipe:': 4580, 'be-stainèd': 1221, 'sucking': 4581, 'ruby-studded': 4582, \"'pu\": 1222, 'delays': 4584, 'sugar-me-do': 4585, 'softer': 1224, 'ignorance': 6446, 'romance': 1225, 'idiots': 3537, 'ruled': 4586, 'prank': 3249, \"lefty's\": 1227, 'stored': 4588, 'suds': 1316, \"wearin'\": 4590, 'deli': 4591, 'pig': 4592, 'else': 4593, 'ultimate': 1228, 'anderson': 1230, 'relative': 1231, 'disappointed': 730, 'train': 196, 'inclination': 1233, 'closes': 4595, 'coincidentally': 4596, 'scientists': 4597, 'perfect': 4598, 'annie': 4599, 'law': 1234, 'legs:': 3410, 'gimmicks': 1235, 'recorded': 1236, 'heartily': 1237, 'pinchpenny': 732, 'space': 2674, \"choosin'\": 4600, 'bad-mouth': 4601, 'eggshell': 3480, \"somethin's\": 4602, \"show's\": 1240, 'settlement': 5511, 'pope': 1241, 'hangs': 5141, 'moving': 828, 'inquiries': 4603, 'ride': 1242, 'face': 1243, 'happily:': 4604, 'wonderful': 4605, 'assume': 5244, 'ebullient': 1244, 'cueball': 1245, 'found': 4606, \"messin'\": 1247, 'ends': 4607, 'began': 4608, \"stealin'\": 4609, 'whining': 4610, 'firmly': 4095, 'cheery': 5245, 'faces': 4611, \"somethin'\": 5818, 'newspaper': 1249, 'reserved': 1250, 'irishman': 1251, 'j': 4612, 'arrested:': 4613, 'sassy': 1253, 'resigned': 4615, 'illegal': 1255, 'killer': 4616, 'buddha': 1256, 'opening': 4618, 'corporate': 4619, 'rub-a-dub': 1257, 'daughter': 1258, 'cesss': 4620, 'sanitary': 4621, 'microphone': 1321, 'abercrombie': 4622, 'cat': 3543, 'kidney': 4623, \"toot's\": 4624, 'diving': 4625, 'earth': 1261, 'barkeep': 1262, 'calm': 4627, 'reading:': 1263, 'neon': 5820, 'arab_man:': 4628, 'emporium': 1264, \"i'd\": 4629, 'panicky': 4630, 'needed': 4631, 'outta': 4632, 'november': 4633, 'chip': 3544, 'courthouse': 4634, 'pin': 1267, 'tiny': 4635, 'rig': 1268, 'instead': 1323, 'flips': 1269, 'crippling': 4391, 'upsetting': 4636, 'nightmare': 6148, 'knew': 1270, 'forbidden': 4637, 'data': 4638, 'someday': 4640, 'spits': 4641, 'invented': 4642, 'zero': 4099, 'broken:': 1273, 'strokkur': 1274, 'brown': 4644, 'mel': 1275, 'pajamas': 4645, 'shaken': 1276, \"nothin'\": 1277, 'sitting': 2435, 'ivana': 1278, 'filthy': 4646, 'majority': 1279, 'seminar': 2999, 'kirk': 1280, 'commit': 1281, 'boo': 1659, 'college': 1282, 'paint': 4647, 'eat': 4648, 'winner': 1284, 'begin': 1286, 'jeers': 4650, 'crow': 741, 'cheated': 6227, 'grandmother': 1287, 'mickey': 4652, 'employees': 1288, 'popular': 4653, 'securities': 1291, 'dennis_conroy:': 4654, 'feedbag': 1292, 'die-hard': 5250, 'insightful': 4655, 'sen': 4656, 'crowds': 4657, 'accurate': 1294, 'wad': 1295, \"breakin'\": 4658, 'e-z': 4659, 'coat': 4660, 'emergency': 418, 'obese': 1296, 'artist': 4661, 'wally:': 1297, 'nonchalantly': 4662, 'inning': 1299, 'pardon': 1300, 'pets': 4663, 'glitterati': 4664, 'together': 4665, 'eva': 1302, 'kegs': 4666, 'sequel': 1304, 'updated': 1305, \"bashir's\": 4667, 'slop': 1306, 'yee-haw': 6203, 'had': 4668, 'leak': 1232, 'ohmygod': 4669, 'coy': 1307, 'freak': 4670, 'darkest': 4671, \"poisonin'\": 4672, 'outrageous': 1308, \"g'night\": 4673, 'crap': 4674, 'bar': 4103, 'slyly': 3010, 'xanders': 4675, 'aerospace': 4676, 'steely-eyed': 4677, 'title:': 4678, 'amused': 4680, 'clean': 4681, 'borrow': 1310, 'black': 3012, 'short': 5846, 'mindless': 4106, 'dreamed': 1311, 'coughs': 4682, 'democracy': 5251, 'abusive': 688, 'tin': 1312, 'getup': 1314, 'tender': 4684, 'scream': 1315, 'christmas': 1313, 'composer': 4685, 'inflated': 4686, 'funds': 4687, 'flatly': 1317, 'wave': 1318, 'sec_agent_#1:': 4722, \"takin'\": 4688, 'baritone': 4689, 'philosophic': 4690, 'allow': 4691, 'leathery': 1319, 'jacques:': 1320, 'hottest': 4693, 'sheepish': 3013, 'i/you': 1322, 'horror': 4695, 'logos': 4110, 'coins': 4696, 'bring': 1324, 'dreams': 1325, \"now's\": 5829, 'somebody': 4697, 'faded': 4698, \"school's\": 1327, 'adeleine': 1328, 'up-bup-bup': 1329, 'lovers': 4699, \"aren'tcha\": 4700, 'brunch': 4701, 'asks': 1330, 'endorse': 1331, 'stealings': 4702, 'delivery': 3015, 'photos': 1332, 'pretends': 1333, 'thousand': 4703, 'embarrassed': 1334, 'cab_driver:': 5832, 'wagering': 3556, 'ninety-nine': 4704, 'meal': 1335, 'aside': 1336, 'goods': 4705, 'what': 4706, 'non-losers': 6656, 'self-satisfied': 4707, 'dumb-asses': 4049, 'ingredient': 1337, 'ehhh': 3558, 'moe': 1338, 'perplexed': 4709, 'pepsi': 4710, 'expression': 4711, 'reopen': 4712, 'pawed': 3560, 'roses': 1340, 'larry': 1880, 'chum': 1342, 'haikus': 4713, 'beyond': 1343, \"shouldn't\": 1344, 'snide': 1345, 'hide': 4714, 'correct': 1346, 'express': 4715, 'weekend': 5059, 'survive': 4716, 'someplace': 4717, \"hole'\": 4718, 'sales': 1347, 'sniper': 938, 'não': 4962, 'glass': 4719, 'dishrag': 1348, 'various': 1349, 'health_inspector:': 1350, 'covers': 1351, 'dancing': 4721, 'treat': 1352, 'wienerschnitzel': 1353, 'splattered': 1355, 'shutting': 1357, 'means': 1358, 'cozies': 4723, 'palmerston': 4724, 'chub': 5837, 'dregs': 4725, 'verticality': 1339, 'mason': 669, 'pickled': 752, 'smitty:': 1362, 'distance': 1363, 'straighten': 4727, 'secrets': 3562, 'film': 1365, 'gallon': 4728, 'mcclure': 4729, 'our': 4731, 'joey_kramer:': 4732, 'doreen:': 1367, 'pouring': 1883, 'culkin': 4734, 'federal': 4735, \"crawlin'\": 4736, 'care': 4737, 'alls': 4738, 'inspired': 4739, 'nature': 6343, 'thirty-thousand': 754, 'witty': 1371, 'shores': 6429, 'mad': 4741, 'skinner': 4583, 'expense': 4742, 'ways': 4743, 'arm': 4744, 'morning': 4745, 'ivory': 1376, 'grinch': 4746, 'scores': 4747, 'closer': 1377, 'overstressed': 1379, 'shred': 1380, \"dimwit's\": 1381, 'chained': 1382, 'forbids': 1385, 'bachelorhood': 1341, 'lurleen_lumpkin:': 1386, 'paramedic:': 1387, 'rule': 1388, 'poem': 6550, 'moment': 4750, 'singing/pushing': 1389, 'wound': 1390, 'gold': 1391, 'temporarily': 4752, 'sperm': 4753, 'kadlubowski': 4754, 'authorized': 4755, 'seeing': 1393, 'twelveball': 1394, 'edgy': 6433, 'reactions': 216, 'list': 1395, 'eighty-six': 4756, 'parrot': 4757, '7g': 1396, 'universe': 3588, 'oopsie': 4758, 'reaction': 1397, 'mountain': 1398, 'hated': 4761, 'bottle': 4762, 'dea-d-d-dead': 4763, 'dateline': 4764, \"they'll\": 4765, 'gin': 4766, 'awkwardly': 4767, 'considering': 4768, 'cheerleaders:': 4769, 'nelson_muntz:': 3567, 'sacrifice': 4770, 'slender': 4771, 'souvenir': 3568, 'mcstagger': 1400, 'disgraceful': 1404, 'civil': 1405, 'who': 219, 'noose': 4773, 'ad': 2864, 'man:': 3023, 'ech': 4774, 'fuzzlepitch': 4775, 'shaky': 1406, 'teenage_bart:': 4776, 'sandwich': 4777, 'wire': 3933, 'yuh-huh': 1409, 'achem': 1410, 'occurred': 4778, 'groan': 4779, 'zone': 1412, 'vacuum': 1413, 'spied': 6345, 'mechanical': 4780, 'one': 4781, 'wing': 4782, 'decision': 6520, 'cell-ee': 4783, 'detective_homer_simpson:': 4784, 'mirthless': 4125, 'north': 1415, \"c'mere\": 1416, 'telemarketing': 1890, 'adventure': 1417, 'yo': 4785, 'result': 4786, 'star': 1419, 'stopped': 4127, \"'roids\": 4787, 'dateline:': 4788, 'popped': 5264, 'test-': 5848, 'bubbles': 1420, 'colorado': 6271, \"dolph's_dad:\": 1421, 'brusque': 1422, 'today': 4789, \"tab's\": 1423, 'marry': 1425, 'shoes': 5266, 'quit': 1426, 'killed': 1427, 'tips': 1428, '_timothy_lovejoy:': 1429, 'candidate': 1430, 'exit': 4791, 'dee-fense': 1432, 'gay': 4792, \"liberty's\": 4793, 'steamed': 1433, 'fritz': 4794, 'speech': 4795, 'sending': 4797, 'sold': 1435, 'smallest': 1436, 'grienke': 4790, 'duff_announcer:': 1437, 'buried': 1438, 'jebediah': 4798, 'fellas': 1439, 'drawer': 1440, 'whatchacallit': 1441, 'polite': 1442, 'chinese': 3572, 'between': 1444, 'changing': 4799, 'dracula': 1446, 'taylor': 1448, 'march': 5269, 'tapping': 5853, 'already': 5852, 'married': 6440, 'brow': 1449, 'bust': 4800, 'war': 4801, 'hockey-fight': 1451, 'estranged': 1452, 'watched': 1453, 'dimly': 4720, 'is:': 1454, 'cards': 5272, 'attach': 4802, 'toward': 4803, 'gas': 4804, 'wonder': 1455, 'chick': 5099, 'gimme': 4806, 'terrace': 5603, 'wham': 3574, 'weep': 4807, 'cowboy': 4808, 'double': 1897, 'nemo': 1457, 'bumblebee_man:': 4810, 'beep': 1458, 'insurance': 4811, 'uneasy': 4812, 'elmer': 3436, 'occasional': 1460, 'hillary': 4813, 'ancestors': 1461, 'ruin': 1462, 'steal': 4814, 'karaoke': 1463, 'friction': 1464, 'strawberry': 4815, 'frat': 5494, 'keys': 1465, 'releasing': 4816, 'shades': 4817, 'ooo': 1467, 'safecracker': 643, 'lousy': 4818, 'righ': 4819, 'harvesting': 1469, 'innocent': 4820, 'fast-paced': 4821, 'easter': 1470, \"soundin'\": 1471, 'annus': 4822, 'madman': 1472, \"pope's\": 4823, 'stingy': 4824, 'disgrace': 1473, 'announcer:': 1474, 'grain': 4825, 'cola': 4826, 'we-we-we': 772, 'glum': 4827, 'stirrers': 4828, 'discriminate': 4829, 'sudden': 1144, 'knocked': 1476, 'spread': 1477, 'jubilant': 1479, 'chief_wiggum:': 4830, 'gosh': 1481, 'aiden': 2464, 'basement': 4462, 'pleased': 5277, 'ballclub': 4232, 'abandon': 4831, 'smelling': 4832, 'words': 6448, 'need': 1482, 'without': 1483, 'necklace': 4834, 'read': 1484, 'trying': 776, 'puke-pail': 1359, 'icy': 4835, 'pre-recorded': 4836, 'hourly': 5823, 'fritz:': 4837, 'degradation': 4838, 'purveyor': 4839, 'washouts': 4840, 'teenage_barney:': 1488, 'strongly': 1489, \"linin'\": 4841, 'joe': 1360, 'dana_scully:': 1490, 'mouths': 4842, 'longer': 2461, 'soul': 5324, 'theatah': 4726, 'ons': 4843, 'snorts': 4844, \"wait'll\": 1491, 'introduce': 1492, \"waitin'\": 4845, 'outlive': 4848, 'slobs': 4847, 'menacing': 1495, 'monroe': 6455, 'reserve': 4849, 'access': 1497, 'rude': 4850, 'odd': 4851, 'rug': 4853, 'belts': 1500, 'gang': 5858, \"soakin's\": 1501, 'confidence': 4855, 'attraction': 5282, 'accelerating': 4856, 'grieving': 2463, 'african': 4857, 'family': 4858, 'wear': 4860, 'cecil': 1502, \"neighbor's\": 1503, 'reconsidering': 1504, 'rueful': 1505, 'raising': 4862, 'unsanitary': 1509, 'ab': 1508, 'david': 4863, 'calling': 2403, 'nectar': 4864, 'harm': 4865, 'doof': 5284, 'code': 4867, 'malabar': 1512, 'duel': 1364, 'suit': 1513, 'inanely': 1514, 'dive': 4868, 'broad': 4869, 'rugged': 4870, 'enlightened': 5760, 'champs': 1515, 'loved': 4871, 'despite': 5286, 'dan_gillick:': 5213, 'lucius': 4872, 'furry': 1516, 'tidy': 4873, 'built': 4874, 'showing': 4144, 'rods': 1518, 'bottoms': 4730, 'contact': 3035, 'waking-up': 1519, 'defeated': 4875, 'computer_voice_2:': 4877, 'chain': 4878, 'goes': 4879, 'presidential': 4880, 'all-american': 4881, 'lover': 4882, 'open-casket': 1521, 'un-sults': 4884, \"o'clock\": 4885, 'princesses': 4887, 'clearing': 4888, 'absentmindedly': 1523, 'passed': 2466, 'reward': 4889, \"pickin'\": 5288, 'fine': 4890, 'sounded': 1524, 'class': 1525, 'op': 1526, 'befouled': 4891, 'runt': 1527, 'naked': 1528, 'holy': 4893, 'anything': 4894, 'corn': 4896, 'those': 1530, 'switch': 4897, 'puzzle': 4898, 'copy': 3042, 'fellow': 4899, 'consoling': 4900, 'payback': 4901, 'country-fried': 1532, 'spreads': 4902, 'aggravated': 1534, 'peppers': 1536, 'nine': 5292, 'manjula': 1537, 'mediterranean': 1370, 'heave-ho': 1538, 'mamma': 4903, 'worry': 1539, 'brainiac': 1540, 'wells': 1541, 'omit': 4904, 'break': 4708, 'polygon': 4905, 'jackass': 4906, 'puke-holes': 4907, 'entering': 4908, 'displeased': 1542, 'gee': 4909, 'results': 4910, 'omigod': 6464, \"who'da\": 4911, \"'cause\": 4912, 'struggling': 4913, 'five-fifteen': 4149, 'slightly': 1543, 'sunk': 4914, 'heck': 4915, 'barney-shaped_form:': 1544, 'thumb': 4917, 'ditched': 4918, 'flash': 4919, 'gum': 4920, 'beers': 4921, \"'til\": 4922, 'apu': 6453, 'brick': 1545, 'thanksgiving': 4923, 'yoink': 4924, 'oblivious': 1546, 'notably': 4925, 'fledgling': 238, 'almost': 4926, 'thoughtful': 4927, 'whole': 4740, \"sittin'\": 5294, 'stab': 5578, 'de-scramble': 4928, 'tear': 4929, 'rafter': 1547, 'pepto-bismol': 4930, 'number': 1548, \"we'll\": 1549, \"world's\": 1550, 'living': 4931, 'evergreen': 1552, 'gunter': 5868, 'egg': 1553, 'besides': 4932, 'eddie:': 4933, 'grind': 4934, 'shall': 4935, 'holidays': 4937, 'relax': 1554, 'lord': 4938, 'sub-monkeys': 1555, 'carl:': 4939, \"homer'll\": 4941, 'gabriel': 4942, 'grammys': 4943, 'designated': 4944, 'sighs': 4945, 'parking': 4947, 'desire': 1372, 'uh-oh': 1558, \"other's\": 4948, 'priority': 1559, 'pyramid': 1560, 'sotto': 1932, 'hidden': 2473, 'record': 1374, 'intoxicated': 1562, 'five': 3590, 'aer': 1563, 'statue': 1564, 'lucinda': 1375, 'sound': 3592, 'poor': 4594, \"duff's\": 6470, 'creepy': 4487, 'partner': 4949, 'cologne': 4951, 'rent': 4952, 'forget-me-shot': 4953, 'fighting': 4954, 'soot': 4955, 'permanent': 4956, 'tree_hoper:': 4957, 'meatpies': 3721, 'god': 4958, 'protestantism': 4959, 'curiosity': 5302, 'sideshow_mel:': 4961, 'offensive': 6124, 'insist': 1570, 'hugh:': 1571, 'drinking:': 3593, 'nap': 4963, 'hair': 1572, 'always': 1573, 'terminated': 1574, 'plow': 4964, 'serve': 1575, 'love': 6298, 'quarry': 4966, 'unjustly': 6679, 'feeling': 4967, 'silent': 4968, 'smooth': 4969, 'ads': 4970, 'scram': 1577, '4x4': 3611, 'uhhhh': 4748, '||question_mark||': 1579, 'wind': 1580, 'nominated': 1581, 'say': 4971, 'dictating': 1582, 'official': 4749, 'wedding': 4972, 'sips': 4973, 'being': 4974, 'lovejoy': 4975, 'damn': 796, 'bleak': 1585, 'newly-published': 1586, 'reaching': 5934, 'wiggum': 1587, 'hold': 4976, 'ruined': 1588, 'mouth': 1485, 'surgery': 1590, 'vestigial': 1591, 'k': 1592, 'which': 4136, 'evening': 4977, 'windex': 1593, 'just': 4978, 'state': 6475, 'typing': 4979, 'lungs': 4980, 'flustered': 1594, \"idea's\": 4981, 'competitive': 4982, 'across': 4983, \"workin'\": 6444, 'gave': 6517, 'las': 1595, 'pugilist': 4984, 'affection': 4985, 'and:': 1383, 'quite': 4372, 'aristotle:': 1597, 'cheers': 1384, \"time's\": 1598, 'depending': 1599, \"football's\": 1600, 'isotopes': 4161, 'before': 4986, 'buttocks': 4987, 'clenched': 1601, 'swear': 5309, 'painless': 4988, 'landlord': 1603, 'fondly': 4989, 'sooo': 1604, 'reader': 4990, 'simple': 5135, \"patrick's\": 1606, 'troubles': 4991, 'in': 4992, 'make:': 4993, 'feminine': 1607, \"homer's\": 1608, 'afraid': 1609, 'eyed': 4994, 'rem': 6667, 'play/': 1612, 'creature': 4995, 'plaintive': 1193, 'sugar-free': 5201, 'dressing': 4996, '_zander:': 4997, 'drummer': 1614, 'williams': 4998, 'choice:': 4999, \"'em\": 5000, 'channel': 5001, \"'topes\": 5002, \"i-i'll\": 1615, 'almond': 1616, 'spinning': 5879, 'restroom': 1443, 'sticking': 1617, 'oww': 1618, 'indeedy': 1619, 'pas': 1620, 'archaeologist': 5003, 'snow': 5004, 'knife': 5005, 'square': 5006, 'scrape': 5007, 'surgeonnn': 5008, 'afloat': 1621, 'sobbing': 1622, 'onto': 1623, 'glowers': 5009, 'movies': 4751, 'human': 5010, 'oof': 1624, 'maya:': 5011, 'novel': 5012, 'cattle': 5013, 'windelle': 5014, 'give': 6087, 'careful': 2485, 'motel': 1626, 'catty': 1183, 'au': 5016, 'buffalo': 5017, 'dumptruck': 3928, 'working': 256, 'links': 5018, 'touched': 1628, 'all-star': 1630, 'jerry': 1631, 'paintings': 3686, 'hell': 5019, 'pause': 5021, 'whatever': 5022, 'americans': 1634, 'boat': 1392, 'kickoff': 1636, 'quickly': 1637, 'nauseous': 4167, 'knock-up': 1639, 'ton': 3607, 'log': 1640, 'punkin': 1933, 'offense': 5634, 'ones': 5023, 'legally': 5024, 'using': 5025, 'mock': 6641, 'intense': 1642, 'room': 5884, 'sea': 1644, 'stickers': 3292, 'persia': 5026, 'pepper': 1645, 'audience:': 1646, 'lime': 5027, 'frazier': 1649, 'ballot': 5028, 'around': 5029, 'song': 1650, 'bumpy-like': 5030, 'example': 1651, 'tonight': 5031, 'appreciated': 5032, 'fraud': 4527, 'jeff_gordon:': 1652, 'imagine': 5033, 'africa': 1246, 'thrown': 1654, 'hafta': 1655, 'shuts': 5035, 'friends': 1657, 'four-drink': 1658, 'slays': 1660, 'distributor': 1661, 'frankenstein': 5037, 'anguished': 5038, 'time': 5039, 'dazed': 1663, 'compliments': 5040, 'ya': 5041, 'ye': 3610, 'hunky': 2497, 'handling': 6753, 'thought_bubble_homer:': 5042, 'sideshow': 5043, 'renew': 5044, 'polls': 5045, 'low-blow': 5046, 'stillwater:': 5353, 'talk': 6612, 'hmm': 1666, 'reached': 5049, 'spellbinding': 6486, 'boisterous': 3613, 'victim': 5886, \"washin'\": 1667, 'donor': 5050, 'formico': 1669, 'soaps': 5051, 'pennies': 1670, 'troy_mcclure:': 5811, 'supply': 5052, 'femininity': 1671, 'you': 1672, 'bar-boy': 5053, 'bathroom': 1673, '-ry': 1674, 'strains': 1675, 'jail': 6301, 'amazed': 5055, 'moron': 5057, 'chunk': 1676, 'sweetie': 1677, 'railroads': 4759, 'scrutinizing': 1939, 'k-zug': 5060, 'sooner': 1678, 'he': 5061, 'nuts': 1680, 'boston': 1681, 'richer': 5062, 'offer': 5063, 'happen': 5064, 'far': 1682, 'lookalike': 1683, 'jacques': 1684, 'rainforest': 1685, 'trusted': 1686, 'ram': 1687, 'guzzles': 5066, \"bo's\": 5067, 'professor': 1688, 'toxins': 1399, 'spy': 1689, 'missed': 1690, 'gifts': 1691, 'gums': 6489, 'pip': 485, \"you've\": 1692, 'moon': 814, 'flush': 1694, 'louie:': 5068, 'accepting': 1695, 'feet': 4244, \"table's\": 1697, 'carny:': 269, 'padre': 5069, 'wieners': 1698, 'wondering': 3621, 'disdainful': 6734, \"moe's_thoughts:\": 1700, 'rolls': 5071, 'japanese': 1701, 'shelf': 5072, 'moans': 5073, 'gil_gunderson:': 1702, 'spent': 5074, 'quiet': 271, 'wealthy': 1703, 'co-sign': 1704, 'macbeth': 5075, 'powers': 5893, 'fuhgetaboutit': 5076, \"o'\": 5077, 'join': 5078, 'even': 5079, 'annoyed': 1705, 'including': 1706, 'orders': 5080, 'liver': 5082, 'memories': 1707, 'sheets': 5084, 'tablecloth': 1708, 'payday': 5085, 'motto': 1709, 'frink-y': 5086, 'rumor': 1475, '||exclamation_mark||': 1711, 'deserve': 5087, 'wide': 1712, 'ease': 5088, 'drank': 5089, \"bar's\": 5090, 'football': 1401, 'hoped': 5091, 'prepared': 276, 'compared': 5093, 'hibachi': 1714, 'putty': 1715, 'romantic': 1716, 'enforced': 3082, 'astronaut': 5095, 'them': 5096, 'anxious': 5097, \"nixon's\": 1717, 'sketch': 1718, 'smiling': 5101, 'totally': 5102, 'customers-slash-only': 5103, 'reptile': 5105, 'jay_leno:': 1719, 'beached': 1720, 'light': 1721, 'owes': 5107, 'rabbits': 1722, 'bugging': 3625, 'luxury': 1723, 'ribbon': 1724, 'frescas': 1947, 'gags': 1725, 'socialize': 1726, 'moe-near-now': 1727, 'smugglers': 824, 'settles': 6500, 'ceremony': 5327, 'jump': 1729, 'jimmy': 2506, 'bender:': 1730, 'too': 1731, 'understand': 5109, 'stars': 6501, 'ronstadt': 6064, 'modern': 5110, \"makin'\": 1732, 'sinister': 5111, 'stationery': 3087, 'moved': 1949, 'century': 1734, 'government': 1408, 'proposing': 1736, 'teacher': 1738, 'crowned': 1739, 'je': 1740, 'hand': 1741, \"here's\": 1742, \"hell's\": 1743, 'repeated': 1744, 'ale': 5113, 'salvation': 5114, 'promised': 1745, 'innocence': 1746, 'secret': 1747, 'turlet': 5115, 'swill': 1748, 'partners': 5770, 'plastic': 1749, 'fortensky': 1751, 'habitrail': 1752, 'neat': 1753, 'nursemaid': 1755, 'chauffeur': 5119, 'error': 1756, 'margarita': 1757, 'mini-beret': 1758, 'wrap': 5121, 'vote': 5122, 'real': 5123, 'take-back': 3405, 'punk': 5124, 'falcons': 1760, 'blackjack': 1761, 'rented': 1762, 'harder': 4007, 'nash': 5127, 'tubman': 1763, 'able': 768, 'sad': 1764, 'actors': 1765, 'night': 1766, 'happy': 1767, 'shot': 1768, \"car's\": 5129, 'libraries': 5900, 'treehouse': 1769, 'virility': 1770, 'natural': 822, 'authenticity': 1771, 'incriminating': 5130, 'maiden': 1772, 'surprise': 1773, 'slogan': 5131, 'golf': 5132, 'ha': 5133, 'tomorrow': 2943, 'mexican': 5134, 'road': 1775, 'champion': 1776, 'correcting': 1777, 'mm': 1778, 'holding': 831, 'th-th-th-the': 5136, 'cousin': 1953, 'air': 5137, 'eaten': 5901, \"writin'\": 6443, 'motorcycle': 5138, 'toms': 1414, 'coyly': 5139, 'darn': 5140, 'transylvania': 1779, 'swell': 1780, 'pond': 1781, 'politicians': 3955, 'ratio': 5142, 'forty-nine': 5143, 'tire': 5145, 'simpsons': 5147, 'grants': 5146, 'italian': 1782, 'badmouth': 5148, 'frankly': 1783, 'distinct': 5149, 'part-time': 5775, 'wants': 5150, 'mop': 1784, 'buds': 1785, 'proves': 5151, 'quimbys:': 2511, 'expecting': 1786, 'worldly': 4185, 'what-for': 5153, 'written': 1787, 'murdered': 5645, 'dory': 2515, 'nick': 5155, 'dejected': 5156, \"chewin'\": 1788, 'lorre': 5157, 'airport': 5406, 'thousand-year': 5158, 'wolfe': 1789, 'koji': 1790, 'understood:': 5161, 'dawning': 5162, 'bidet': 1792, 'carl': 1793, 'led': 1794, 'eventually': 5164, '_eugene_blatz:': 1796, 'since': 5165, 'recorder': 1797, 'experienced': 5166, 'quotes': 285, 'freedom': 1798, 'go': 5167, 'raking': 5168, 'meaningfully': 1799, '1895': 1418, 'kodos:': 5171, 'used': 1800, 'awfully': 5172, 'safer': 5173, 'back': 1801, 'happened': 1802, 'warily': 5174, 'pleading': 6406, 'housewife': 4190, 'hole': 1803, 'hero-phobia': 3892, 'thoughts': 288, 'direction': 5796, 'gasp': 5175, 'this': 1805, 'occasion': 5777, 'ring': 5176, 'naegle': 1806, \"where'd\": 1807, 'rolled': 839, 'mister': 1808, 'mock-up': 1809, 'psst': 1810, 'capitalists': 5178, 'maher': 3098, 'friend': 1811, 'fbi': 1812, 'crunch': 6761, 'salvador': 5179, 'crab': 1813, 'wrote': 840, 'harvard': 1814, 'warren': 5340, 'die': 5180, 'bounced': 1815, 'mines': 5182, 'protesters': 1816, 'remorseful': 5183, \"mcstagger's\": 2037, 'ahhhh': 1817, \"smokin'_joe_frazier:\": 5184, 'accidents': 5185, 'twelve-step': 5186, 'sweeter': 5187, 'ape-like': 5188, 'sexton': 6714, 'wang': 5189, 'dumbest': 1818, 'pridesters:': 5190, 'ding-a-ding-ding-ding-ding-ding-ding': 4195, 'putting': 5191, 'lighten': 5192, 'car': 5193, 'also': 1819, 'old_jewish_man:': 1820, 'horrified': 1961, 'begging': 5567, 'washed': 1821, 'through': 1822, 'dumbbell': 1823, 'energy': 5195, 'murmur': 1824, 'nobel': 1825, \"sayin'\": 5197, 'wacky': 1827, 'owner': 5198, 'fayed': 5687, 'corkscrew': 5199, 'celebration': 1828, 'tokens': 1829, 'missing': 5348, 'anyway': 1830, 'jernt': 2525, 'ointment': 5202, 'plywood': 1832, 'phone': 5203, 'a': 1833, 'hilarious': 5204, 'tv': 1834, 'presided': 5205, 'roomy': 1835, 'lee': 1836, 'plastered': 1837, 'halloween': 1838, 'football_announcer:': 3685, 'snapping': 1840, 'backward': 1841, 'unattractive': 1842, 'studied': 1172, 'sigh': 5206, 'ref': 1466, 'beloved': 296, 'kicks': 5207, 'confidentially': 1843, 'savagely': 1844, 'yet': 5209, 'branding': 5210, \"i'm\": 6514, 'laney_fontaine:': 1845, 'comedies': 1846, 'act': 1847, 'finger': 1848, 'gibson': 1970, 'freed': 1849, 'decide:': 1850, 'thomas': 5214, 'alternative': 5215, 'tomato': 5558, 'doubt': 5218, 'tired': 1851, 'answered': 5219, 'tatum': 6118, \"changin'\": 5220, 'tease': 5222, 'ninety-seven': 5223, 'book_club_member:': 1852, \"hobo's\": 5224, 'alky': 6516, 'sang': 1853, 'for': 5225, 'infor': 5226, 'hangout': 1856, 'korea': 5227, 'incapable': 1434, 'eh': 1973, 'dallas': 1858, 'poured': 5230, 'original': 5229, 'hanh': 6241, 'jury': 298, 'pain': 5231, 'tapestry': 5691, 'sadder': 5232, 'machine': 1859, 'bouquet': 5233, 'reading': 5234, 'searching': 5236, 'pressure': 1860, 'fevered': 1861, 'dealer': 1862, 'butts': 5238, 'bubbles-in-my-nose-y': 1863, 'whup': 5239, 'disguised': 5240, 'queen': 5241, 'bartenders': 5242, 'sanitation': 5243, '_babcock:': 1229, 'to': 5918, 'warmly': 1864, 'sector': 1865, 'eight-year-old': 5352, 'times': 1866, 'donated': 5502, 'nobody': 2528, 'directions': 3116, 'station': 5246, 'whoever': 5247, 'bubble': 6437, 'knowingly': 5248, \"high-falutin'\": 6521, 'poetics': 1867, 'celebrate': 1868, \"what's\": 1869, 'bathed': 1870, 'don': 5249, 'donate': 1871, 'hoo': 1872, 'takes': 3119, 'she-pu': 4208, 'candles': 1873, 'lou:': 300, 'eyesore': 1874, 'clams': 5920, 'heartless': 6522, 'send': 1875, 'aidens': 5252, 'dungeon': 1876, 'patterns': 1877, 'twerpy': 6524, \"wouldn't-a\": 1878, 'nods': 1879, 'arms': 3653, 'greatly': 5253, 'sangre': 6459, 'forty-seven': 5254, 'sister': 5255, \"santa's\": 1881, 'turned': 1882, 'phase': 5256, 'muscles': 5257, 'dr': 5258, 'agh': 1884, 'alcohol': 3223, 'bell': 1885, 's': 5358, \"duelin'\": 1886, 'apology': 5196, 'yup': 5259, 'binoculars': 3122, 'mix': 5260, 'am': 5261, 'wishes': 1445, 'stolen': 5262, 'customer': 1887, 'breath': 6341, 'patty': 1888, 'statistician': 5263, 'bunch': 1889, \"rasputin's\": 1891, 'band': 5265, 'shack': 1892, 'deacon': 1893, 'occurs': 5267, 'bashir': 1894, 'button': 5268, 'dropped': 1895, 'bloodball': 1896, 'east': 5270, 'ails': 5271, 'appeals': 859, 'hank_williams_jr': 5273, 'wraps': 1447, 'gotten': 5274, 'groin': 5275, \"buyin'\": 1898, 'marvelous': 1693, 'easily': 5276, 'going': 1899, 'bedroom': 5278, 'radical': 1900, 'forever': 5279, 'information': 5280, 'makes': 5281, 'eminence': 5283, 'dash': 1901, 'coupon': 5285, ':': 5287, 'forget-me-drinks': 1902, 'funny': 1903, 'investigating': 5289, 'puffy': 1904, 'ungrateful': 1905, 'throwing': 1906, 'calendars': 5290, 'full-bodied': 862, 'homer_simpson:': 5291, \"there's\": 1982, 'monster': 2533, 'stiffening': 1907, 'dead': 3657, 'quality': 5872, 'clap': 1908, 'schedule': 1909, 'pizza': 1910, 'andy': 5293, 'price': 1911, 'nigeria': 1913, 'washer': 5295, 'speed': 5296, 'think': 5297, 'mother': 1914, 'grampa': 1915, 'free': 2536, 'mom': 1916, 'british': 1917, 'superhero': 5298, 'string': 5339, 'cheese': 5924, 'texas': 5299, 'lovely': 5300, 'bottles': 1919, 'simultaneous': 5301, 'cameras': 1920, 'wins': 1921, 'prizefighters': 1922, 'britannia': 5303, \"meanin'\": 1923, 'referee': 5304, 'voted': 5305, 'person': 5306, 'barflies:': 1924, 'timbuk-tee': 6172, 'phasing': 5307, \"games'd\": 5311, 'step': 5310, 'considers': 5364, 'brother-in-law': 5313, 'coast': 5925, 'forget': 1925, 'bindle': 5314, 'jerking': 1926, 'king': 1927, 'sketching': 1928, 'complicated': 5315, 'jovial': 1929, 'after': 5365, 'liser': 5316, 'navy': 1931, 'kirk_van_houten:': 6065, 'lanes': 5926, 'onion': 1934, 'lush': 5317, 'bride': 5318, 'goodwill': 1935, 'easy-going': 1936, 'slaves': 5319, 'soaked': 5929, 'wipe': 1937, 'other_player:': 1940, 'towed': 5320, 'territorial': 6531, 'ass': 5321, \"getting'\": 1941, 'sec': 5322, 'indecipherable': 1942, 'hooked': 5323, 'view': 1943, 'banks': 1944, 'brunswick': 1945, 'yawns': 5325, 'wade_boggs:': 1946, 'gambler': 5326, 'tourist': 1948, 'swings': 1951, \"i'll\": 1950, 'wrestling': 867, 'van': 5328, 'grabbing': 5329, 'hear': 5330, 'wash': 5331, 'princess': 3662, 'starla': 1952, 'cletus_spuckler:': 5332, 'farthest': 5333, 'another': 1954, 'reality': 1955, \"treatin'\": 5334, 'when': 1956, 'declare': 5335, 'exclusive:': 1957, 'icelandic': 5336, 'sharing': 3665, 'stock': 1958, 'jobs': 5152, 'nos': 1959, 'wisconsin': 1991, 'then:': 5337, 'dames': 5338, 'it:': 5341, 'gin-slingers': 5342, 'rom': 1960, \"tramp's\": 5343, 'root': 5344, 'due': 1962, 'attractive_woman_#2:': 5345, 'wipes': 5346, 'homers': 1963, 'balls': 1964, 'behavior': 1966, 'twenty-five': 5368, 'law-abiding': 1967, 'triumphantly': 5349, \"leavin'\": 1968, 'lap': 1969, 'owned': 1971, \"man's\": 5350, 'pigs': 1972, 'land': 5351, 'lady-free': 4809, 'according': 1974, 'sink': 1975, 'scrutinizes': 2543, 'hates': 1976, 'bugs': 5354, 'sometimes': 5355, 'tomahto': 1977, 'knows': 5357, 'ees': 1978, 'plums': 5359, 'jockey': 1980, 'wooooo': 1981, 'in-ground': 6480, 'so-ng': 5360, 'miss_lois_pennycandy:': 5361, 'shocked': 1151, 'owe': 5362, 'said:': 1983, 'playing': 1984, 'cavern': 5933, 'wobbly': 5363, 'chumbawamba': 1985, 'jägermeister': 874, 'chow': 6539, 'fresh': 1986, 'ne': 1987, '250': 1988, 'device': 6115, 'grateful': 5366, 'knowledge': 1459, 'sausage': 1989, 'breakdown': 2049, 'indifference': 5367, 'artie_ziff:': 2546, 'see': 1990, 'pitch': 5369, 'darjeeling': 5370, 'walk': 3135, 'beautiful': 1992, 'enthusiastically': 1993, 'traitors': 5371, 'quick': 5372, 'voice_on_transmitter:': 5373, 'short_man:': 5935, 'spectacular': 5374, 'cheaper': 5375, 'hope': 5376, 'excitement': 1994, 'beer': 1995, \"how're\": 6543, 'week': 1996, 'marvin': 5377, 'greedy': 5378, 'musketeers': 1997, 'expert': 1998, 'joined': 5379, \"raggin'\": 1999, 'jacksons': 5381, 'bid': 5938, 'nitwit': 5382, \"c'mon\": 5383, 'trunk': 2000, 'occurrence': 2001, '14': 2002, 'ura': 2004, 'though': 2005, 'vulnerable': 5385, 'alva': 2007, 'bowl': 2008, \"smokin'\": 2009, 'equivalent': 5386, 'tape': 1625, 'cup': 5387, \"goin'\": 2010, 'enthused': 2011, 'ho': 2012, 'si-lent': 2013, 'focused': 5388, 'conference': 5389, \"s'cuse\": 2014, 'stole': 2015, 'barney-guarding': 5390, 'blood': 5391, 'death': 2016, 'generally': 2017, 'krabappel': 6549, \"that'd\": 5392, \"payin'\": 2018, \"phone's\": 5393, 'the': 2019, 'tummies': 2020, 'wore': 2553, 'eager': 6551, 'photo': 3672, 'courts': 2021, \"speakin'\": 5395, 'belt': 2022, '70': 2903, \"what'sa\": 2023, 'splendid': 2024, 'u': 5398, 'ripcord': 5399, 'doug:': 2025, 'duty': 5400, 'naively': 2026, 'vigilante': 2027, 'roof': 2029, 'mailbox': 2030, 'jets': 2031, 'jeez': 5402, 'sunday': 5403, 'maya': 2033, 'unlike': 5404, \"shootin'\": 326, 'replaced': 5405, 'gentleman:': 5684, \"gentleman's\": 12, 'barn': 5407, 'mabel': 5408, 'bags': 5409, 'bartholomé:': 2034, 'overturned': 2035, 'richard': 5410, 'swe-ee-ee-ee-eet': 2036, 'turn': 5411, \"buffalo's\": 2038, 'ironic': 5947, 'stan': 2039, \"lenny's\": 5412, 'whistles': 5380, 'carolina': 5414, 'valuable': 5416, 'rationalizing': 5417, 'studio': 2040, 'confidential': 2041, 'nasty': 5418, 'trick': 5419, 'could': 5420, 'shipment': 5421, 'bob': 2042, 'mortgage': 2044, 'massachusetts': 2045, 'espn': 2046, 'hateful': 2047, 'mayor': 5422, 'walking': 884, 'creme': 2048, 'bono:': 5423, 'furious': 5424, 'planet': 6559, 'hi': 5425, 'given': 5951, 'vance': 5426, 'whoa': 2050, \"isn't\": 2729, 'aid': 2052, 'gargoyle': 2053, 'burnside': 327, 'solid': 6557, 'beanbag': 2054, 'brave': 2055, 'shareholder': 5427, 'freaking': 2056, 'reunion': 5428, 'tail': 5429, 'repressed': 5430, 'thawing': 3677, 'team': 2058, 'philosophical': 5431, 'apply': 2060, 'guns': 5954, 'slow': 2061, 'conversation': 5432, 'watching': 5433, 'combination': 1411, 'bedridden': 2062, 'slab': 5435, 'felony': 5436, 'arguing': 5384, \"can'tcha\": 5437, 'stupidest': 2003, 'cause': 5438, 'scotch': 2065, 'runners': 5439, 'unkempt': 2066, 'crumble': 2067, 'brine': 2068, 'elite': 2070, 'remembered': 5440, 'trail': 2071, 'against': 5442, 'coms': 5100, 'prime': 5444, 'melodramatic': 6563, 'wood': 2073, 'at': 2074, 'jay': 2006, 'harv:': 5447, 'lobster-politans': 2559, 'slapped': 5448, 'certainly': 4679, \"heat's\": 5449, 'blessing': 5450, \"handwriting's\": 2076, 'misfire': 2077, 'bathing': 2078, 'anniversary': 2079, 'faceful': 2080, 'easygoing': 2081, 'ringing': 5453, 'evils': 2082, 'schabadoo': 2083, 'text': 5454, 'sir': 5455, 'spiritual': 5456, 'games': 2086, 'cocktail': 335, 'a-b-': 4243, 'minus': 2087, \"hadn't\": 1480, 'third': 2088, 'nibble': 5459, 'killjoy': 5460, 'pantsless': 5461, 'pack': 2090, 'annoying': 2091, \"wallet's\": 337, 'fan': 2092, 'tiger': 5463, 'genuinely': 2093, 'gangrene': 5464, 'wife': 5465, \"she's\": 5466, 'seconds': 5467, 'aghast': 5957, '_powers:': 5468, 'years': 2094, 'keeps': 5469, 'veteran': 2095, 'especially': 5958, 'flash-fry': 5470, 'handed': 5471, 'judges': 339, 'will': 5472, 'prints': 2096, 'straight': 2097, 'writers': 2099, 'forty': 5473, 'forced': 5474, 'pit': 5475, 'asses': 2100, 'electronic': 2101, 'thought': 5476, 'coffee': 5477, 'stairs': 5478, 'louisiana': 5479, 'thirty-five': 5480, 'boxing': 5481, 'confident': 5482, 'conclude': 2103, 'tearfully': 5483, 'shop': 2104, 'bike': 2105, 'hexa-': 5486, 'mind': 5487, 'lachrymose': 5488, \"don't\": 5489, 'two-drink': 5490, 'portfolium': 5491, 'elaborate': 2106, 'ourselves': 2107, \"won't\": 5492, 'insulin': 5493, 'fatso': 2109, 'd': 4965, 'madison': 6403, 'arise': 6568, 'lotta': 344, 'congoleum': 5495, 'into': 6569, 'changes': 5496, 'truck_driver:': 2110, 'decadent': 5497, 'bite': 2111, \"you'll\": 5499, 'grrrreetings': 2112, 'dollars': 2085, 'call': 2113, 'less': 2114, 'cigars': 5500, 'solo': 5501, 'traitor': 2115, 'than': 2116, 'astonishment': 5503, 'blurbs': 5504, 'stagey': 2117, 'turns': 5505, 'starving': 2118, 'hate': 2119, 'renee:': 5506, \"feelin's\": 2120, \"mo'\": 5507, 'fridge': 2121, 'supervising': 2122, 'urban': 5508, 'peanuts': 5509, 'dismissive': 2123, 'design': 5510, 'jar': 2125, 'neil_gaiman:': 5512, 'points': 2126, 'index': 2127, 'david_byrne:': 5513, 'hotline': 5514, 'b-day': 5515, 'researching': 2568, 'shells': 5516, 'er': 6746, 'dang': 4833, \"we'd\": 5517, 'piling': 2129, 'scrubbing': 2131, 'deny': 2130, 'goodnight': 2132, 'gentle': 2133, 'craphole': 347, 'highest': 5520, 'ears': 2134, 'homeland': 2135, 'beginning': 2136, 'rickles': 5523, 'only': 2137, 'therapist': 3691, 'awareness': 2357, 'gal': 5524, 'feast': 6574, 'shirt': 5525, 'lend': 2138, 'dressed': 2139, 'products': 5526, 'telegraph': 2141, 'pretty': 5528, 'browns': 5967, 'quebec': 5529, 'cracked': 5530, 'worldview': 5531, 'okay': 4250, 'hundreds': 6646, 'nation': 1486, 'businessman_#2:': 5532, 'answer': 2143, 'traditions': 6576, 'grand': 5533, 'grudgingly': 2144, 'flanders:': 2145, 'teacup': 2146, 'replace': 5535, 'choking': 2147, 'uh': 5536, 'duffman:': 2148, 'glove': 5537, 'wangs': 2149, 'carney': 2150, 'determined': 2151, 'necessary': 2152, 'can': 2153, 'rumaki': 2154, 'most:': 2155, 'greetings': 5540, 'sounds': 5969, 'cliff': 1487, 'hits': 2156, \"kids'\": 5542, 'absolutely': 5543, 'unfresh': 5544, 'planning': 5545, 'tsking': 5546, 'male_inspector:': 902, 'ginger': 5547, 'underpants': 2157, 'yours': 2158, 'is': 5548, 'funniest': 5549, 'maintenance': 2159, 'lessons': 2160, 'simp-sonnnn': 5552, 'newest': 2161, 'ze-ro': 5553, 'society': 5554, 'polenta': 5555, 'blossoming': 5556, 'lost': 5557, 'sensible': 2162, 'craft': 2163, 'thanks': 5559, 'sign': 2165, 'worst': 2166, 'tasimeter': 2168, 'pinball': 5561, 'alley': 5562, 'collapse': 6418, 'baloney': 2169, 'stalwart': 2170, 'launch': 3169, 'squirrels': 5564, '/mr': 5566, \"wasn't\": 2171, 'buddies': 907, 'r': 2173, 'tall': 2174, 'her': 2175, 'its': 2176, 'blissful': 2177, 'somewhere': 2178, \"enjoyin'\": 2179, 'space-time': 2180, 'boxing_announcer:': 5569, \"neat's-foot\": 5570, 'unfair': 5571, 'excited': 5974, 'zack': 878, 'allowed': 2181, 'sniffing': 2577, 'ali': 2182, 'winces': 5573, 'delivery_boy:': 5397, 'twenty-nine': 912, 'side:': 2184, 'stocking': 5574, 'aww': 5575, 'appointment': 5576, 'etc': 5577, 'depression': 2185, 'wiggle-frowns': 1493, 'bar_rag:': 2186, 'fixed': 2187, 'ghouls': 2188, \"'tis\": 2189, 'tolerance': 2190, \"doesn't\": 2191, 'speak': 4846, \"i've\": 2192, 'experience': 5976, 'cowardly': 1494, 'poorer': 5580, 'homunculus': 3587, 'not': 3617, \"'round\": 5581, 'gr-aargh': 5582, 'comfortable': 5583, 'suspect': 1496, 'mall': 2194, 'cotton': 5584, 'sits': 2195, 'delts': 3830, \"tomorrow's\": 2196, 'freshened': 914, 'represents': 6584, 'drown': 2198, 'pays': 2199, 'located': 2200, 'nonsense': 2028, \"cheerin'\": 2201, 'martini': 3698, 'specializes': 5726, 'chase': 2202, 'works': 5589, 'klown': 5977, 'intoxicants': 396, 'blokes': 5401, 'hot': 5979, 'regulars': 5590, 'fit': 5591, 'pretentious_rat_lover:': 2032, '3': 5592, 'nantucket': 2203, 'tv_wife:': 5593, '_julius_hibbert:': 2204, 'thighs': 5594, 'juice': 2205, 'half': 2206, 'rid': 5596, 'frink': 1498, 'jerks': 2207, 'resolution': 1271, 'lady': 2208, 'pipe': 2582, 'caused': 2209, 'calls': 5598, 'snitch': 5600, 'checking': 5601, 'high-definition': 2211, 'patient': 2212, \"department's\": 2213, 'barter': 2214, 'hot-rod': 2215, 'chipper': 6009, 'material': 5604, 'push': 2216, 'guiltily': 2605, 'professional': 2217, 'paris': 5605, 'i': 5606, 'tsk': 2219, 'caught': 5607, 'should': 5608, 'flourish': 2221, 'bake': 2223, 'sheet': 5610, 'home': 2224, 'nail': 2225, 'seas': 2226, 'politics': 5612, 'sense': 2227, 'paid': 2228, 'mumbling': 2229, 'designer': 2230, 'chapstick': 2231, 'guessing': 5984, 'germs': 5614, 'pint': 2232, 'shaking': 1854, 'chunky': 2233, 'p': 5616, 'intrigued': 2234, 'pleasant': 2235, 'grandiose': 2236, 'proposition': 5617, 'grub': 5618, 'get': 5619, 'stayed': 5620, 'pity': 5621, 'grumbling': 5623, 'jobless': 2237, 'gutenberg': 5625, 'intruding': 2238, 'hour': 5626, 'lobster': 2239, 'promotion': 5627, 'buying': 2240, 'girl': 2241, 'decided': 5628, 'kisser': 5629, 'terrified': 5630, 'rotten': 2242, 'tick': 5609, 'kinda': 5632, 'bagged': 363, 'lodge': 4861, \"barney's\": 3703, 'agent_miller:': 2245, 'praise': 2246, 'fired': 2248, 'tobacky': 2249, 'ridiculous': 5636, 'sinkhole': 2250, \"it'd\": 2251, 'painting': 2252, 'address': 2254, 'conditioner': 5638, 'astrid': 2255, \"squeezin'\": 2256, 'grenky': 2259, 'cigarettes': 2258, \"scammin'\": 5640, 'by': 2260, 'statesmanlike': 2261, 'enterprising': 2262, '100': 2263, 'support': 5642, '||return||': 5643, 'hunger': 5986, 'beast': 5644, \"she'd\": 3704, 'life-sized': 2264, \"ma'am\": 2265, 'gator:': 5646, 'or': 5647, 'voice:': 5648, 'counterfeit': 2266, 'sloppy': 5649, 'cajun': 5989, 'eliminate': 5650, 'jasper_beardly:': 5651, 'cutie': 5652, 'legend': 5653, 'present': 5654, 'smiled': 2267, 'hours': 2268, 'grin': 2269, 'issuing': 2270, 'tip': 2271, 'series': 281, \"drivin'\": 2273, 'music': 3707, 'toasting': 2274, 'accident': 2275, 'favorite': 2276, 'dramatic': 1507, 'and-and': 3078, 'upon': 5658, 'dennis': 5659, 'kidneys': 1510, 'freely': 2278, 'corpses': 924, 'thoughtfully': 5661, 'kissingher': 5662, \"mother's\": 5663, 'all-all-all': 5664, 'simpson': 2279, 'zinged': 2280, 'maxed': 5667, 'newsletter': 5668, 'children': 2282, 'fat': 2592, 'chairman': 2283, 'correction': 2284, 'pissed': 2285, 'laid': 2286, 'angel': 2287, 'kisses': 5669, 'painted': 368, 'selling': 5671, 'choices': 5672, 'comment': 2288, 'rasputin': 1511, 'dank': 5673, 'anyhoo': 5674, 'meanwhile': 2289, 'needy': 5676, 'dean': 5677, 'kiss': 2290, 'look': 4866, 'crimes': 2291, 'held': 2292, 'kicked': 2294, 'courteous': 2295, 'child': 2296, 'gone': 6071, 'ma': 5682, 'pronto': 2297, \"summer's\": 2299, 'wheeeee': 5996, 'scratcher': 2300, 'stein-stengel-': 2301, 'she': 5685, 'patron_#1:': 5686, 'mull': 2302, 'weak': 6479, 'laws': 2303, 'caricature': 2304, 'solely': 2305, 'edison': 2306, 'dashes': 5690, 'pretend': 5692, 'pfft': 2308, 'foibles': 5693, \"y'see\": 5882, 'unsafe': 2310, 'powered': 6600, 'tight': 2311, 'duff': 370, 'whispered': 2312, 'remains': 5695, 'tongue': 2313, \"you're\": 2314, \"tree's\": 2315, 'seems': 6602, 'explanation': 2316, 'limited': 3360, \"tootin'\": 5696, 'upbeat': 5697, 'klingon': 5698, 'gestated': 372, \"you'd\": 2317, 'wiener': 5699, 'dearest': 1174, 'numbers': 5700, 'tying': 5701, 'lay': 5702, 'german': 2318, 'cummerbund': 2319, 'prettied': 6461, 'octa-': 5703, 'dogs': 2043, 'soul-crushing': 4278, 'hall': 2320, 'yourse': 3188, 'tune': 2321, 'sharity': 2322, 'maggie': 5704, 'boozy': 5706, 'upn': 6002, 'citizens': 5708, 'inspire': 1517, 'rolling': 6607, 'kinderhook': 2323, 'har': 1045, 'date': 2324, 'killarney': 2325, 'actor': 2326, 'sure': 2327, 'eighteen': 2328, 'engraved': 3719, 'polish': 5964, 'unlocked': 5710, 'made': 2329, 'eats': 2330, 'salary': 5711, 'boxcar': 5712, 'premiering': 2331, 'finally': 2332, 'jailbird': 5713, 'fears': 5714, 'divine': 5715, 'mill': 5716, 'feels': 2333, 'paste': 2334, 'instrument': 5717, 'disapproving': 5718, 'lump': 6316, 'bill_james:': 5719, \"talkin'\": 2335, 'floating': 1520, 'knowing': 2336, 'arrest': 588, 'single-mindedness': 2338, 'jeff': 2339, 'lives': 2340, 'checks': 5721, 'attached': 5722, 'huggenkiss': 5723, 'madonna': 2341, 'heavyweight': 5725, 'following': 2342, \"challengin'\": 4089, 'dumbass': 2343, 'wobble': 5729, 'indignant': 5731, 'indigenous': 2344, 'smile': 2347, 'nickel': 2346, 'thunder': 2348, 'exquisite': 5732, 'brandy': 4876, 'disco': 5733, 'fake': 6635, \"collector's\": 2349, 'leg': 1403, 'drains': 2351, 'johnny': 5735, \"he's\": 5736, 'noise': 2352, 'perfume': 2354, 'market': 5738, 'aims': 2355, 'fragile': 2356, 'alfalfa': 6610, 'oddest': 5740, '||comma||': 936, 'fifth': 2358, 'adult_bart:': 5742, 'stuff': 2359, 'attention': 3511, 'grimly': 939, 'barflies': 5744, 'cuz': 5745, 'mugs': 2360, 'refill': 6582, 'muscle': 5747, 'disillusioned': 5748, 'boy': 2361, 'earrings': 5824, 'kids': 2362, 'mimes': 2051, 'touch': 5751, 'bucket': 2363, 'puzzled': 5895, 'pall': 3648, 'excellent': 2364, 'serious': 2366, 'pee': 5752, 'militia': 5753, 'fence': 5754, 'sheriff': 2367, 'gift': 5755, 'little': 5756, 'fourteen:': 5757, 'peter': 6011, \"they're\": 2368, 'flown': 2369, 'drivers': 2370, 'bon-bons': 2372, 'single': 2373, 'bart': 2374, 'huh': 2375, 'steinbrenner': 2376, \"it's\": 5762, 'olive': 2377, 'dictator': 1529, 'babar': 4886, 'very': 5763, 'drove': 6615, 'does': 5764, 'exits': 2378, 'amiable': 2379, 'reason': 5766, 'desperately': 2380, 'pointy': 2381, 'bart_simpson:': 1522, 'dignified': 5767, 'average': 2382, 'bras': 5769, 'strain': 2383, 'jazz': 2384, 'rings': 2385, 'poster': 2386, 'shock': 2610, 'tv_daughter:': 5771, 'woozy': 2057, 'usual': 5772, 'tofu': 2387, 'woulda': 2388, 'moon-bounce': 2389, 'ding-a-ding-ding-a-ding-ding': 5773, 'family-owned': 5774, 'newsweek': 2390, 'crisis': 5776, 'rewound': 5778, 'beaumont': 6145, 'played': 5779, 'cakes': 1938, 'collateral': 2611, 'cowboys': 5781, 'jumping': 2392, 'partially': 2393, 'heads': 2394, 'coming': 5782, 'medicine': 3201, 'brain': 5783, 'rev': 2059, \"round's\": 5784, 'perfunctory': 5785, 'meteor': 5786, 'sneeze': 5787, 'chic': 2395, 'shove': 5789, 'idioms': 5790, 'practice': 6114, 'snotty': 6373, 'one-hour': 5791, 'quero': 2396, 'delightfully': 2397, 'public': 2398, 'science': 5792, 'notices': 2399, 'suicide': 2400, 'getcha': 5795, 'smelly': 4892, \"dyin'\": 2401, \"burnin'\": 2402, 'clientele': 2404, 'flayvin': 2405, 'exhibit': 2406, 'rat-like': 2407, 'season': 5797, 'tester': 5798, 'frozen': 2409, 'cockroach': 5799, 'plus': 2410, 'agency': 4895, 'mean': 2412, 'conversion': 2413, \"who'll\": 2414, 'trapping': 2415, 'wasted': 2416, 'krusty': 2417, 'self-made': 5803, 'grave': 2418, 'wayne': 945, 'school': 2419, 'percent': 2420, 'plans': 2421, 'fletcherism': 3206, 'private': 6018, 'recap:': 5804, 'horns': 3735, \"he'd\": 5806, 'exception:': 2422, 'clothespins': 2423, 'hearing': 2425, 'talkative': 5807, 'spoken': 5808, 'louse': 2426, 'burps': 5434, 'sickly': 5809, 'increasingly': 5810, 'julep': 2064, 'conspiracy': 2428, 'scene': 5812, 'closing': 2429, 'slap': 5813, 'shard': 5814, 'dislike': 5815, \"foolin'\": 3535, 'out': 5816, 'brief': 1531, 'paparazzo': 5817, 'diminish': 2430, 'clothespins:': 5819, 'mitts': 6026, 'random': 2431, 'bottom': 2432, 'walther_hotenhoffer:': 2433, 'nooo': 2434, 'champignons': 5821, 'menlo': 2436, 'managed': 2437, 'customers': 2438, \"fallin'\": 1533, \"tester's\": 5822, 'jesus': 2439, 'amnesia': 2867, \"we've\": 2440, 'absorbent': 815, 'yourself': 2441, 'keeping': 5825, 'creeps': 5826, 'mistake': 5827, 'signal': 5828, 'pages': 2442, 'friendship': 5830, 'probably': 2443, 'squeals': 5831, 'wolveriskey': 2444, 'rims': 2445, 'cricket': 5833, 'plotz': 5834, 'irrelevant': 2446, 'resist': 2447, 'town': 729, 'managing': 3740, 'angry': 5835, 'eleven': 5836, 'peter_buck:': 5838, 'slim': 2069, 'pile': 5839, 'koi': 5840, 'forehead': 5841, 'politician': 2448, 'mural': 2449, '3rd_voice:': 2450, \"daughter's\": 5441, 'tuborg': 952, 'admiration': 5843, 'listened': 5844, 'try': 5845, \"tryin'\": 2451, 'playful': 2453, 'credit': 5847, 'mozzarella': 2454, 'shesh': 2455, 'furniture': 5849, 'falling': 4548, 'well': 5850, 'increased': 5851, 'staying': 2456, 'glamour': 5443, 'burt': 2457, 'finishing': 1402, 'pretending': 956, 'fdic': 3166, 'hops': 2458, 'colonel:': 2459, 'strangles': 5855, 'rain': 4760, \"stayin'\": 5856, 'nothing': 2460, 'chuck': 6033, 'slugger': 5857, 'luckiest': 2462, 'fixes': 394, 'familiar': 5859, 'the_edge:': 2625, 'tigers': 4643, 'giggle': 6637, 'surprising': 2465, 'drederick': 5445, 'tries': 5860, 'hop': 2467, 'burns': 5861, 'getaway': 5862, 'uglier': 2075, \"let's\": 5864, 'sucker': 2468, 'droning': 5865, 'girl-bart': 6035, 'drapes': 5866, 'as': 2469, 'gordon': 5867, 'breathless': 2470, 'asking': 5869, \"thinkin'\": 6512, 'truth': 5870, 'drunks': 2471, 'chinese_restaurateur:': 2472, 'off': 3745, 'flashbacks': 2474, 'fortune': 2475, 'pews': 5873, 'booger': 5874, 'der': 6038, 'threatening': 2476, \"knockin'\": 5875, 'sleigh-horses': 2477, 'ew': 5876, 'dreamily': 2478, \"elmo's\": 5877, 'lowest': 6201, 'barney': 2479, 'morose': 2480, 'voters': 2481, 'sight': 5878, 'blade': 6639, 'skoal': 961, 'clock': 2482, 'slurps': 5880, 'hmmm': 5881, \"starla's\": 2483, 'flying': 2484, 'snake-handler': 2486, 'geysir': 2487, 'arrange': 5451, 'placing': 1356, \"robbin'\": 2488, 'examples': 3750, 'handsome': 5883, 'enjoyed': 2629, 'badges': 2489, 'possessions': 2490, 'slice': 2491, 'cookies': 2492, 'sale': 2493, 'heading': 2494, 'limericks': 2495, 'dinks': 2496, 'invite': 5885, 'koholic': 3901, 'glad': 2498, 'tv_father:': 5887, 'sky': 2499, \"lady's\": 5888, 'felt': 2500, 'underwear': 2501, 'wuss': 3752, 'satisfaction': 2502, 'bull': 5889, 'lear': 5890, 'hired': 5891, 'community': 5892, 'check': 5894, 'barstools': 2503, 'rascals': 2504, 'committee': 2505, 'kill': 5897, 'michelin': 2507, 'poin-dexterous': 1648, 'warned': 2508, 'lemme': 2633, \"liftin'\": 5898, 'ooh': 5899, 'seen': 2666, 'tie': 3221, 'stay': 5902, 'world-class': 2509, \"that'll\": 2510, 'oughta': 5903, 'ladies': 2512, 'narrator:': 2514, 'lifters': 2513, 'aquafresh': 2516, 'good-looking': 5904, 'lady_duff:': 5905, 'sixty-five': 5906, 'dough': 2517, 'sucks': 400, 'kahlua': 5907, 'winks': 2518, 'legal': 1378, 'eddie': 5908, 'watashi': 5909, 'gentles': 2519, 'lying': 5910, 'fica': 3225, \"england's\": 2520, 'slipped': 2521, 'pageant': 966, 'liquor': 5911, 'exact': 2522, 'saget': 2523, \"o'reilly\": 2524, 'zeal': 5054, 'moe-clone:': 1665, 'ticket': 2084, 'minister': 4916, 'mug': 2526, 'weirded-out': 2527, 'catching': 5912, 'civilization': 5913, 'helpless': 5914, 'manchego': 5915, 'bucks': 5916, 'obsessive-compulsive': 5917, 'losing': 2530, 'hug': 2531, 'tragedy': 2532, 'problems': 5919, 'sobriety': 5921, 'changed': 5457, 'premise': 5452, 'sells': 1056, 'taps': 5923, 'ivanna': 5458, 'killing': 6649, 'idiot': 6044, 'apart': 2534, 'same': 2535, 'squirrel': 2537, 'therefore': 2538, \"this'll\": 971, 'homer_': 2540, 'trustworthy': 2541, 'amber_dempsey:': 5927, 'party': 5928, 'notorious': 2089, 'add': 974, 'midge:': 5930, 'looked': 5931, 'heaving': 2542, 'spews': 5932, 'whatsit': 2544, 'involved': 6359, 'dirt': 2545, 'rice': 2547, 'release': 2548, 'away': 5936, 'fat_tony:': 5937, 'whip': 6450, \"how's\": 2549, 'boxer:': 5940, 'queer': 5462, \"bein'\": 2550, 'carll': 2551, 'couch': 5942, 'presently': 2552, 'left': 5943, 'ideal': 5945, 'beach': 2554, 'rainier_wolfcastle:': 5946, 'register': 5948, 'verdict': 5949, 'refreshment': 2555, 'orphan': 5950, 'intervention': 2556, 'ball': 5952, \"cont'd:\": 5953, 'thing': 5955, 'vulgar': 6651, 'crack': 2557, 'unintelligent': 2558, 'measure': 2560, 'supreme': 2561, 'beer-jerks': 5956, 'crotch': 2562, 'cyrano': 2563, 'wiggle': 2564, 'milhouse': 2565, 'poison': 2566, \"clancy's\": 6050, 'childless': 6571, '||period||': 5959, 'fainted': 5960, 'blinded': 3763, 'compromise:': 2567, 'fluoroscope': 5961, 'releases': 5962, 'enemies': 5963, 'specified': 2569, 'mags': 5965, 'crying': 6442, 'contract': 5966, 'alien': 2570, 'sports': 2571, 'microbrew': 5968, 'protesting': 6095, 'hungry': 2572, 'james': 2573, 'gonna': 5970, 'cursed': 5971, 'windowshade': 2574, 'tribute': 5972, 'smokes': 2575, 'called': 5973, 'impeach': 2576, 'haplessly': 2578, 'hands': 6682, 'driving': 2529, 'warn': 5975, 'pass': 2579, \"cleanin'\": 1551, 'outs': 2580, 'jer': 5978, 'arrived': 5980, 'bachelor': 6631, 'celebrity': 5981, 'mrs': 2581, 'laramie': 5982, 'stamps': 6658, 'nachos': 2583, 'flames': 2584, 'twenty': 5983, 'justify': 2648, 'ping-pong': 2585, 'courage': 2586, 'travel': 2587, 'yelp': 2588, 'bolting': 2589, 'handoff': 5985, 'fat_in_the_hat:': 6055, 'fonda': 2590, 'born': 5987, \"bartender's\": 5988, 'win': 5990, 'hoping': 5991, 'piano': 2591, 'source': 5992, 'lurks': 2593, 'however': 5993, 'lainie:': 2594, 'charity': 2595, 'prettiest': 5995, 'splash': 2596, 'meaningless': 2597, 'mumble': 2598, 'carlson': 5997, 'toledo': 5998, 'went': 5999, 'pills': 6663, 'crowbar': 6000, 'agnes_skinner:': 6001, 'pink': 6003, 'soft': 2599, 'done': 2600, 'canyoner-oooo': 6737, 'flashing': 6004, 'radishes': 2601, 'mudflap': 6005, '/': 2602, 'lipo': 6006, 'kramer': 2603, 'smells': 6007, 'edelbrock': 6664, 'breaking': 2604, 'diddilies': 2606, 'patting': 6008, 'trolls': 6059, 'books': 2607, 'crowded': 3156, 'illustrates': 2608, 'must': 986, 'watch': 2609, 'spitting': 6013, 'stadium': 2612, 'scooter': 2098, 'foodie': 6015, 'ingested': 6016, 'tony': 2613, 'sleeping': 989, \"nick's\": 6017, 'restaurant': 2614, 'per': 2615, 'tolerable': 2616, 'crime': 4936, 'sissy': 2617, 'nascar': 2657, 'reentering': 6020, 'rump': 2618, 'head': 6021, 'shoulda': 6022, 'feminist': 6023, 'things': 2619, 'dice': 6027, 'housing': 6028, 'carl_carlson:': 6029, 'presidents': 1556, 'species': 1699, 'beverage': 2620, 'rounds': 2621, 'falsetto': 2622, 'eyes': 2660, 'sacajawea': 6030, 'are': 6031, 'tipsy': 2623, 'bully': 2624, 'aziz': 2626, 'whale': 2102, 'kidding': 6034, 'whether': 6036, 'test-lady': 6037, 'served': 2627, 'peach': 6678, 'skin': 6039, 'names': 2628, \"monroe's\": 2630, 'buy': 6668, 'quarter': 2631, 'starlets': 6040, 'loser': 2632, \"friend's\": 2634, 'justice': 2635, 'doing': 2636, 'recipe': 6041, 'laughs': 2637, 'peace': 6042, 'sexy': 6043, 'bothered': 4940, 'shrugs': 2638, 'hampstead-on-cecil-cecil': 2639, 'forgive': 6045, 'ling': 2640, 'delightful': 6046, 'ugly': 6047, \"tony's\": 6611, 'appalled': 2641, 'boring': 2642, 'wigs': 6048, 'delivery_man:': 6049, 'grabs': 2643, 'soap': 2644, 'weeks': 1557, 'groans': 6051, 'clothes': 495, 'here': 2645, 'publishers': 2646, 'planned': 6274, 'card': 6052, 'extended': 2647, 'assistant': 2649, 'oughtta': 6053, 'still': 6054, 'officer': 2650, 'stools': 2651, \"lovers'\": 6056, 'beer:': 2652, 'derek': 4946, 'someone': 6057, 'badmouths': 2653, 'lugs': 6060, 'scratching': 6061, 'cockroaches': 2654, 'fall': 2655, 'rules': 2656, 'partly': 2658, 'skeptical': 2659, 'elocution': 2661, 'dating': 3886, 'explaining': 2662, 'i-i-i': 6062, 'funeral': 6063, 'easy': 2668, 'ha-ha': 6066, 'mostly': 2663, 'immiggants': 2664, 'tanking': 2665, 'save': 2667, 'jay:': 2669, 'aging': 2670, 'cab': 6068, 'screams': 2671, 'rupert_murdoch:': 6069, 'predictable': 2672, 'dirge-like': 2673, 'nor': 996, 'sniffles': 6072, 'illegally': 6073, 'hose': 2675, 'regretted': 6074, 'fighter': 2676, 'recent': 2677, 'runs': 6075, 'soup': 2678, 'taken': 6076, \"'\": 6070, 'network': 6077, 'wildest': 2679, 'flame': 6078, 'california': 2680, 'completing': 6080, 'lists': 2681, 'cadillac': 6674, 'rough': 2682, 'pad': 6081, 'muertos': 2683, 'shopping': 6082, 'hangover': 6083, 'lease': 6084, 'woman_bystander:': 6086, 'hostile': 2684, 'mole': 6088, 'post-suicide': 6089, 'cops': 2686, 'placed': 2688, 'municipal': 2691, \"guy's\": 2690, 'mess': 999, 'puts': 2692, 'lance': 2693, 'challenge': 6090, 'face-macer': 2694, 'bartending': 6091, 'chapel': 5120, 'gives': 1561, 'sun': 5484, 'hail': 2695, 'score': 6093, 'end': 2696, 'kemi': 6676, 'part': 6094, 'karaoke_machine:': 2697, 'supposed': 2698, 'picture': 2699, 'orgasmville': 3787, 'lisa_simpson:': 2700, 'dies': 2701, 'gasps': 6097, \"drawin'\": 2702, 'peabody': 6527, 'heard': 2703, 'chew': 6099, 'goodbye': 6100, \"professor's\": 2705, 'folk': 5749, 'witches': 2706, 'executive': 1001, 'belly': 6102, 'nice': 6103, 'strolled': 2707, 'island': 2708, 'cherry': 1565, 'attend': 6105, 'thought_bubble_lenny:': 6106, 'because': 6107, 'shooting': 2709, 'window': 6109, 'sing-song': 2710, 'become': 2711, 'grains': 2712, 'cheer': 1566, 'orifice': 6111, 'andrew': 2713, 'fills': 6112, 'awww': 2714, 'match': 6113, 'shelbyville': 2108, 'online': 3124, 'extreme': 2715, 'rob': 6116, 'addiction': 6117, 'concerned': 2716, 'jewelry': 2717, 'scare': 2718, 'insults': 2719, 'bed': 2720, 'entrance': 2721, 'nein': 2722, 'lights': 4348, 'unless': 6120, 'marguerite:': 2723, 'warm_female_voice:': 3253, 'eighty-one': 6122, 'met': 6123, 'commanding': 2724, 'shame': 2725, 'whoo': 2726, 'additional-seating-capacity': 6126, 'snotball': 2727, \"drexel's\": 6127, 'fortress': 3256, 'catch': 2728, 'product': 6128, 'blank': 2731, 'affectations': 6129, 'fair': 4950, 'local': 2732, 'although': 6130, 'cold': 6079, 'attractive': 6132, 'huge': 6133, 'unfortunately': 6134, 'we': 2733, 'remote': 2734, 'ought': 2735, 'sweden': 4351, 'shut': 6135, 'lenses': 2736, \"queen's\": 6136, 'america': 2737, 'fast-food': 2740, 'cheapskates': 6139, 'favor': 1567, 'manjula_nahasapeemapetilon:': 2741, 'edna_krabappel-flanders:': 6141, 'milhouses': 2742, 'brilliant': 6143, 'jaegermeister': 6417, 'dollar': 2743, 'burp': 6144, \"pullin'\": 6426, 'chorus:': 2744, 'mobile': 2746, 'whoops': 6683, \"rustlin'\": 2747, 'eighty-three': 6146, 'certified': 1568, 'roz:': 6147, 'singer': 2749, 'finish': 4353, 'bump': 6085, 'him': 1569, 'society_matron:': 2750, 'texan': 2751, 'wish': 4960, 'operation': 6149, 'sly': 5498, 'disgracefully': 2752, 'wolfcastle': 4355, 'warning': 6151, 'compare': 2753, 'guttural': 6152, 'infiltrate': 6153, 'reporter': 6154, 'ignorant': 2950, 'adjust': 6155, 'gary_chalmers:': 2754, 'kent_brockman:': 2755, 'carmichael': 6156, 'till': 2756, 'shaggy': 2685, 'fun': 6157, 'matter-of-fact': 2757, 'togetherness': 4617, 'phlegm': 6159, 'pure': 6162, 'manatee': 6163, 'wok': 6164, 'kent': 2759, 'sees': 2760, 'each': 2761, 'line': 6165, 'unattended': 6166, 'overflowing': 6167, \"thing's\": 2762, \"somethin':\": 3887, \"gettin'\": 6168, 'exchange': 2687, 'grunt': 2764, 'depressed': 2765, \"spiffin'\": 6169, 'winnings': 2766, 'nfl_narrator:': 6171, 'mind-numbing': 2689, 'fountain': 6173, 'proud': 6174, 'exhale': 2767, 'poke': 2768, 'u2:': 2769, 'villanova': 6176, 'heavens': 1176, 'ned': 2770, 'liven': 6686, 'clubs': 2771, 'cigarette': 2772, \"dad's\": 6630, 'somehow': 6177, 'head-gunk': 2773, 'defiantly': 6178, 'joking': 6476, 'grammar': 2774, \"jimbo's_dad:\": 2775, 'gift:': 2776, 'scared': 439, 'biggest': 6180, 'neck': 6181, 'answering': 2778, 'gargoyles': 2779, 'either': 3265, \"cuckold's\": 6183, 'a-a-b-b-a': 6184, 'accept': 2780, 'mail': 4362, \"poundin'\": 3861, 'eating': 2781, 'charges': 6185, 'impatient': 6186, 'deep': 6092, 'drunkenly': 2782, 'invited': 6189, \"one's\": 6190, 'shoulders': 2783, 'trashed': 2784, \"what'd\": 2785, 'düffenbraus': 6192, 'civic': 6193, 'thirty-nine': 1254, 'crank': 2786, 'heatherton': 2788, 'publish': 2789, 'quarterback': 6196, 'captain': 6198, 'violations': 2790, 'sneaky': 2792, 'procedure': 5734, 'coherent': 2793, 'lowers': 2794, 'wasting': 2795, 'highway': 2796, 'bedbugs': 2797, 'be': 6202, \"hasn't\": 2799, 'suru': 2800, 'hospital': 1017, 'len-ny': 2801, 'realize': 2802, 'halvsies': 683, 'cheering': 6206, 'occupancy': 2803, 'county': 6207, 'spot': 2804, 'choke': 6208, 'choose': 6209, 'irs': 2805, 'teach': 2806, 'knuckle-dragging': 2124, 'seductive': 2807, 'danny': 1578, 'magnanimous': 4037, 'leaving': 3796, 'expired': 6211, 'dizzy': 2809, 'enjoy': 2810, 'seymour': 6213, 'likes': 2811, 'encores': 4694, 'sacrilicious': 2812, 'chicken': 2813, 'eaters': 6216, 'befriend': 6217, 'suave': 4365, 'undated': 2814, 'mistakes': 2815, 'ahead': 6218, 'awkward': 2816, 'y-you': 6692, 'tabs': 2817, 'early': 6219, 'spit-backs': 2818, 'wa': 2819, 'weirder': 1020, 'snap': 2820, 'burger': 6221, 'created': 6222, 'predecessor': 6693, 'utensils': 2821, 'gardens': 2822, 'stretch': 1022, 'hotenhoffer': 1583, 'clandestine': 6223, 'image': 6224, 'own': 6225, 'ago': 2823, 'follow': 2824, 'inserted': 6228, \"c'mom\": 6229, 'friend:': 2825, 'ladder': 2826, 'digging': 6230, 'cool': 2827, 'temple': 172, 'xx': 2828, 'taxes': 6231, 'genius': 2829, 'hm': 6232, 'cutting': 2830, 'theory': 2831, 'nickels': 2832, 'rub': 6233, 'fund': 1584, 'mob': 3798, 'cushions': 2833, 'judge_snyder:': 2834, 'laughing': 2835, 'squeezed': 2836, 'versus': 6236, 'enabling': 2837, 'chuckling': 6237, 'anti-lock': 6238, 'jackson': 6239, 'lurleen': 6240, 'drop-off': 2838, 'sat-is-fac-tion': 2839, 'disturbing': 6242, 'wreck': 2128, 'wistful': 2840, 'twins': 6058, 'hello': 6243, 'church': 6244, \"stinkin'\": 6245, 'troll': 6246, 'themselves': 6247, 'stands': 2841, 'loyal': 4373, 'whee': 2842, 'loves': 2843, 'freaky': 6248, 'hooters': 3804, 'juan': 2844, 'snort': 4312, '||quotation_mark||': 2845, \"lookin'\": 6250, 'paper': 2846, 'alpha-crow': 6252, 'sympathizer': 2847, 'celebrities': 6253, 'dirty': 1589, 'chipped': 6101, 'itchy': 2848, 'beady': 2849, 'truck': 2850, 'second': 2851, 'fondest': 6257, 'lame': 5518, 'sweetheart': 2852, 'chief': 5519, 'yello': 2853, 'alphabet': 2854, 'thru': 2856, 'beat': 6259, 'voice': 2857, 'age': 6260, 'hearts': 2858, 'jack': 6262, 'manfred': 2859, 'polishing': 2860, 'feisty': 2861, 'reaches': 2862, 'fry': 6264, 'snackie': 6104, 'bono': 6265, 'reach': 6266, 'willy': 2863, 'showered': 2866, 'annual': 2865, 'extinguishers': 5780, 'endorsement': 6267, 'frustrated': 1638, 'knit': 5922, 'shoe': 6268, 'snout': 2868, 'buffet': 6269, 'gunter:': 2869, 'wanted': 2870, 'appear': 2871, 'macho': 2872, 'stuck': 4376, 'jukebox': 2873, 'that': 6272, 'liable': 6273, 'super-nice': 2876, 'though:': 2875, 'unhappy': 6275, 'looks': 4377, 'smoke': 2877, 'lots': 6276, 'mount': 6552, 'naval': 6277, 'applicant': 2878, 'wow': 6279, 'bulldozing': 6280, 'lose': 496, 'neighbor': 2880, 'website': 2881, \"they'd\": 6281, 'presto:': 2882, 'voicemail': 2883, 'cash': 2884, 'absentminded': 1182, 'habit': 2885, 'giant': 2886, 'snake_jailbird:': 6283, 'dame': 2887, \"'your\": 2888, 'concentrate': 2889, 'shortcomings': 6285, 'sap': 6108, 'wh': 6287, \"they've\": 6288, 'fulla': 1979, 'full-blooded': 6289, 'latin': 6290, 'ducked': 6291, 'general': 2891, 'kennedy': 6292, 'a-lug': 6110, \"bart'd\": 2892, 'contemptuous': 6293, 'luckily': 6294, 'fast': 3813, 'tentative': 6296, 'aboard': 2893, 'coma': 2894, 'hah': 2895, 'p-k': 2896, 'viva': 1535, 'stripe': 291, \"what'll\": 6299, 'row': 6300, 'crapmore': 2897, 'burglary': 2898, 'unsourced': 2900, 'represent': 2901, 'pillows': 2902, 'fight': 2904, 'doctor': 6302, 'birthplace': 5527, 'mither': 2905, 'side': 6304, 'cross-country': 748, 'mt': 2906, 'harvey': 2907, 'boyhood': 6306, 'eww': 6708, 'broadway': 3818, 'fanciest': 2908, 'holiday': 6308, 'program': 2140, \"jackpot's\": 6309, 'malted': 6310, 'dispenser': 3774, 'snail': 2909, \"'morning\": 2910, 'kermit': 6311, 'virile': 6312, 'beauty': 2911, 'bless': 6313, 'chest': 6314, 'wowww': 6315, 'mate': 2912, 'busiest': 6317, 'muhammad': 2913, 'renee': 2914, 'yammering': 6320, 'pay': 6321, 'stern': 3820, 'hate-hugs': 6322, 'safely': 2917, 'domestic': 6323, 'agents': 6324, 'weekly': 6325, 'died': 2918, 'meals': 2920, 'movie': 6326, 'permitting': 6327, 'fatty': 2921, 'grab': 2922, 'ireland': 2923, 'meditative': 6329, 'fools': 6330, 'cries': 2142, 'crushed': 6331, 'howya': 6332, 'babies': 4382, 'medieval': 2924, 'equal': 6334, 'bald': 5655, 'neighboreeno': 4551, 'resenting': 2925, 'caveman': 2926, 'lookalike:': 2927, \"puttin'\": 6336, 'seemed': 3821, 'rife': 4383, 'recall': 6337, 'paying': 6339, 'kwik-e-mart': 6340, 'encouraging': 2928, 'employment': 6342, 'wears': 2929, \"fendin'\": 2930, 'build': 2931, 'haircuts': 3822, 'lied': 2932, 'julienne': 6344, \"shan't\": 6119, 'indeed': 6346, 'conclusions': 3538, 'wednesday': 6347, 'begins': 6348, 'othello': 6349, 'if': 2933, 'blind': 5534, 'package': 2934, 'seats': 2935, 'perking': 2936, 'whaaaa': 6121, 'booze-bags': 6350, 'freeze': 6351, 'kako:': 2938, 'case': 6352, 'few': 2939, 'drinking': 6353, 'blinds': 6354, 'skills': 2940, 'specials': 6258, 'musta': 2941, 'move': 2942, 'smurfs': 1605, 'foot': 6355, 'kept': 2944, 'methinks': 2945, 'high': 2946, 'closed': 6358, 'outlook': 2947, 'warmth': 2948, 'handler': 2949, 'fork': 6360, \"lisa's\": 1049, 'situation': 3138, 'chateau': 6361, 'why': 3744, 'tornado': 2951, 'roach': 6125, 'difference': 1737, 'bees': 2952, 'seriously': 6362, 'selective': 5312, 'ear': 6363, 'woo-hoo': 2953, 'butterball': 6364, 'royal': 6365, 'good': 6366, 'portentous': 6307, 'rip-off': 2954, 'ratted': 6367, 'clear': 2955, \"industry's\": 2956, 'non-american': 6369, 'subscriptions': 2957, 'hubub': 6718, 'onions': 6370, 'dentist': 2958, 'period': 2959, 'activity': 2960, \"readin'\": 6372, 'clench': 2961, 'goldarnit': 2962, 'administration': 2963, 'mariah': 1610, 'ventriloquism': 2964, 'rainbows': 2965, 'positive': 2966, 'pronounce': 2968, 'lead': 2969, 'mystery': 2970, 'faulkner': 1611, 'sport': 2971, 'pasta': 5538, 'unlucky': 6375, 'oak': 2973, 'santa': 6377, 'conditioners': 2976, 'anger': 2975, 'son': 2977, 'refreshing': 2978, 'labor': 6379, 'cop': 2979, 'bursts': 2980, 'sat': 2730, 'rebuttal': 6380, 'about': 2981, 'distraught': 6381, 'linda': 6717, '1-800-555-hugs': 6382, 'fireball': 6383, 'voyager': 2982, 'twelve': 2983, 'accusing': 6384, 'chug-a-lug': 6385, 'bites': 2984, 'telephone': 3833, 'purse': 2985, 'wha': 6387, 'man': 6388, 'pool': 6719, 'skirt': 2986, 'languages': 2987, 'grey': 6391, 'kindly': 6392, 'beard': 1613, 'miss': 6394, \"ain't\": 6395, 'walks': 2988, 'clips': 6397, 'bright': 3834, 'jig': 2989, 'vanities': 4390, 'fans': 6400, 're-al': 2990, 'looting': 2991, 'flew': 6558, 'hyahh': 4854, 'rafters': 2992, 'friendly': 3453, 'absolut': 6401, 'blooded': 2993, 'bones': 2994, 'fabulous': 6404, 'letter': 6405, 'leans': 2995, 'impress': 2996, 'brockelstein': 5941, 'drawn': 6407, 'venture': 6408, 'literary': 6409, 'errrrrrr': 6410, \"listenin'\": 6411, 'majesty': 6412, 'manipulation': 2997, 'settled': 6131, 'eyeballs': 6413, 'stats': 2998, 'treats': 3835, 'slurred': 3000, 'burt_reynolds:': 6416, 'backwards': 3001, 'argue': 3002, 'tv_announcer:': 3005, 'prolonged': 3004, 'masks': 3006, 'bears': 3007, 'brakes': 3008, 'scornfully': 3009, 'actually': 6419, 'worse': 3011, 'cent': 1226, 'lenny:': 6420, 'geez': 6421, 'contemplates': 3014, 'tar-paper': 5688, 'limber': 6422, 'accounta': 3016, 'rhode': 3017, 'stengel': 6423, \"o'problem\": 3018, 'shoots': 6424, \"city's\": 6425, 'mild': 1057, 'alcoholism': 6427, 'wrecking': 6428, 'moan': 1260, 'watt': 3019, 'startup': 3020, 'today/': 6430, 'pub': 3021, 'ironed': 6431, 'deeply': 6432, 'certain': 3022, 'please': 6434, 'frosty': 5413, 'ugh': 6435, 'director': 3024, 'piece': 6436, \"'evening\": 6438, \"snappin'\": 3025, 'diets': 3026, 'eye': 6439, 'lecture': 6441, 'goo': 3515, 'squashing': 3027, 'shakespeare': 6445, 'teams': 3028, 'right': 5550, 'stinks': 6447, 'religion': 3029, 'finding': 6137, 'napkins': 6449, 'sixty': 3030, 'crayon': 3031, 'pian-ee': 1061, 'trench': 3032, 'pleasure': 6452, 'pus-bucket': 483, 'cupid': 6454, 'sidekick': 6138, 'highball': 6456, 'declan_desmond:': 3033, 'sustain': 6457, 'ticks': 3034, 'vincent': 3036, 'breakfast': 3037, '_hooper:': 3038, 'inside': 6460, \"havin'\": 3039, 'fictional': 3040, 'extra': 3041, 'admit': 6462, 'chicks': 3043, \"'im\": 3044, 'sickened': 3045, 'vengeance': 2738, 'western': 3046, 'deer': 4503, \"who's\": 3047, 'life-partner': 3048, 'husband': 3049, '||dash||': 3050, 'triple-sec': 3051, 'language': 6465, 'la': 6729, 'carefully': 6466, 'usually': 6467, 'deal': 3052, 'blimp': 6468, 'spine': 6140, 'dads': 6469, 'honest': 3054, 'turkey': 2072, 'ahem': 6471, 'yoo': 6472, 'troy': 3055, 'tank': 3056, 'm': 3057, 'barney-type': 3333, 'defected': 2539, 'pre-columbian': 3058, 'rats': 6474, 'big': 3059, 'lawyer': 3060, 'sharps': 3061, 'wine': 3062, 'loud': 3063, 'dull': 6477, 'been': 694, 'bobo': 6478, 'foil': 3064, 'gulps': 3065, 'pickle': 2164, 'everywhere': 6142, 'firm': 5560, 'fury': 3066, 'interrupting': 3067, 'journey': 6481, 'summer': 6482, 'incredulous': 3068, 'stupidly': 3069, 'stranger:': 3070, \"others'\": 3071, 'semi-imported': 3072, 'awesome': 6484, 'crayola': 2167, 'aged': 4401, 'soaking': 6487, 'low': 1478, 'hibbert': 3073, 'priceless': 3074, \"aren't\": 3075, 'sex': 3076, 'quimby_#2:': 6488, 'said': 3077, 'torn': 6214, 'mmm-hmm': 3079, 'suspended': 5563, 'picnic': 6492, 'vegas': 6493, 'indifferent': 6494, 'past': 6495, 'application': 6496, 'neighbors': 6736, 'sister-in-law': 3081, 'delicious': 2745, 'wage': 3083, 'rest': 6497, 'radiator': 3084, 'drive': 6498, 'lofty': 6499, 'muslim': 3085, 'election': 3086, 'lifts': 3088, 'pitcher': 6502, 'broken': 6684, 'bank': 3089, 'cecil_terwilliger:': 1069, 'jogging': 3090, 'compressions': 3091, 'kay': 6503, 'ow': 3092, 'shrieks': 3093, 'course': 3094, 'nose': 3095, 'rhyme': 3096, 'hopeful': 3097, 'brewed': 6504, \"tv'll\": 6505, 'gregor': 2748, 'à': 3845, 'upgrade': 6508, 'something:': 6509, 'spilled': 6510, 'refreshingness': 6226, 'fish': 4692, 'carb': 3934, 'return': 6511, 'driver': 3099, 'uncreeped-out': 5565, 'whatchamacallit': 978, 'pilsner-pusher': 3100, 'crony': 3101, 'poker': 3102, 'power': 3103, 'rocks': 3104, 'listening': 6513, 'nervously': 3105, 'retain': 3106, 'normal': 6067, 'option': 6515, 'hardhat': 3107, 'tones': 3108, 'yea': 3109, 'break-up': 3110, 'ho-la': 3111, 'bought': 3112, 'smug': 2244, 'beating': 6518, 'cloudy': 3113, 'sudoku': 3114, 'joey': 3115, 'pretzels': 3117, 'seem': 3118, 'discussing': 3120, 'cable': 2172, 'realizing': 6523, 'intriguing': 1072, 'stepped': 3121, 'gel': 3123, 'george': 6744, 'acronyms': 6525, 'apu_nahasapeemapetilon:': 6745, 'portuguese': 3125, 'remembering': 3126, 'filed': 5015, 'escort': 3843, 'sampler': 6528, 'size': 6529, 'chilly': 3127, 'pants': 1627, 'thirty': 6530, 'busy': 3128, \"marge's\": 6532, 'acquaintance': 4406, 'pulitzer': 6533, 'career': 3130, 'marjorie': 6534, 'pats': 3131, 'yew': 6535, 'beings': 1629, 'cow': 6536, 'hanging': 3132, 'assassination': 6537, 'forgotten': 6538, 'waste': 3133, 'sitar': 3134, 'sixty-nine': 6540, 'tap': 3136, 'effect': 6541, 'cheaped': 6542, 'parents': 3137, 'kim_basinger:': 1450, 'us': 1369, 'food': 6150, 'judgments': 6545, 'super-tough': 6546, 'plant': 4408, 'punches': 6547, 'handwriting': 6751, 'hootie': 6548, 'chastity': 3139, 'racially-diverse': 1076, 'duffed': 3140, 'elves:': 6553, 'satisfied': 6554, 'c': 6752, \"brockman's\": 3141, 'fights': 3142, 'griffith': 4411, 'afterglow': 6555, 'news': 3143, 'gun': 6556, 'chuckles': 5568, 'throw': 3144, \"'ceptin'\": 4412, 'telling': 3145, 'name:': 3146, 'billiard': 3147, 'something': 6560, 'trenchant': 6561, 'museum': 6562, 'bedtime': 3148, 'mccall': 3850, 'clapping': 3149, 'cobra': 6564, 'attractive_woman_#1:': 6565, 'kl5-4796': 3150, 'shoo': 3151, 'rockers': 1632, 'unbelievable': 3153, 'fingers': 4257, 'heroism': 3154, 'fix': 6567, 'important': 3155, 'precious': 4004, 'junior': 4419, 'comedy': 3157, 'x': 3158, 'smuggled': 3159, 'man_with_tree_hat:': 3160, \"tatum'll\": 3161, 'payments': 6570, 'everyone': 5020, 'hammock': 3162, 'writer:': 3163, 'fierce': 3165, 'developed': 1633, 'locked': 6572, 'marmaduke': 6573, 'put': 4415, 'barney_gumble:': 3167, 'professor_jonathan_frink:': 6575, \"mopin'\": 3569, 'outside': 6577, 'matter': 6578, 'belly-aching': 6579, 'boyfriend': 6356, 'my-y-y-y-y-y': 4852, 'technical': 1635, 'starla:': 6580, 'worried': 3168, 'busted': 6581, 'court': 3170, 'rip': 3171, 'blown': 3172, 'grunts': 3173, 'midge': 6583, 'potato': 3174, \"valentine's\": 3175, 'riding': 3176, 'acting': 6585, 'bum:': 5572, 'superdad': 6586, 'tooth': 3177, \"man's_voice:\": 3491, 'hairs': 6587, 'presentable': 6588, 'thanking': 3179, 'lazy': 3180, 'radio': 3181, 'junkyard': 3182, 'albert': 3853, 'jerk': 2758, 'gets': 3183, 'geyser': 6589, 'honor': 6590, \"stabbin'\": 3184, 'riveting': 2183, 'aggravazes': 6591, 'on': 6592, 'silence': 6025, 'idealistic': 6593, '_burns_heads:': 6594, 'tanked-up': 3925, 'told': 6595, 'perverted': 6596, 'ron': 3185, 'sincerely': 6597, 'delighted': 6160, 'robin': 6598, \"rentin'\": 3186, \"carl's\": 5108, 'spotting': 6599, 'smoothly': 6601, 'haw': 6195, 'nearly': 3857, 'innocuous': 3187, 'sweetest': 6603, 'swan': 3189, 'reflected': 6604, 'strips': 6605, 'says': 6606, 'gotta': 3190, 'platinum': 3191, 'entire': 6608, 'scanning': 6609, 'shrugging': 3192, 'acquitted': 3193, 'level': 3194, 'casual': 3195, 'twenty-six': 3196, 'rainier': 3197, 'burning': 3198, 'company': 6613, 'awake': 6700, 'stops': 6614, 'mmm': 3199, 'nameless': 3200, 'helping': 3202, 'figures': 3203, 'life:': 6617, 'like': 6618, 'upset': 6619, 'noticing': 6620, 'advice': 3204, 'monkey': 3205, 'change': 6621, \"ragin'\": 1643, 'gruff': 6624, 'extremely': 3207, 'l': 6625, 'laney': 6626, 'kidnaps': 3208, 'ken:': 1085, \"dog's\": 3209, 'alma': 6627, 'cover': 1361, 'helllp': 3210, 'demand': 5446, 'automobiles': 3211, 'young_marge:': 3212, 'scum-sucking': 6632, 'dumb': 3213, 'virtual': 4649, 'thousands': 6634, 'fruit': 3214, 'pointing': 3215, 'microwave': 6638, 'diet': 3311, 'lisa': 5579, 'shriners': 1456, 'failure': 3216, 'center': 3217, 'southern': 3218, 'bowled': 6640, 'vomit': 3219, \"'ere\": 3220, 'guess': 6642, 'bauer': 6451, 'suddenly': 6643, 'ruint': 3313, 'wally': 3862, 'comforting': 3222, 'depository': 6644, 'domed': 6645, \"could've\": 3224, 'denver': 6647, 'gulliver_dark:': 1647, 'sieben-gruben': 3226, 'job': 6648, 'deadly': 2763, 'loneliness': 6650, 'gut': 3227, 'moe_recording:': 5896, 'parked': 6763, 'sobo': 6764, 'asked': 3896, 'days': 6652, 'chug': 6653, \"hawkin'\": 6654, 'mini-dumpsters': 3228, 'close': 6655, 'jewish': 3229, 'hitler': 4422, 'angrily': 3230, 'coach:': 6657, 'sunglasses': 3231, 'storms': 6170, 'standing': 93, 'hemorrhage-amundo': 6659, 'committing': 6660, 'wondered': 3232, 'whistling': 6661, 'nope': 6662, 'oh-so-sophisticated': 4423, 'grubby': 3866, 'louder': 3233, 'handle': 4424, 'roller': 3234, 'eightball': 3235, 'elephants': 3236, \"i-i'm\": 3237, 'touchdown': 6665, 'birth': 3238, 'industry': 3239, 'broke': 6666, 'guff': 6490, 'bitter': 3240, 'coal': 6669, 'detail': 4180, 'dangerous': 3241, \"g'ahead\": 3242, 'great': 6670, 'homeless': 6671, 'items': 3243, 'gimmick': 3244, 'garbage': 4304, 'standards': 5802, 'issues': 3245, 'taunting': 3246, 'gasoline': 6672, 'steak': 6673, 'yes': 3247, 'utility': 3248, \"ol'\": 3250, 'nagurski': 6675, 'fell': 6677, 'dreary': 6175, 'massage': 3251, 'lewis': 6680, 'foundation': 3252, 'burn': 1093, 'bowling': 4571, 'eu': 3255, 'hmf': 3254, 'conversations': 3257, 'heart': 1653, 'couple': 668, 'movement': 3258, 'strictly': 6681, 'elect': 5034, 'rebuilt': 3259, 'weary': 6506, 'lard': 4522, 'race': 3321, 'flower': 3260, \"plaster's\": 4505, 'loan': 4859, 'ahhh': 3261, 'humiliation': 6685, 'neighborhood': 3262, 'kang:': 3263, \"'now\": 3264, 'aah': 6687, 'muttering': 3266, 'nightmares': 4429, 'ten': 3267, 'bupkus': 3268, 'knock': 3269, 'sympathetic': 3270, 'bar:': 3406, 'enveloped': 6689, 'flophouse': 6690, 'massive': 6691, 'touches': 3129, 'possibly': 1656, 'tense': 3514, 'murderously': 3271, 'bold': 4430, \"fightin'\": 3272, 'marriage': 5036, 'while': 5585, 'drinker': 5163, 'glen': 6694, 'reporter:': 3273, 'propose': 6695, 'everybody': 3274, 'dingy': 3275, 'fiiiiile': 6696, 'doreen': 6697, 'weird': 6698, 'hiya': 3276, 'william': 3277, 'billy_the_kid:': 3278, 'nahasapeemapetilon': 1096, 'counting': 6701, 'plug': 6770, 'rap': 2197, 'embarrassing': 4432, 'modestly': 6702, 'honored': 3279, 'states': 3598, 'rivalry': 6703, 'singing': 6704, 'dae': 6705, 'did': 3280, 'find': 6706, 'pro': 6707, 'nicer': 6709, 'stop': 3152, 'bulletin': 515, 'st': 1662, 'intention': 3281, 'minimum': 3872, 'mcbain': 4229, 'mostrar': 6628, 'buzz': 6771, 'shoulder': 5586, 'cannot': 6710, 'life': 6179, 'gumbo': 6711, \"weren't\": 6712, 'enemy': 4435, 'beats': 3282, '91': 3283, 'word': 6713, 'noggin': 3284, 'safe': 4436, 'forgot': 6715, 'hems': 6716, 'b': 3285, 'two-thirds-empty': 2777, 'contented': 5588, 'wishful': 1099, 'horrors': 3286, 'ragtime': 6720, 'rapidly': 6721, 'diablo': 3287, 'clears': 3288, 'wish-meat': 6182, 'hustle': 3581, 'gag': 3289, 'scary': 6722, 'endorsed': 6723, 'dials': 6724, 'sleep': 3290, 'flaming': 3291, 'religious': 6725, 'nerve': 6726, 'wake': 6727, 'hook': 3293, 'cocking': 6728, 'cars': 1664, 'emotional': 3294, 'harmony': 3295, 'mike': 6396, 'mexicans': 6730, 'germany': 6731, 'hellhole': 6733, 'guide': 1407, 'losers': 6735, 'ruuuule': 3296, 'cans': 3297, 'awed': 4440, 'sixteen': 6738, 'grampa_simpson:': 3298, 'cooker': 6739, 'half-back': 6740, 'oooo': 6741, 'passes': 6742, 'bonding': 6743, 'prompting': 6776, 'unrelated': 3299, 'sprawl': 3300, 'talk-sings': 4528, 'producers': 5047, 'w': 5048, 'risqué': 6748, 'larson': 3301, 'art': 6750, 'blob': 3986, 'detective': 3302, 'milks': 520, 'glasses': 3303, 'lookalikes': 262, 'dry': 3304, 'ing': 3305, 'snake': 3306, 'sue': 6754, 'average-looking': 3307, 'boneheaded': 3383, 'hurry': 3308, 'restless': 3309, 'beneath': 6755, 'yeah': 6756, 'bigger': 6757, 'robot': 3310, 'papa': 6758, 'whaaa': 6759, 'insulted': 1918, 'stalking': 1354, 'fad': 3312, 'cream': 6760, 'yourselves': 606, '1979': 6762, 'table': 3314, 'malfeasance': 3315, 'milhouse_van_houten:': 5595, 'trucks': 2452, 'raise': 6765, 'skinheads': 3316, 'youth': 3317, 'certificate': 3318, \"secret's\": 6766, 'convenient': 3319, 'taxi': 3322, 'foam': 6767, 'rich': 6768, 'repay': 5597, 'knuckles': 6769, 'nervous': 1668, 'rat': 3323, 'agent_johnson:': 3324, 'drug': 3325, 'amazing': 3326, 'uninhibited': 1200, 'tempting': 3327, 'shark': 4449, 'joke': 3328, 'france': 3329, 'stores': 3330, 'gear-head': 6774, 'squadron': 6187, 'diapers': 6775, 'focus': 3331, 'souped': 3883, 'brain-switching': 3332, 'fausto': 4451, 'musses': 6188, 'patrons': 3334, 'selma': 3335, \"haven't\": 6778, 'prices': 2210, 'gus': 6191, 'hang': 3336, 'office': 3337}\n"
     ]
    }
   ],
   "source": [
    "\"\"\"\n",
    "DON'T MODIFY ANYTHING IN THIS CELL\n",
    "\"\"\"\n",
    "# Preprocess Training, Validation, and Testing Data\n",
    "helper.preprocess_and_save_data(data_dir, token_lookup, create_lookup_tables)"
   ]
  },
  {
   "cell_type": "markdown",
   "metadata": {
    "deletable": true,
    "editable": true
   },
   "source": [
    "# Check Point\n",
    "This is your first checkpoint. If you ever decide to come back to this notebook or have to restart the notebook, you can start from here. The preprocessed data has been saved to disk."
   ]
  },
  {
   "cell_type": "code",
   "execution_count": 6,
   "metadata": {
    "collapsed": true,
    "deletable": true,
    "editable": true
   },
   "outputs": [],
   "source": [
    "\"\"\"\n",
    "DON'T MODIFY ANYTHING IN THIS CELL\n",
    "\"\"\"\n",
    "import helper\n",
    "import numpy as np\n",
    "import problem_unittests as tests\n",
    "\n",
    "int_text, vocab_to_int, int_to_vocab, token_dict = helper.load_preprocess()"
   ]
  },
  {
   "cell_type": "markdown",
   "metadata": {
    "deletable": true,
    "editable": true
   },
   "source": [
    "## Build the Neural Network\n",
    "You'll build the components necessary to build a RNN by implementing the following functions below:\n",
    "- get_inputs\n",
    "- get_init_cell\n",
    "- get_embed\n",
    "- build_rnn\n",
    "- build_nn\n",
    "- get_batches\n",
    "\n",
    "### Check the Version of TensorFlow and Access to GPU"
   ]
  },
  {
   "cell_type": "code",
   "execution_count": 7,
   "metadata": {
    "collapsed": false,
    "deletable": true,
    "editable": true
   },
   "outputs": [
    {
     "name": "stdout",
     "output_type": "stream",
     "text": [
      "TensorFlow Version: 1.0.0\n",
      "Default GPU Device: /gpu:0\n"
     ]
    }
   ],
   "source": [
    "\"\"\"\n",
    "DON'T MODIFY ANYTHING IN THIS CELL\n",
    "\"\"\"\n",
    "from distutils.version import LooseVersion\n",
    "import warnings\n",
    "import tensorflow as tf\n",
    "\n",
    "# Check TensorFlow Version\n",
    "assert LooseVersion(tf.__version__) >= LooseVersion('1.0'), 'Please use TensorFlow version 1.0 or newer'\n",
    "print('TensorFlow Version: {}'.format(tf.__version__))\n",
    "\n",
    "# Check for a GPU\n",
    "if not tf.test.gpu_device_name():\n",
    "    warnings.warn('No GPU found. Please use a GPU to train your neural network.')\n",
    "else:\n",
    "    print('Default GPU Device: {}'.format(tf.test.gpu_device_name()))"
   ]
  },
  {
   "cell_type": "markdown",
   "metadata": {
    "deletable": true,
    "editable": true
   },
   "source": [
    "### Input\n",
    "Implement the `get_inputs()` function to create TF Placeholders for the Neural Network.  It should create the following placeholders:\n",
    "- Input text placeholder named \"input\" using the [TF Placeholder](https://www.tensorflow.org/api_docs/python/tf/placeholder) `name` parameter.\n",
    "- Targets placeholder\n",
    "- Learning Rate placeholder\n",
    "\n",
    "Return the placeholders in the following tuple `(Input, Targets, LearningRate)`"
   ]
  },
  {
   "cell_type": "code",
   "execution_count": 8,
   "metadata": {
    "collapsed": false,
    "deletable": true,
    "editable": true
   },
   "outputs": [
    {
     "name": "stdout",
     "output_type": "stream",
     "text": [
      "Tests Passed\n"
     ]
    }
   ],
   "source": [
    "def get_inputs():\n",
    "    \"\"\"\n",
    "    Create TF Placeholders for input, targets, and learning rate.\n",
    "    :return: Tuple (input, targets, learning rate)\n",
    "    \"\"\"\n",
    "    # TODO: Implement Function\n",
    "\n",
    "    text_input = tf.placeholder(tf.int32, shape=(None,None), name=\"input\")\n",
    "    targets = tf.placeholder(tf.int32, shape=(None,None), name='targets')\n",
    "    learning_rate = tf.placeholder(tf.float32, shape=None, name='learning_rate')\n",
    "    return text_input, targets, learning_rate\n",
    "\n",
    "\n",
    "\n",
    "\"\"\"\n",
    "DON'T MODIFY ANYTHING IN THIS CELL THAT IS BELOW THIS LINE\n",
    "\"\"\"\n",
    "tests.test_get_inputs(get_inputs)"
   ]
  },
  {
   "cell_type": "markdown",
   "metadata": {
    "deletable": true,
    "editable": true
   },
   "source": [
    "### Build RNN Cell and Initialize\n",
    "Stack one or more [`BasicLSTMCells`](https://www.tensorflow.org/api_docs/python/tf/contrib/rnn/BasicLSTMCell) in a [`MultiRNNCell`](https://www.tensorflow.org/api_docs/python/tf/contrib/rnn/MultiRNNCell).\n",
    "- The Rnn size should be set using `rnn_size`\n",
    "- Initalize Cell State using the MultiRNNCell's [`zero_state()`](https://www.tensorflow.org/api_docs/python/tf/contrib/rnn/MultiRNNCell#zero_state) function\n",
    "    - Apply the name \"initial_state\" to the initial state using [`tf.identity()`](https://www.tensorflow.org/api_docs/python/tf/identity)\n",
    "\n",
    "Return the cell and initial state in the following tuple `(Cell, InitialState)`"
   ]
  },
  {
   "cell_type": "code",
   "execution_count": 9,
   "metadata": {
    "collapsed": false,
    "deletable": true,
    "editable": true
   },
   "outputs": [
    {
     "name": "stdout",
     "output_type": "stream",
     "text": [
      "Tests Passed\n"
     ]
    }
   ],
   "source": [
    "def get_init_cell(batch_size, rnn_size):\n",
    "    \"\"\"\n",
    "    Create an RNN Cell and initialize it.\n",
    "    :param batch_size: Size of batches\n",
    "    :param rnn_size: Size of RNNs\n",
    "    :return: Tuple (cell, initialize state)\n",
    "    \"\"\"\n",
    "    # TODO: Implement Function\n",
    "\n",
    "    lstm = tf.contrib.rnn.BasicLSTMCell(rnn_size)\n",
    "    rnn_layers = 1\n",
    "    rnn_cell = tf.contrib.rnn.MultiRNNCell([lstm])\n",
    "\n",
    "    initial_state = rnn_cell.zero_state(batch_size, tf.float32)    \n",
    "    initial_state_identity = tf.identity(initial_state, name='initial_state')\n",
    "    \n",
    "    return rnn_cell, initial_state_identity\n",
    "\n",
    "\n",
    "\"\"\"\n",
    "DON'T MODIFY ANYTHING IN THIS CELL THAT IS BELOW THIS LINE\n",
    "\"\"\"\n",
    "tests.test_get_init_cell(get_init_cell)"
   ]
  },
  {
   "cell_type": "markdown",
   "metadata": {
    "deletable": true,
    "editable": true
   },
   "source": [
    "### Word Embedding\n",
    "Apply embedding to `input_data` using TensorFlow.  Return the embedded sequence."
   ]
  },
  {
   "cell_type": "code",
   "execution_count": 10,
   "metadata": {
    "collapsed": false,
    "deletable": true,
    "editable": true
   },
   "outputs": [
    {
     "name": "stdout",
     "output_type": "stream",
     "text": [
      "Tests Passed\n"
     ]
    }
   ],
   "source": [
    "def get_embed(input_data, vocab_size, embed_dim):\n",
    "    \"\"\"\n",
    "    Create embedding for <input_data>.\n",
    "    :param input_data: TF placeholder for text input.\n",
    "    :param vocab_size: Number of words in vocabulary.\n",
    "    :param embed_dim: Number of embedding dimensions\n",
    "    :return: Embedded input.\n",
    "    \"\"\"\n",
    "    # TODO: Implement Function\n",
    "    embedding = tf.Variable(tf.random_uniform((vocab_size, embed_dim), -1, 1))\n",
    "    embed = tf.nn.embedding_lookup(embedding, input_data)\n",
    "    return embed\n",
    "\n",
    "\n",
    "\"\"\"\n",
    "DON'T MODIFY ANYTHING IN THIS CELL THAT IS BELOW THIS LINE\n",
    "\"\"\"\n",
    "tests.test_get_embed(get_embed)"
   ]
  },
  {
   "cell_type": "markdown",
   "metadata": {
    "deletable": true,
    "editable": true
   },
   "source": [
    "### Build RNN\n",
    "You created a RNN Cell in the `get_init_cell()` function.  Time to use the cell to create a RNN.\n",
    "- Build the RNN using the [`tf.nn.dynamic_rnn()`](https://www.tensorflow.org/api_docs/python/tf/nn/dynamic_rnn)\n",
    " - Apply the name \"final_state\" to the final state using [`tf.identity()`](https://www.tensorflow.org/api_docs/python/tf/identity)\n",
    "\n",
    "Return the outputs and final_state state in the following tuple `(Outputs, FinalState)` "
   ]
  },
  {
   "cell_type": "code",
   "execution_count": 11,
   "metadata": {
    "collapsed": false,
    "deletable": true,
    "editable": true
   },
   "outputs": [
    {
     "name": "stdout",
     "output_type": "stream",
     "text": [
      "Tests Passed\n"
     ]
    }
   ],
   "source": [
    "def build_rnn(cell, inputs):\n",
    "    \"\"\"\n",
    "    Create a RNN using a RNN Cell\n",
    "    :param cell: RNN Cell\n",
    "    :param inputs: Input text data\n",
    "    :return: Tuple (Outputs, Final State)\n",
    "    \"\"\"\n",
    "    # TODO: Implement Function\n",
    "    outputs, final_state = tf.nn.dynamic_rnn(cell, inputs, dtype=tf.float32)\n",
    "    final_state = tf.identity(final_state, name='final_state')\n",
    "    return outputs, final_state\n",
    "\n",
    "\n",
    "\"\"\"\n",
    "DON'T MODIFY ANYTHING IN THIS CELL THAT IS BELOW THIS LINE\n",
    "\"\"\"\n",
    "tests.test_build_rnn(build_rnn)"
   ]
  },
  {
   "cell_type": "markdown",
   "metadata": {
    "deletable": true,
    "editable": true
   },
   "source": [
    "### Build the Neural Network\n",
    "Apply the functions you implemented above to:\n",
    "- Apply embedding to `input_data` using your `get_embed(input_data, vocab_size, embed_dim)` function.\n",
    "- Build RNN using `cell` and your `build_rnn(cell, inputs)` function.\n",
    "- Apply a fully connected layer with a linear activation and `vocab_size` as the number of outputs.\n",
    "\n",
    "Return the logits and final state in the following tuple (Logits, FinalState) "
   ]
  },
  {
   "cell_type": "code",
   "execution_count": 12,
   "metadata": {
    "collapsed": false,
    "deletable": true,
    "editable": true
   },
   "outputs": [
    {
     "name": "stdout",
     "output_type": "stream",
     "text": [
      "Tests Passed\n"
     ]
    }
   ],
   "source": [
    "def build_nn(cell, rnn_size, input_data, vocab_size, embed_dim):\n",
    "    \"\"\"\n",
    "    Build part of the neural network\n",
    "    :param cell: RNN cell\n",
    "    :param rnn_size: Size of rnns\n",
    "    :param input_data: Input data\n",
    "    :param vocab_size: Vocabulary size\n",
    "    :param embed_dim: Number of embedding dimensions\n",
    "    :return: Tuple (Logits, FinalState)\n",
    "    \"\"\"\n",
    "    # TODO: Implement Function\n",
    "\n",
    "    embed = get_embed(input_data, vocab_size, embed_dim)\n",
    "    rnn, final_state = build_rnn(cell, embed)\n",
    "    logits = tf.contrib.layers.fully_connected(rnn, vocab_size, activation_fn=None, \n",
    "                                               weights_initializer = tf.truncated_normal_initializer(stddev=0.1),\n",
    "                                               biases_initializer=tf.zeros_initializer())\n",
    "    return logits, final_state\n",
    "\n",
    "\n",
    "\"\"\"\n",
    "DON'T MODIFY ANYTHING IN THIS CELL THAT IS BELOW THIS LINE\n",
    "\"\"\"\n",
    "tests.test_build_nn(build_nn)"
   ]
  },
  {
   "cell_type": "markdown",
   "metadata": {
    "deletable": true,
    "editable": true
   },
   "source": [
    "### Batches\n",
    "Implement `get_batches` to create batches of input and targets using `int_text`.  The batches should be a Numpy array with the shape `(number of batches, 2, batch size, sequence length)`. Each batch contains two elements:\n",
    "- The first element is a single batch of **input** with the shape `[batch size, sequence length]`\n",
    "- The second element is a single batch of **targets** with the shape `[batch size, sequence length]`\n",
    "\n",
    "If you can't fill the last batch with enough data, drop the last batch.\n",
    "\n",
    "For exmple, `get_batches([1, 2, 3, 4, 5, 6, 7, 8, 9, 10, 11, 12, 13, 14, 15, 16, 17, 18, 19, 20], 3, 2)` would return a Numpy array of the following:\n",
    "```\n",
    "[\n",
    "  # First Batch\n",
    "  [\n",
    "    # Batch of Input\n",
    "    [[ 1  2], [ 7  8], [13 14]]\n",
    "    # Batch of targets\n",
    "    [[ 2  3], [ 8  9], [14 15]]\n",
    "  ]\n",
    "\n",
    "  # Second Batch\n",
    "  [\n",
    "    # Batch of Input\n",
    "    [[ 3  4], [ 9 10], [15 16]]\n",
    "    # Batch of targets\n",
    "    [[ 4  5], [10 11], [16 17]]\n",
    "  ]\n",
    "\n",
    "  # Third Batch\n",
    "  [\n",
    "    # Batch of Input\n",
    "    [[ 5  6], [11 12], [17 18]]\n",
    "    # Batch of targets\n",
    "    [[ 6  7], [12 13], [18  1]]\n",
    "  ]\n",
    "]\n",
    "```\n",
    "\n",
    "Notice that the last target value in the last batch is the first input value of the first batch. In this case, `1`. This is a common technique used when creating sequence batches, although it is rather unintuitive."
   ]
  },
  {
   "cell_type": "code",
   "execution_count": 13,
   "metadata": {
    "collapsed": false,
    "deletable": true,
    "editable": true
   },
   "outputs": [
    {
     "name": "stdout",
     "output_type": "stream",
     "text": [
      "Tests Passed\n"
     ]
    }
   ],
   "source": [
    "def get_batches(int_text, batch_size, seq_length):\n",
    "    \"\"\"\n",
    "    Return batches of input and target\n",
    "    :param int_text: Text with the words replaced by their ids\n",
    "    :param batch_size: The size of batch\n",
    "    :param seq_length: The length of sequence\n",
    "    :return: Batches as a Numpy array\n",
    "    \"\"\"\n",
    "    # TODO: Implement Function\n",
    "    n_batches = len(int_text) // (batch_size * seq_length)\n",
    "    batches = np.zeros((n_batches, 2, batch_size, seq_length))\n",
    "    matrix_size = batch_size * seq_length\n",
    "    text_inputs = int_text[:n_batches *matrix_size]\n",
    "    text_targets = text_inputs[1:] + [text_inputs[0]]\n",
    "    for c, i in enumerate(range(0, len(text_inputs), n_batches*seq_length)):    \n",
    "        final_idx = i+n_batches*seq_length\n",
    "        sequence_inputs = text_inputs[i:final_idx]\n",
    "        sequence_targets = text_targets[i:final_idx]\n",
    "        for cc, ii in enumerate(range(0, len(sequence_inputs), seq_length)):\n",
    "            final_inner_idx = ii+seq_length\n",
    "            sample_inputs = sequence_inputs[ii:final_inner_idx]\n",
    "            sample_targets = sequence_targets[ii:final_inner_idx]\n",
    "            batches[cc][0][c] = sample_inputs\n",
    "            batches[cc][1][c] = sample_targets\n",
    "    return np.array(batches)\n",
    "\n",
    "\n",
    "\"\"\"\n",
    "DON'T MODIFY ANYTHING IN THIS CELL THAT IS BELOW THIS LINE\n",
    "\"\"\"\n",
    "tests.test_get_batches(get_batches)"
   ]
  },
  {
   "cell_type": "markdown",
   "metadata": {
    "deletable": true,
    "editable": true
   },
   "source": [
    "## Neural Network Training\n",
    "### Hyperparameters\n",
    "Tune the following parameters:\n",
    "\n",
    "- Set `num_epochs` to the number of epochs.\n",
    "- Set `batch_size` to the batch size.\n",
    "- Set `rnn_size` to the size of the RNNs.\n",
    "- Set `embed_dim` to the size of the embedding.\n",
    "- Set `seq_length` to the length of sequence.\n",
    "- Set `learning_rate` to the learning rate.\n",
    "- Set `show_every_n_batches` to the number of batches the neural network should print progress."
   ]
  },
  {
   "cell_type": "code",
   "execution_count": 25,
   "metadata": {
    "collapsed": true,
    "deletable": true,
    "editable": true
   },
   "outputs": [],
   "source": [
    "# Number of Epochs\n",
    "num_epochs = 250\n",
    "# Batch Size\n",
    "batch_size = 128\n",
    "# RNN Size\n",
    "rnn_size = 256\n",
    "# Embedding Dimension Size\n",
    "embed_dim = rnn_size\n",
    "# Sequence Length\n",
    "seq_length = 10\n",
    "# Learning Rate\n",
    "learning_rate = 0.01\n",
    "# Show stats for every n number of batches\n",
    "show_every_n_batches = 100\n",
    "\n",
    "\"\"\"\n",
    "DON'T MODIFY ANYTHING IN THIS CELL THAT IS BELOW THIS LINE\n",
    "\"\"\"\n",
    "save_dir = './save'"
   ]
  },
  {
   "cell_type": "markdown",
   "metadata": {
    "deletable": true,
    "editable": true
   },
   "source": [
    "### Build the Graph\n",
    "Build the graph using the neural network you implemented."
   ]
  },
  {
   "cell_type": "code",
   "execution_count": 26,
   "metadata": {
    "collapsed": true,
    "deletable": true,
    "editable": true
   },
   "outputs": [],
   "source": [
    "\"\"\"\n",
    "DON'T MODIFY ANYTHING IN THIS CELL\n",
    "\"\"\"\n",
    "from tensorflow.contrib import seq2seq\n",
    "\n",
    "train_graph = tf.Graph()\n",
    "with train_graph.as_default():\n",
    "    vocab_size = len(int_to_vocab)\n",
    "    input_text, targets, lr = get_inputs()\n",
    "    input_data_shape = tf.shape(input_text)\n",
    "    cell, initial_state = get_init_cell(input_data_shape[0], rnn_size)\n",
    "    logits, final_state = build_nn(cell, rnn_size, input_text, vocab_size, embed_dim)\n",
    "\n",
    "    # Probabilities for generating words\n",
    "    probs = tf.nn.softmax(logits, name='probs')\n",
    "\n",
    "    # Loss function\n",
    "    cost = seq2seq.sequence_loss(\n",
    "        logits,\n",
    "        targets,\n",
    "        tf.ones([input_data_shape[0], input_data_shape[1]]))\n",
    "\n",
    "    # Optimizer\n",
    "    optimizer = tf.train.AdamOptimizer(lr)\n",
    "\n",
    "    # Gradient Clipping\n",
    "    gradients = optimizer.compute_gradients(cost)\n",
    "    capped_gradients = [(tf.clip_by_value(grad, -1., 1.), var) for grad, var in gradients if grad is not None]\n",
    "    train_op = optimizer.apply_gradients(capped_gradients)"
   ]
  },
  {
   "cell_type": "markdown",
   "metadata": {
    "deletable": true,
    "editable": true
   },
   "source": [
    "## Train\n",
    "Train the neural network on the preprocessed data.  If you have a hard time getting a good loss, check the [forums](https://discussions.udacity.com/) to see if anyone is having the same problem."
   ]
  },
  {
   "cell_type": "code",
   "execution_count": 27,
   "metadata": {
    "collapsed": false,
    "deletable": true,
    "editable": true
   },
   "outputs": [
    {
     "name": "stdout",
     "output_type": "stream",
     "text": [
      "Epoch   0 Batch    0/53   train_loss = 8.827\n",
      "Epoch   1 Batch   47/53   train_loss = 4.263\n",
      "Epoch   3 Batch   41/53   train_loss = 3.303\n",
      "Epoch   5 Batch   35/53   train_loss = 2.678\n",
      "Epoch   7 Batch   29/53   train_loss = 2.113\n",
      "Epoch   9 Batch   23/53   train_loss = 1.606\n",
      "Epoch  11 Batch   17/53   train_loss = 1.245\n",
      "Epoch  13 Batch   11/53   train_loss = 1.108\n",
      "Epoch  15 Batch    5/53   train_loss = 0.971\n",
      "Epoch  16 Batch   52/53   train_loss = 0.878\n",
      "Epoch  18 Batch   46/53   train_loss = 0.734\n",
      "Epoch  20 Batch   40/53   train_loss = 0.698\n",
      "Epoch  22 Batch   34/53   train_loss = 0.665\n",
      "Epoch  24 Batch   28/53   train_loss = 0.638\n",
      "Epoch  26 Batch   22/53   train_loss = 0.619\n",
      "Epoch  28 Batch   16/53   train_loss = 0.589\n",
      "Epoch  30 Batch   10/53   train_loss = 0.530\n",
      "Epoch  32 Batch    4/53   train_loss = 0.576\n",
      "Epoch  33 Batch   51/53   train_loss = 0.494\n",
      "Epoch  35 Batch   45/53   train_loss = 0.467\n",
      "Epoch  37 Batch   39/53   train_loss = 0.430\n",
      "Epoch  39 Batch   33/53   train_loss = 0.421\n",
      "Epoch  41 Batch   27/53   train_loss = 0.451\n",
      "Epoch  43 Batch   21/53   train_loss = 0.404\n",
      "Epoch  45 Batch   15/53   train_loss = 0.409\n",
      "Epoch  47 Batch    9/53   train_loss = 0.392\n",
      "Epoch  49 Batch    3/53   train_loss = 0.421\n",
      "Epoch  50 Batch   50/53   train_loss = 0.414\n",
      "Epoch  52 Batch   44/53   train_loss = 0.415\n",
      "Epoch  54 Batch   38/53   train_loss = 0.455\n",
      "Epoch  56 Batch   32/53   train_loss = 0.371\n",
      "Epoch  58 Batch   26/53   train_loss = 0.358\n",
      "Epoch  60 Batch   20/53   train_loss = 0.403\n",
      "Epoch  62 Batch   14/53   train_loss = 0.441\n",
      "Epoch  64 Batch    8/53   train_loss = 0.385\n",
      "Epoch  66 Batch    2/53   train_loss = 0.414\n",
      "Epoch  67 Batch   49/53   train_loss = 0.414\n",
      "Epoch  69 Batch   43/53   train_loss = 0.417\n",
      "Epoch  71 Batch   37/53   train_loss = 0.409\n",
      "Epoch  73 Batch   31/53   train_loss = 3.317\n",
      "Epoch  75 Batch   25/53   train_loss = 2.209\n",
      "Epoch  77 Batch   19/53   train_loss = 1.380\n",
      "Epoch  79 Batch   13/53   train_loss = 0.915\n",
      "Epoch  81 Batch    7/53   train_loss = 0.660\n",
      "Epoch  83 Batch    1/53   train_loss = 0.559\n",
      "Epoch  84 Batch   48/53   train_loss = 0.490\n",
      "Epoch  86 Batch   42/53   train_loss = 0.493\n",
      "Epoch  88 Batch   36/53   train_loss = 0.481\n",
      "Epoch  90 Batch   30/53   train_loss = 0.452\n",
      "Epoch  92 Batch   24/53   train_loss = 0.379\n",
      "Epoch  94 Batch   18/53   train_loss = 0.426\n",
      "Epoch  96 Batch   12/53   train_loss = 0.425\n",
      "Epoch  98 Batch    6/53   train_loss = 0.393\n",
      "Epoch 100 Batch    0/53   train_loss = 0.440\n",
      "Epoch 101 Batch   47/53   train_loss = 0.399\n",
      "Epoch 103 Batch   41/53   train_loss = 0.407\n",
      "Epoch 105 Batch   35/53   train_loss = 0.387\n",
      "Epoch 107 Batch   29/53   train_loss = 0.407\n",
      "Epoch 109 Batch   23/53   train_loss = 0.419\n",
      "Epoch 111 Batch   17/53   train_loss = 0.375\n",
      "Epoch 113 Batch   11/53   train_loss = 0.408\n",
      "Epoch 115 Batch    5/53   train_loss = 0.429\n",
      "Epoch 116 Batch   52/53   train_loss = 0.421\n",
      "Epoch 118 Batch   46/53   train_loss = 0.390\n",
      "Epoch 120 Batch   40/53   train_loss = 0.427\n",
      "Epoch 122 Batch   34/53   train_loss = 0.391\n",
      "Epoch 124 Batch   28/53   train_loss = 0.380\n",
      "Epoch 126 Batch   22/53   train_loss = 0.406\n",
      "Epoch 128 Batch   16/53   train_loss = 0.392\n",
      "Epoch 130 Batch   10/53   train_loss = 0.385\n",
      "Epoch 132 Batch    4/53   train_loss = 0.426\n",
      "Epoch 133 Batch   51/53   train_loss = 1.384\n",
      "Epoch 135 Batch   45/53   train_loss = 2.689\n",
      "Epoch 137 Batch   39/53   train_loss = 1.505\n",
      "Epoch 139 Batch   33/53   train_loss = 1.062\n",
      "Epoch 141 Batch   27/53   train_loss = 0.890\n",
      "Epoch 143 Batch   21/53   train_loss = 0.593\n",
      "Epoch 145 Batch   15/53   train_loss = 0.558\n",
      "Epoch 147 Batch    9/53   train_loss = 0.485\n",
      "Epoch 149 Batch    3/53   train_loss = 0.492\n",
      "Epoch 150 Batch   50/53   train_loss = 0.455\n",
      "Epoch 152 Batch   44/53   train_loss = 0.460\n",
      "Epoch 154 Batch   38/53   train_loss = 0.483\n",
      "Epoch 156 Batch   32/53   train_loss = 0.406\n",
      "Epoch 158 Batch   26/53   train_loss = 0.367\n",
      "Epoch 160 Batch   20/53   train_loss = 0.418\n",
      "Epoch 162 Batch   14/53   train_loss = 0.454\n",
      "Epoch 164 Batch    8/53   train_loss = 0.399\n",
      "Epoch 166 Batch    2/53   train_loss = 0.428\n",
      "Epoch 167 Batch   49/53   train_loss = 0.418\n",
      "Epoch 169 Batch   43/53   train_loss = 0.424\n",
      "Epoch 171 Batch   37/53   train_loss = 0.405\n",
      "Epoch 173 Batch   31/53   train_loss = 0.413\n",
      "Epoch 175 Batch   25/53   train_loss = 0.416\n",
      "Epoch 177 Batch   19/53   train_loss = 0.388\n",
      "Epoch 179 Batch   13/53   train_loss = 0.416\n",
      "Epoch 181 Batch    7/53   train_loss = 0.395\n",
      "Epoch 183 Batch    1/53   train_loss = 0.395\n",
      "Epoch 184 Batch   48/53   train_loss = 0.393\n",
      "Epoch 186 Batch   42/53   train_loss = 0.410\n",
      "Epoch 188 Batch   36/53   train_loss = 1.331\n",
      "Epoch 190 Batch   30/53   train_loss = 2.680\n",
      "Epoch 192 Batch   24/53   train_loss = 1.517\n",
      "Epoch 194 Batch   18/53   train_loss = 1.025\n",
      "Epoch 196 Batch   12/53   train_loss = 0.875\n",
      "Epoch 198 Batch    6/53   train_loss = 0.638\n",
      "Epoch 200 Batch    0/53   train_loss = 0.582\n",
      "Epoch 201 Batch   47/53   train_loss = 0.498\n",
      "Epoch 203 Batch   41/53   train_loss = 0.489\n",
      "Epoch 205 Batch   35/53   train_loss = 0.441\n",
      "Epoch 207 Batch   29/53   train_loss = 0.456\n",
      "Epoch 209 Batch   23/53   train_loss = 0.448\n",
      "Epoch 211 Batch   17/53   train_loss = 0.410\n",
      "Epoch 213 Batch   11/53   train_loss = 0.428\n",
      "Epoch 215 Batch    5/53   train_loss = 0.450\n",
      "Epoch 216 Batch   52/53   train_loss = 0.436\n",
      "Epoch 218 Batch   46/53   train_loss = 0.408\n",
      "Epoch 220 Batch   40/53   train_loss = 0.438\n",
      "Epoch 222 Batch   34/53   train_loss = 0.396\n",
      "Epoch 224 Batch   28/53   train_loss = 0.395\n",
      "Epoch 226 Batch   22/53   train_loss = 0.420\n",
      "Epoch 228 Batch   16/53   train_loss = 0.409\n",
      "Epoch 230 Batch   10/53   train_loss = 0.399\n",
      "Epoch 232 Batch    4/53   train_loss = 0.445\n",
      "Epoch 233 Batch   51/53   train_loss = 0.746\n",
      "Epoch 235 Batch   45/53   train_loss = 2.247\n",
      "Epoch 237 Batch   39/53   train_loss = 1.455\n",
      "Epoch 239 Batch   33/53   train_loss = 1.131\n",
      "Epoch 241 Batch   27/53   train_loss = 0.842\n",
      "Epoch 243 Batch   21/53   train_loss = 0.615\n",
      "Epoch 245 Batch   15/53   train_loss = 0.554\n",
      "Epoch 247 Batch    9/53   train_loss = 0.476\n",
      "Epoch 249 Batch    3/53   train_loss = 0.484\n",
      "Model Trained and Saved\n"
     ]
    }
   ],
   "source": [
    "\"\"\"\n",
    "DON'T MODIFY ANYTHING IN THIS CELL\n",
    "\"\"\"\n",
    "batches = get_batches(int_text, batch_size, seq_length)\n",
    "\n",
    "with tf.Session(graph=train_graph) as sess:\n",
    "    sess.run(tf.global_variables_initializer())\n",
    "\n",
    "    for epoch_i in range(num_epochs):\n",
    "        state = sess.run(initial_state, {input_text: batches[0][0]})\n",
    "\n",
    "        for batch_i, (x, y) in enumerate(batches):\n",
    "            feed = {\n",
    "                input_text: x,\n",
    "                targets: y,\n",
    "                initial_state: state,\n",
    "                lr: learning_rate}\n",
    "            train_loss, state, _ = sess.run([cost, final_state, train_op], feed)\n",
    "\n",
    "            # Show every <show_every_n_batches> batches\n",
    "            if (epoch_i * len(batches) + batch_i) % show_every_n_batches == 0:\n",
    "                print('Epoch {:>3} Batch {:>4}/{}   train_loss = {:.3f}'.format(\n",
    "                    epoch_i,\n",
    "                    batch_i,\n",
    "                    len(batches),\n",
    "                    train_loss))\n",
    "\n",
    "    # Save Model\n",
    "    saver = tf.train.Saver()\n",
    "    saver.save(sess, save_dir)\n",
    "    print('Model Trained and Saved')"
   ]
  },
  {
   "cell_type": "markdown",
   "metadata": {
    "deletable": true,
    "editable": true
   },
   "source": [
    "## Save Parameters\n",
    "Save `seq_length` and `save_dir` for generating a new TV script."
   ]
  },
  {
   "cell_type": "code",
   "execution_count": 28,
   "metadata": {
    "collapsed": true,
    "deletable": true,
    "editable": true
   },
   "outputs": [],
   "source": [
    "\"\"\"\n",
    "DON'T MODIFY ANYTHING IN THIS CELL\n",
    "\"\"\"\n",
    "# Save parameters for checkpoint\n",
    "helper.save_params((seq_length, save_dir))"
   ]
  },
  {
   "cell_type": "markdown",
   "metadata": {
    "deletable": true,
    "editable": true
   },
   "source": [
    "# Checkpoint"
   ]
  },
  {
   "cell_type": "code",
   "execution_count": 29,
   "metadata": {
    "collapsed": true,
    "deletable": true,
    "editable": true
   },
   "outputs": [],
   "source": [
    "\"\"\"\n",
    "DON'T MODIFY ANYTHING IN THIS CELL\n",
    "\"\"\"\n",
    "import tensorflow as tf\n",
    "import numpy as np\n",
    "import helper\n",
    "import problem_unittests as tests\n",
    "\n",
    "_, vocab_to_int, int_to_vocab, token_dict = helper.load_preprocess()\n",
    "seq_length, load_dir = helper.load_params()"
   ]
  },
  {
   "cell_type": "markdown",
   "metadata": {
    "deletable": true,
    "editable": true
   },
   "source": [
    "## Implement Generate Functions\n",
    "### Get Tensors\n",
    "Get tensors from `loaded_graph` using the function [`get_tensor_by_name()`](https://www.tensorflow.org/api_docs/python/tf/Graph#get_tensor_by_name).  Get the tensors using the following names:\n",
    "- \"input:0\"\n",
    "- \"initial_state:0\"\n",
    "- \"final_state:0\"\n",
    "- \"probs:0\"\n",
    "\n",
    "Return the tensors in the following tuple `(InputTensor, InitialStateTensor, FinalStateTensor, ProbsTensor)` "
   ]
  },
  {
   "cell_type": "code",
   "execution_count": 30,
   "metadata": {
    "collapsed": false,
    "deletable": true,
    "editable": true
   },
   "outputs": [
    {
     "name": "stdout",
     "output_type": "stream",
     "text": [
      "Tests Passed\n"
     ]
    }
   ],
   "source": [
    "def get_tensors(loaded_graph):\n",
    "    \"\"\"\n",
    "    Get input, initial state, final state, and probabilities tensor from <loaded_graph>\n",
    "    :param loaded_graph: TensorFlow graph loaded from file\n",
    "    :return: Tuple (InputTensor, InitialStateTensor, FinalStateTensor, ProbsTensor)\n",
    "    \"\"\"\n",
    "    # TODO: Implement Function\n",
    "    input = loaded_graph.get_tensor_by_name('input:0')\n",
    "    initial_state = loaded_graph.get_tensor_by_name('initial_state:0')\n",
    "    final_state = loaded_graph.get_tensor_by_name('final_state:0')\n",
    "    probs = loaded_graph.get_tensor_by_name('probs:0')\n",
    "    return input, initial_state, final_state, probs\n",
    "\n",
    "\n",
    "\"\"\"\n",
    "DON'T MODIFY ANYTHING IN THIS CELL THAT IS BELOW THIS LINE\n",
    "\"\"\"\n",
    "tests.test_get_tensors(get_tensors)"
   ]
  },
  {
   "cell_type": "markdown",
   "metadata": {
    "deletable": true,
    "editable": true
   },
   "source": [
    "### Choose Word\n",
    "Implement the `pick_word()` function to select the next word using `probabilities`."
   ]
  },
  {
   "cell_type": "code",
   "execution_count": 31,
   "metadata": {
    "collapsed": false,
    "deletable": true,
    "editable": true
   },
   "outputs": [
    {
     "name": "stdout",
     "output_type": "stream",
     "text": [
      "Tests Passed\n"
     ]
    }
   ],
   "source": [
    "def pick_word(probabilities, int_to_vocab):\n",
    "    \"\"\"\n",
    "    Pick the next word in the generated text\n",
    "    :param probabilities: Probabilites of the next word\n",
    "    :param int_to_vocab: Dictionary of word ids as the keys and words as the values\n",
    "    :return: String of the predicted word\n",
    "    \"\"\"\n",
    "    # TODO: Implement Function\n",
    "    x=np.random.choice(len(probabilities), 30, p=probabilities)    \n",
    "    return int_to_vocab[x[0]]\n",
    "\n",
    "\n",
    "\"\"\"\n",
    "DON'T MODIFY ANYTHING IN THIS CELL THAT IS BELOW THIS LINE\n",
    "\"\"\"\n",
    "tests.test_pick_word(pick_word)"
   ]
  },
  {
   "cell_type": "markdown",
   "metadata": {
    "deletable": true,
    "editable": true
   },
   "source": [
    "## Generate TV Script\n",
    "This will generate the TV script for you.  Set `gen_length` to the length of TV script you want to generate."
   ]
  },
  {
   "cell_type": "code",
   "execution_count": 32,
   "metadata": {
    "collapsed": false,
    "deletable": true,
    "editable": true
   },
   "outputs": [
    {
     "name": "stdout",
     "output_type": "stream",
     "text": [
      "moe_szyslak: you heard 'im, fleabag. get outta my bar to my new card! and that was\" the truck barney thanks for a life of watching.\n",
      "\n",
      "\n",
      "marge_simpson: we got a lot.\n",
      "moe_szyslak: oh, yeah.\n",
      "seymour_skinner:(sighs) lenny, i am so late.\n",
      "carl_carlson: me give you, then you can. carl, ya--(whip crack)\n",
      "hank_williams_jr. : she got a home and does that are we the designated drivers?\n",
      "moe_szyslak: a sneeze guard.\n",
      "moe_szyslak: wow, that's the second is now, you were it.\n",
      "homer_simpson:(big smile, stagy) this is so much home today...\n",
      "moe_szyslak:(excited) then we go to the graveyard?\n",
      "homer_simpson: sorry, moe.\n",
      "moe_szyslak: hey, hey. no kids in the ladies' turlet.\n",
      "homer_simpson: you know, moe, i never dreamed that in the bar, all right now\".\n",
      "moe_szyslak: what? why you go... to something incriminating(angry) your face, moe.\n"
     ]
    }
   ],
   "source": [
    "gen_length = 200\n",
    "# homer_simpson, moe_szyslak, or Barney_Gumble\n",
    "prime_word = 'moe_szyslak'\n",
    "\n",
    "\"\"\"\n",
    "DON'T MODIFY ANYTHING IN THIS CELL THAT IS BELOW THIS LINE\n",
    "\"\"\"\n",
    "loaded_graph = tf.Graph()\n",
    "with tf.Session(graph=loaded_graph) as sess:\n",
    "    # Load saved model\n",
    "    loader = tf.train.import_meta_graph(load_dir + '.meta')\n",
    "    loader.restore(sess, load_dir)\n",
    "\n",
    "    # Get Tensors from loaded model\n",
    "    input_text, initial_state, final_state, probs = get_tensors(loaded_graph)\n",
    "\n",
    "    # Sentences generation setup\n",
    "    gen_sentences = [prime_word + ':']\n",
    "    prev_state = sess.run(initial_state, {input_text: np.array([[1]])})\n",
    "\n",
    "    # Generate sentences\n",
    "    for n in range(gen_length):\n",
    "        # Dynamic Input\n",
    "        dyn_input = [[vocab_to_int[word] for word in gen_sentences[-seq_length:]]]\n",
    "        dyn_seq_length = len(dyn_input[0])\n",
    "\n",
    "        # Get Prediction\n",
    "        probabilities, prev_state = sess.run(\n",
    "            [probs, final_state],\n",
    "            {input_text: dyn_input, initial_state: prev_state})\n",
    "        \n",
    "        pred_word = pick_word(probabilities[dyn_seq_length-1], int_to_vocab)\n",
    "\n",
    "        gen_sentences.append(pred_word)\n",
    "    \n",
    "    # Remove tokens\n",
    "    tv_script = ' '.join(gen_sentences)\n",
    "    for key, token in token_dict.items():\n",
    "        ending = ' ' if key in ['\\n', '(', '\"'] else ''\n",
    "        tv_script = tv_script.replace(' ' + token.lower(), key)\n",
    "    tv_script = tv_script.replace('\\n ', '\\n')\n",
    "    tv_script = tv_script.replace('( ', '(')\n",
    "        \n",
    "    print(tv_script)"
   ]
  },
  {
   "cell_type": "markdown",
   "metadata": {
    "deletable": true,
    "editable": true
   },
   "source": [
    "# The TV Script is Nonsensical\n",
    "It's ok if the TV script doesn't make any sense.  We trained on less than a megabyte of text.  In order to get good results, you'll have to use a smaller vocabulary or get more data.  Luckly there's more data!  As we mentioned in the begging of this project, this is a subset of [another dataset](https://www.kaggle.com/wcukierski/the-simpsons-by-the-data).  We didn't have you train on all the data, because that would take too long.  However, you are free to train your neural network on all the data.  After you complete the project, of course.\n",
    "# Submitting This Project\n",
    "When submitting this project, make sure to run all the cells before saving the notebook. Save the notebook file as \"dlnd_tv_script_generation.ipynb\" and save it as a HTML file under \"File\" -> \"Download as\". Include the \"helper.py\" and \"problem_unittests.py\" files in your submission."
   ]
  }
 ],
 "metadata": {
  "anaconda-cloud": {},
  "kernelspec": {
   "display_name": "Python 3",
   "language": "python",
   "name": "python3"
  },
  "language_info": {
   "codemirror_mode": {
    "name": "ipython",
    "version": 3
   },
   "file_extension": ".py",
   "mimetype": "text/x-python",
   "name": "python",
   "nbconvert_exporter": "python",
   "pygments_lexer": "ipython3",
   "version": "3.5.3"
  },
  "widgets": {
   "state": {},
   "version": "1.1.2"
  }
 },
 "nbformat": 4,
 "nbformat_minor": 1
}
